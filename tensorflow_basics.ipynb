{
 "cells": [
  {
   "cell_type": "code",
   "execution_count": 1,
   "metadata": {
    "collapsed": true
   },
   "outputs": [],
   "source": [
    "# install tensorflow using pip\n",
    "# pip3 install tensorflow \n",
    "# or \n",
    "# # pip3 install tensorflow-gpu"
   ]
  },
  {
   "cell_type": "code",
   "execution_count": 1,
   "metadata": {
    "collapsed": true
   },
   "outputs": [],
   "source": [
    "# if you want to skip local installation, use cocalc.com\n",
    "# sign-up with GitHub/Google\n",
    "# 1) create new project\n",
    "# 2) choose JupyterNotebook as type\n",
    "# 3) go to \"Kernel\" menu, and choose Python 3 (Anaconda)\n",
    "# Now you have an IpythonPython Notebook with tensorflow installed, running in the Cloud"
   ]
  },
  {
   "cell_type": "code",
   "execution_count": 1,
   "metadata": {
    "collapsed": true
   },
   "outputs": [],
   "source": [
    "# let's import tensorflow as tf\n",
    "import tensorflow as tf"
   ]
  },
  {
   "cell_type": "code",
   "execution_count": 1,
   "metadata": {
    "collapsed": true
   },
   "outputs": [],
   "source": [
    "# let's look at tensorflow types"
   ]
  },
  {
   "cell_type": "code",
   "execution_count": 5,
   "metadata": {
    "collapsed": false
   },
   "outputs": [],
   "source": [
    "# constants in tensorflow are variables that contain fixed values given on their creation\n",
    "V1 = tf.constant([1.,2.])\n",
    "# you can also pass explicit names \n",
    "V2 = tf.constant([3.,4.], name='const_V2')"
   ]
  },
  {
   "cell_type": "code",
   "execution_count": 6,
   "metadata": {
    "collapsed": true
   },
   "outputs": [],
   "source": [
    "# name arguments are useful if you want to save your variables to a binary file\n",
    "# they are also used in TensorBoard, a visual representation of Tensorflow calculations (we will get to it later)"
   ]
  },
  {
   "cell_type": "code",
   "execution_count": 7,
   "metadata": {
    "collapsed": false
   },
   "outputs": [
    {
     "name": "stdout",
     "output_type": "stream",
     "text": [
      "Tensor(\"Const:0\", shape=(2,), dtype=float32)\n",
      "Tensor(\"const_V2:0\", shape=(2,), dtype=float32)\n"
     ]
    }
   ],
   "source": [
    "# these types produce tensors, tensor is a typed multy-dimensional array\n",
    "print(V1)\n",
    "print(V2)"
   ]
  },
  {
   "cell_type": "code",
   "execution_count": 8,
   "metadata": {
    "collapsed": false,
    "scrolled": true
   },
   "outputs": [
    {
     "name": "stdout",
     "output_type": "stream",
     "text": [
      "Tensor(\"add:0\", shape=(2,), dtype=float32)\n",
      "Tensor(\"mul:0\", shape=(2,), dtype=float32)\n"
     ]
    }
   ],
   "source": [
    "# you can then conduct various operations on your tensors\n",
    "V3 = V1 + V2\n",
    "V4 = V1 * V2\n",
    "print(V3)\n",
    "print(V4)"
   ]
  },
  {
   "cell_type": "code",
   "execution_count": 9,
   "metadata": {
    "collapsed": false,
    "scrolled": false
   },
   "outputs": [
    {
     "ename": "ValueError",
     "evalue": "Cannot evaluate tensor using `eval()`: No default session is registered. Use `with sess.as_default()` or pass an explicit session to `eval(session=sess)`",
     "output_type": "error",
     "traceback": [
      "\u001b[0;31m---------------------------------------------------------------------------\u001b[0m",
      "\u001b[0;31mValueError\u001b[0m                                Traceback (most recent call last)",
      "\u001b[0;32m<ipython-input-9-bfe17556573d>\u001b[0m in \u001b[0;36m<module>\u001b[0;34m()\u001b[0m\n\u001b[1;32m      1\u001b[0m \u001b[1;31m# the results won't be calculated, you need to call .eval() first\u001b[0m\u001b[1;33m\u001b[0m\u001b[1;33m\u001b[0m\u001b[0m\n\u001b[0;32m----> 2\u001b[0;31m \u001b[0mV3\u001b[0m\u001b[1;33m.\u001b[0m\u001b[0meval\u001b[0m\u001b[1;33m(\u001b[0m\u001b[1;33m)\u001b[0m\u001b[1;33m\u001b[0m\u001b[0m\n\u001b[0m\u001b[1;32m      3\u001b[0m \u001b[0mV4\u001b[0m\u001b[1;33m.\u001b[0m\u001b[0meval\u001b[0m\u001b[1;33m(\u001b[0m\u001b[1;33m)\u001b[0m\u001b[1;33m\u001b[0m\u001b[0m\n",
      "\u001b[0;32mJ:\\Anaconda_Python3_6\\lib\\site-packages\\tensorflow\\python\\framework\\ops.py\u001b[0m in \u001b[0;36meval\u001b[0;34m(self, feed_dict, session)\u001b[0m\n\u001b[1;32m    567\u001b[0m \u001b[1;33m\u001b[0m\u001b[0m\n\u001b[1;32m    568\u001b[0m     \"\"\"\n\u001b[0;32m--> 569\u001b[0;31m     \u001b[1;32mreturn\u001b[0m \u001b[0m_eval_using_default_session\u001b[0m\u001b[1;33m(\u001b[0m\u001b[0mself\u001b[0m\u001b[1;33m,\u001b[0m \u001b[0mfeed_dict\u001b[0m\u001b[1;33m,\u001b[0m \u001b[0mself\u001b[0m\u001b[1;33m.\u001b[0m\u001b[0mgraph\u001b[0m\u001b[1;33m,\u001b[0m \u001b[0msession\u001b[0m\u001b[1;33m)\u001b[0m\u001b[1;33m\u001b[0m\u001b[0m\n\u001b[0m\u001b[1;32m    570\u001b[0m \u001b[1;33m\u001b[0m\u001b[0m\n\u001b[1;32m    571\u001b[0m \u001b[1;33m\u001b[0m\u001b[0m\n",
      "\u001b[0;32mJ:\\Anaconda_Python3_6\\lib\\site-packages\\tensorflow\\python\\framework\\ops.py\u001b[0m in \u001b[0;36m_eval_using_default_session\u001b[0;34m(tensors, feed_dict, graph, session)\u001b[0m\n\u001b[1;32m   3725\u001b[0m     \u001b[0msession\u001b[0m \u001b[1;33m=\u001b[0m \u001b[0mget_default_session\u001b[0m\u001b[1;33m(\u001b[0m\u001b[1;33m)\u001b[0m\u001b[1;33m\u001b[0m\u001b[0m\n\u001b[1;32m   3726\u001b[0m     \u001b[1;32mif\u001b[0m \u001b[0msession\u001b[0m \u001b[1;32mis\u001b[0m \u001b[1;32mNone\u001b[0m\u001b[1;33m:\u001b[0m\u001b[1;33m\u001b[0m\u001b[0m\n\u001b[0;32m-> 3727\u001b[0;31m       raise ValueError(\"Cannot evaluate tensor using `eval()`: No default \"\n\u001b[0m\u001b[1;32m   3728\u001b[0m                        \u001b[1;34m\"session is registered. Use `with \"\u001b[0m\u001b[1;33m\u001b[0m\u001b[0m\n\u001b[1;32m   3729\u001b[0m                        \u001b[1;34m\"sess.as_default()` or pass an explicit session to \"\u001b[0m\u001b[1;33m\u001b[0m\u001b[0m\n",
      "\u001b[0;31mValueError\u001b[0m: Cannot evaluate tensor using `eval()`: No default session is registered. Use `with sess.as_default()` or pass an explicit session to `eval(session=sess)`"
     ]
    }
   ],
   "source": [
    "# the results won't be calculated, you need to call .eval() first\n",
    "V3.eval()\n",
    "V4.eval()"
   ]
  },
  {
   "cell_type": "code",
   "execution_count": 10,
   "metadata": {
    "collapsed": true
   },
   "outputs": [],
   "source": [
    "# that didn't work, all operations are evaluated within sessions\n",
    "# let's create a session first\n",
    "sess = tf.Session()"
   ]
  },
  {
   "cell_type": "code",
   "execution_count": 11,
   "metadata": {
    "collapsed": false
   },
   "outputs": [
    {
     "name": "stdout",
     "output_type": "stream",
     "text": [
      "Tensor(\"add_1:0\", shape=(2,), dtype=float32)\n",
      "Tensor(\"mul_1:0\", shape=(2,), dtype=float32)\n"
     ]
    }
   ],
   "source": [
    "V3 = V1 + V2\n",
    "print(V3)\n",
    "V4 = V1 * V2\n",
    "print(V4)"
   ]
  },
  {
   "cell_type": "code",
   "execution_count": 12,
   "metadata": {
    "collapsed": false
   },
   "outputs": [
    {
     "data": {
      "text/plain": [
       "array([ 4.,  6.], dtype=float32)"
      ]
     },
     "execution_count": 12,
     "metadata": {},
     "output_type": "execute_result"
    }
   ],
   "source": [
    "V3.eval(session=sess)"
   ]
  },
  {
   "cell_type": "code",
   "execution_count": 13,
   "metadata": {
    "collapsed": false
   },
   "outputs": [
    {
     "data": {
      "text/plain": [
       "array([ 3.,  8.], dtype=float32)"
      ]
     },
     "execution_count": 13,
     "metadata": {},
     "output_type": "execute_result"
    }
   ],
   "source": [
    "V4.eval(session=sess)"
   ]
  },
  {
   "cell_type": "code",
   "execution_count": 14,
   "metadata": {
    "collapsed": false
   },
   "outputs": [],
   "source": [
    "# close the session\n",
    "sess.close()"
   ]
  },
  {
   "cell_type": "code",
   "execution_count": 15,
   "metadata": {
    "collapsed": true
   },
   "outputs": [],
   "source": [
    "# interactive sessions can save you a lot of time\n",
    "sess = tf.InteractiveSession()"
   ]
  },
  {
   "cell_type": "code",
   "execution_count": 16,
   "metadata": {
    "collapsed": false
   },
   "outputs": [],
   "source": [
    "V3 = V1 + V2\n",
    "V4 = V1 * V2"
   ]
  },
  {
   "cell_type": "code",
   "execution_count": 17,
   "metadata": {
    "collapsed": false
   },
   "outputs": [
    {
     "data": {
      "text/plain": [
       "array([ 4.,  6.], dtype=float32)"
      ]
     },
     "execution_count": 17,
     "metadata": {},
     "output_type": "execute_result"
    }
   ],
   "source": [
    "# now we don't need to care about passing sessions\n",
    "V3.eval()"
   ]
  },
  {
   "cell_type": "code",
   "execution_count": 18,
   "metadata": {
    "collapsed": false
   },
   "outputs": [],
   "source": [
    "# working with placeholders\n",
    "import numpy as np\n",
    "# basically, we define the size and what the input type is\n",
    "# at run time we initialize placeholders with data\n",
    "x = tf.placeholder(tf.float32, shape=(1024, 1024))\n",
    "y = tf.matmul(x, x)"
   ]
  },
  {
   "cell_type": "code",
   "execution_count": 19,
   "metadata": {
    "collapsed": false
   },
   "outputs": [],
   "source": [
    "# create a random array\n",
    "rand_array = np.random.rand(1024, 1024)"
   ]
  },
  {
   "cell_type": "code",
   "execution_count": 20,
   "metadata": {
    "collapsed": false
   },
   "outputs": [
    {
     "name": "stdout",
     "output_type": "stream",
     "text": [
      "[[ 254.09716797  247.88801575  254.52276611 ...,  261.5848999   255.67315674\n",
      "   255.39112854]\n",
      " [ 250.11578369  251.37139893  255.15646362 ...,  259.06921387\n",
      "   253.17379761  250.46192932]\n",
      " [ 249.11831665  250.2061615   254.80471802 ...,  252.65379333\n",
      "   245.43525696  256.53482056]\n",
      " ..., \n",
      " [ 253.9072113   250.64958191  251.12947083 ...,  256.73382568\n",
      "   255.12088013  253.43313599]\n",
      " [ 246.02236938  244.79321289  252.03427124 ...,  251.02786255\n",
      "   246.66542053  241.8664856 ]\n",
      " [ 246.4881134   249.84683228  251.52076721 ...,  257.9914856   249.4393158\n",
      "   247.25868225]]\n"
     ]
    }
   ],
   "source": [
    "# feed x with values\n",
    "# this can only be done within sess.run(), the values are fed with \"feed_dict\" argument\n",
    "print(sess.run(y, feed_dict={x: rand_array}))"
   ]
  },
  {
   "cell_type": "code",
   "execution_count": 21,
   "metadata": {
    "collapsed": false
   },
   "outputs": [],
   "source": [
    "# another data type in Tensorflow in tf.Variable\n",
    "# these are not constant, the values can be changed using .assign() method\n",
    "w = tf.Variable([1.,3.], name='variable_w')"
   ]
  },
  {
   "cell_type": "code",
   "execution_count": 22,
   "metadata": {
    "collapsed": false
   },
   "outputs": [
    {
     "data": {
      "text/plain": [
       "<tf.Tensor 'Assign:0' shape=(2,) dtype=float32_ref>"
      ]
     },
     "execution_count": 22,
     "metadata": {},
     "output_type": "execute_result"
    }
   ],
   "source": [
    "w.assign(w + 1.1)  # or w.assign_add(.1)"
   ]
  },
  {
   "cell_type": "code",
   "execution_count": 23,
   "metadata": {
    "collapsed": false
   },
   "outputs": [],
   "source": [
    "# now how do I get the value of w?"
   ]
  },
  {
   "cell_type": "code",
   "execution_count": 24,
   "metadata": {
    "collapsed": true
   },
   "outputs": [],
   "source": [
    "# we would need to initialize our w Variable for it to be used in our computations"
   ]
  },
  {
   "cell_type": "code",
   "execution_count": 25,
   "metadata": {
    "collapsed": false
   },
   "outputs": [
    {
     "name": "stdout",
     "output_type": "stream",
     "text": [
      "[ 1.  3.]\n"
     ]
    }
   ],
   "source": [
    "# let's launch the graph in a session\n",
    "with tf.Session() as sess:\n",
    "    sess.run(w.initializer)\n",
    "    print(w.eval())"
   ]
  },
  {
   "cell_type": "code",
   "execution_count": 26,
   "metadata": {
    "collapsed": false
   },
   "outputs": [
    {
     "name": "stdout",
     "output_type": "stream",
     "text": [
      "[ 1.10000002  3.0999999 ]\n",
      "[ 1.10000002  3.0999999 ]\n"
     ]
    }
   ],
   "source": [
    "# our w wasn't changed even though we called .assign() on it\n",
    "# it needs to be initialized before we assign new values to it\n",
    "with tf.Session() as sess:\n",
    "    sess.run(w.initializer)\n",
    "    print(w.assign(w + .1).eval())\n",
    "    print(w.eval())"
   ]
  },
  {
   "cell_type": "code",
   "execution_count": 27,
   "metadata": {
    "collapsed": false
   },
   "outputs": [],
   "source": [
    "# what if we have multiple variables, do we have to initialize each of them?\n",
    "w = tf.Variable([1.,3.], name='variable_1')\n",
    "w2 = tf.Variable([2.,4.], name='variable_2')"
   ]
  },
  {
   "cell_type": "code",
   "execution_count": 28,
   "metadata": {
    "collapsed": false
   },
   "outputs": [
    {
     "name": "stdout",
     "output_type": "stream",
     "text": [
      "[ 1.  3.]\n",
      "[ 2.  4.]\n"
     ]
    }
   ],
   "source": [
    "# of course not, we can add an operation to initialize all variables we might have\n",
    "init_op = tf.global_variables_initializer()\n",
    "with tf.Session() as sess:\n",
    "    sess.run(init_op)\n",
    "    print(w.eval())\n",
    "    print(w2.eval())"
   ]
  },
  {
   "cell_type": "code",
   "execution_count": 29,
   "metadata": {
    "collapsed": true
   },
   "outputs": [],
   "source": [
    "# let's start a new session\n",
    "sess = tf.InteractiveSession()"
   ]
  },
  {
   "cell_type": "code",
   "execution_count": 30,
   "metadata": {
    "collapsed": false
   },
   "outputs": [],
   "source": [
    "# Python tensorflow, has all the same caveats Python has\n",
    "a = tf.constant(23)\n",
    "b = tf.constant(11)\n",
    "c = tf.div(a,b)"
   ]
  },
  {
   "cell_type": "code",
   "execution_count": 31,
   "metadata": {
    "collapsed": false
   },
   "outputs": [
    {
     "data": {
      "text/plain": [
       "2"
      ]
     },
     "execution_count": 31,
     "metadata": {},
     "output_type": "execute_result"
    }
   ],
   "source": [
    "# what will this evaluate to?\n",
    "c.eval()"
   ]
  },
  {
   "cell_type": "code",
   "execution_count": 32,
   "metadata": {
    "collapsed": false
   },
   "outputs": [
    {
     "data": {
      "text/plain": [
       "2.0909090909090908"
      ]
     },
     "execution_count": 32,
     "metadata": {},
     "output_type": "execute_result"
    }
   ],
   "source": [
    "# use truediv instead\n",
    "c = tf.truediv(a,b)\n",
    "c.eval()"
   ]
  },
  {
   "cell_type": "code",
   "execution_count": 33,
   "metadata": {
    "collapsed": true
   },
   "outputs": [],
   "source": [
    "# The computations in Tensorflow are saved as Directed graphs"
   ]
  },
  {
   "cell_type": "code",
   "execution_count": 43,
   "metadata": {
    "collapsed": false
   },
   "outputs": [
    {
     "data": {
      "text/html": [
       "<img src=\"https://www.tensorflow.org/images/tensors_flowing.gif\"/>"
      ],
      "text/plain": [
       "<IPython.core.display.Image object>"
      ]
     },
     "execution_count": 43,
     "metadata": {},
     "output_type": "execute_result"
    }
   ],
   "source": [
    "from IPython.display import Image\n",
    "Image(url='https://www.tensorflow.org/images/tensors_flowing.gif')"
   ]
  },
  {
   "cell_type": "code",
   "execution_count": 44,
   "metadata": {
    "collapsed": true
   },
   "outputs": [],
   "source": [
    "# to visualize your graphs, you can use TensorBoard\n",
    "# the name arguments are used here to help you identify your variables\n",
    "# and this helps you take a more detailed look into the computations your Deep Learning model is going through"
   ]
  },
  {
   "cell_type": "code",
   "execution_count": 45,
   "metadata": {
    "collapsed": false
   },
   "outputs": [
    {
     "data": {
      "text/html": [
       "<img src=\"https://www.tensorflow.org/images/graph_vis_animation.gif\"/>"
      ],
      "text/plain": [
       "<IPython.core.display.Image object>"
      ]
     },
     "execution_count": 45,
     "metadata": {},
     "output_type": "execute_result"
    }
   ],
   "source": [
    "from IPython.display import Image\n",
    "Image(url='https://www.tensorflow.org/images/graph_vis_animation.gif')"
   ]
  },
  {
   "cell_type": "code",
   "execution_count": 46,
   "metadata": {
    "collapsed": true
   },
   "outputs": [],
   "source": [
    "# you can define your values within scopes, to help declutter the visualization\n",
    "# in TensorBoard all underlying variables will be collapsed under 'hidden' node label\n",
    "with tf.name_scope('hidden') as scope:\n",
    "  a = tf.constant(5, name='alpha')\n",
    "  W = tf.Variable(tf.random_uniform([1, 2], -1.0, 1.0), name='weights')\n",
    "  b = tf.Variable(tf.zeros([1]), name='biases')"
   ]
  },
  {
   "cell_type": "code",
   "execution_count": 47,
   "metadata": {
    "collapsed": false
   },
   "outputs": [],
   "source": [
    "# to start your TensorBoard, you would first need to dump your data to disk\n",
    "writer = tf.summary.FileWriter(\"/tmp\")\n",
    "writer.add_graph(sess.graph)"
   ]
  },
  {
   "cell_type": "code",
   "execution_count": 48,
   "metadata": {
    "collapsed": true
   },
   "outputs": [],
   "source": [
    "# then run tensorboard from the terminal\n",
    "# tensorboard --logdir /tmp"
   ]
  },
  {
   "cell_type": "code",
   "execution_count": 49,
   "metadata": {
    "collapsed": true
   },
   "outputs": [],
   "source": [
    "# but why not visualize it directly in our Jupyter Notebook?"
   ]
  },
  {
   "cell_type": "code",
   "execution_count": 5,
   "metadata": {
    "collapsed": false
   },
   "outputs": [],
   "source": [
    "# let's use this hacky way to do it!\n",
    "# courtesy of Deepdream \n",
    "# https://github.com/tensorflow/tensorflow/blob/master/tensorflow/examples/tutorials/deepdream/deepdream.ipynb\n",
    "\n",
    "from IPython.display import clear_output, Image, display, HTML\n",
    "\n",
    "def strip_consts(graph_def, max_const_size=32):\n",
    "    \"\"\"Strip large constant values from graph_def.\"\"\"\n",
    "    strip_def = tf.GraphDef()\n",
    "    for n0 in graph_def.node:\n",
    "        n = strip_def.node.add() \n",
    "        n.MergeFrom(n0)\n",
    "        if n.op == 'Const':\n",
    "            tensor = n.attr['value'].tensor\n",
    "            size = len(tensor.tensor_content)\n",
    "            if size > max_const_size:\n",
    "                tensor.tensor_content = \"<stripped %d bytes>\"%size\n",
    "    return strip_def\n",
    "\n",
    "def show_graph(graph_def, max_const_size=32):\n",
    "    \"\"\"Visualize TensorFlow graph.\"\"\"\n",
    "    if hasattr(graph_def, 'as_graph_def'):\n",
    "        graph_def = graph_def.as_graph_def()\n",
    "    strip_def = strip_consts(graph_def, max_const_size=max_const_size)\n",
    "    code = \"\"\"\n",
    "        <script>\n",
    "          function load() {{\n",
    "            document.getElementById(\"{id}\").pbtxt = {data};\n",
    "          }}\n",
    "        </script>\n",
    "        <link rel=\"import\" href=\"https://tensorboard.appspot.com/tf-graph-basic.build.html\" onload=load()>\n",
    "        <div style=\"height:600px\">\n",
    "          <tf-graph-basic id=\"{id}\"></tf-graph-basic>\n",
    "        </div>\n",
    "    \"\"\".format(data=repr(str(strip_def)), id='graph'+str(np.random.rand()))\n",
    "\n",
    "    iframe = \"\"\"\n",
    "        <iframe seamless style=\"width:1200px;height:620px;border:0\" srcdoc=\"{}\"></iframe>\n",
    "    \"\"\".format(code.replace('\"', '&quot;'))\n",
    "    display(HTML(iframe))"
   ]
  },
  {
   "cell_type": "code",
   "execution_count": 6,
   "metadata": {
    "collapsed": false
   },
   "outputs": [
    {
     "ename": "NameError",
     "evalue": "name 'tf' is not defined",
     "output_type": "error",
     "traceback": [
      "\u001b[0;31m---------------------------------------------------------------------------\u001b[0m",
      "\u001b[0;31mNameError\u001b[0m                                 Traceback (most recent call last)",
      "\u001b[0;32m<ipython-input-6-a26b34254314>\u001b[0m in \u001b[0;36m<module>\u001b[0;34m()\u001b[0m\n\u001b[1;32m      1\u001b[0m \u001b[1;31m# let's see what graphs we have logged today so far\u001b[0m\u001b[1;33m\u001b[0m\u001b[1;33m\u001b[0m\u001b[0m\n\u001b[1;32m      2\u001b[0m \u001b[1;31m# our hidden scope has been created and we can open it to look what's inside\u001b[0m\u001b[1;33m\u001b[0m\u001b[1;33m\u001b[0m\u001b[0m\n\u001b[0;32m----> 3\u001b[0;31m \u001b[0mshow_graph\u001b[0m\u001b[1;33m(\u001b[0m\u001b[0mtf\u001b[0m\u001b[1;33m.\u001b[0m\u001b[0mget_default_graph\u001b[0m\u001b[1;33m(\u001b[0m\u001b[1;33m)\u001b[0m\u001b[1;33m.\u001b[0m\u001b[0mas_graph_def\u001b[0m\u001b[1;33m(\u001b[0m\u001b[1;33m)\u001b[0m\u001b[1;33m)\u001b[0m\u001b[1;33m\u001b[0m\u001b[0m\n\u001b[0m",
      "\u001b[0;31mNameError\u001b[0m: name 'tf' is not defined"
     ]
    }
   ],
   "source": [
    "# let's see what graphs we have logged today so far\n",
    "# our hidden scope has been created and we can open it to look what's inside\n",
    "show_graph(tf.get_default_graph().as_graph_def())"
   ]
  },
  {
   "cell_type": "code",
   "execution_count": 4,
   "metadata": {
    "collapsed": false
   },
   "outputs": [
    {
     "data": {
      "image/jpeg": "[encoded data removed]",
      "text/html": [
       "\n",
       "        <iframe\n",
       "            width=\"400\"\n",
       "            height=\"300\"\n",
       "            src=\"https://www.youtube.com/embed/eBbEDRsCmv4?autoplay=0&theme=dark&color=red\"\n",
       "            frameborder=\"0\"\n",
       "            allowfullscreen\n",
       "        ></iframe>\n",
       "        "
      ],
      "text/plain": [
       "<IPython.lib.display.YouTubeVideo at 0x290ccdf8d68>"
      ]
     },
     "execution_count": 4,
     "metadata": {},
     "output_type": "execute_result"
    }
   ],
   "source": [
    "# to find out more about TensorBoard at \n",
    "# https://www.tensorflow.org/get_started/graph_viz \n",
    "# and watch this presentation:\n",
    "from IPython.display import YouTubeVideo\n",
    "YouTubeVideo(\"eBbEDRsCmv4\", autoplay=0, theme=\"dark\", color=\"red\")"
   ]
  },
  {
   "cell_type": "code",
   "execution_count": null,
   "metadata": {
    "collapsed": true
   },
   "outputs": [],
   "source": []
  },
  {
   "cell_type": "code",
   "execution_count": 53,
   "metadata": {
    "collapsed": true
   },
   "outputs": [],
   "source": [
    "# so, since we now know some basics let's jump into Deep Learning with Tensorflow"
   ]
  },
  {
   "cell_type": "code",
   "execution_count": 54,
   "metadata": {
    "collapsed": true
   },
   "outputs": [],
   "source": [
    "# TODO"
   ]
  },
  {
   "cell_type": "code",
   "execution_count": null,
   "metadata": {
    "collapsed": true
   },
   "outputs": [],
   "source": []
  },
  {
   "cell_type": "code",
   "execution_count": 55,
   "metadata": {
    "collapsed": true
   },
   "outputs": [],
   "source": [
    "# let's look at a high level abstraction library tflearn\n",
    "# pip install tflearn"
   ]
  },
  {
   "cell_type": "code",
   "execution_count": 7,
   "metadata": {
    "collapsed": false
   },
   "outputs": [
    {
     "name": "stdout",
     "output_type": "stream",
     "text": [
      "Training Step: 1000  | total loss: \u001b[1m\u001b[32m0.15402\u001b[0m\u001b[0m | time: 0.002s\n",
      "| SGD | epoch: 1000 | loss: 0.15402 - R2: 0.9737 -- iter: 17/17\n",
      "\n",
      "Regression result:\n",
      "Y = [ 0.2565726]*X + [ 0.7637955]\n",
      "\n",
      "Test prediction for x = 3.2, 3.3, 3.4:\n",
      "[ 1.5848279   1.61048508  1.63614237]\n"
     ]
    }
   ],
   "source": [
    "# simple linear regression example\n",
    "import tflearn\n",
    "from __future__ import absolute_import, division, print_function\n",
    "# Regression data\n",
    "X = [3.3,4.4,5.5,6.71,6.93,4.168,9.779,6.182,7.59,2.167,7.042,10.791,5.313,7.997,5.654,9.27,3.1]\n",
    "Y = [1.7,2.76,2.09,3.19,1.694,1.573,3.366,2.596,2.53,1.221,2.827,3.465,1.65,2.904,2.42,2.94,1.3]\n",
    "\n",
    "# Linear Regression graph\n",
    "input_ = tflearn.input_data(shape=[None])\n",
    "linear = tflearn.single_unit(input_)\n",
    "regression = tflearn.regression(linear, optimizer='sgd', loss='mean_square',\n",
    "                                metric='R2', learning_rate=0.01)\n",
    "m = tflearn.DNN(regression)\n",
    "m.fit(X, Y, n_epoch=1000, show_metric=True, snapshot_epoch=False)\n",
    "\n",
    "print(\"\\nRegression result:\")\n",
    "print(\"Y = \" + str(m.get_weights(linear.W)) +\n",
    "      \"*X + \" + str(m.get_weights(linear.b)))"
   ]
  },
  {
   "cell_type": "code",
   "execution_count": null,
   "metadata": {
    "collapsed": true
   },
   "outputs": [],
   "source": [
    "print(\"\\nTest prediction for x = 3.2, 3.3, 3.4:\")\n",
    "print(m.predict([3.2, 3.3, 3.4]))"
   ]
  },
  {
   "cell_type": "code",
   "execution_count": null,
   "metadata": {
    "collapsed": true
   },
   "outputs": [],
   "source": []
  },
  {
   "cell_type": "code",
   "execution_count": null,
   "metadata": {
    "collapsed": true
   },
   "outputs": [],
   "source": [
    "# another example with Titanic Dataset from Kaggle"
   ]
  },
  {
   "cell_type": "code",
   "execution_count": 12,
   "metadata": {
    "collapsed": false
   },
   "outputs": [
    {
     "name": "stdout",
     "output_type": "stream",
     "text": [
      " class |  name |  sex |  age |  # of siblings on board |  # of parents/children on board |  ticket # |  fare |\n",
      "['1', 'Allen, Miss. Elisabeth Walton', 'female', '29', '0', '0', '24160', '211.3375']\n",
      "['1', 'Allison, Master. Hudson Trevor', 'male', '0.9167', '1', '2', '113781', '151.5500']\n",
      "['1', 'Allison, Miss. Helen Loraine', 'female', '2', '1', '2', '113781', '151.5500']\n",
      "['1', 'Allison, Mr. Hudson Joshua Creighton', 'male', '30', '1', '2', '113781', '151.5500']\n",
      "['1', 'Allison, Mrs. Hudson J C (Bessie Waldo Daniels)', 'female', '25', '1', '2', '113781', '151.5500']\n",
      "['1', 'Anderson, Mr. Harry', 'male', '48', '0', '0', '19952', '26.5500']\n",
      "['1', 'Andrews, Miss. Kornelia Theodosia', 'female', '63', '1', '0', '13502', '77.9583']\n",
      "['1', 'Andrews, Mr. Thomas Jr', 'male', '39', '0', '0', '112050', '0.0000']\n",
      "['1', 'Appleton, Mrs. Edward Dale (Charlotte Lamson)', 'female', '53', '2', '0', '11769', '51.4792']\n",
      "['1', 'Artagaveytia, Mr. Ramon', 'male', '71', '0', '0', 'PC 17609', '49.5042']\n",
      "['1', 'Astor, Col. John Jacob', 'male', '47', '1', '0', 'PC 17757', '227.5250']\n",
      "['1', 'Astor, Mrs. John Jacob (Madeleine Talmadge Force)', 'female', '18', '1', '0', 'PC 17757', '227.5250']\n",
      "['1', 'Aubart, Mme. Leontine Pauline', 'female', '24', '0', '0', 'PC 17477', '69.3000']\n",
      "['1', 'Barber, Miss. Ellen \"Nellie\"', 'female', '26', '0', '0', '19877', '78.8500']\n",
      "['1', 'Barkworth, Mr. Algernon Henry Wilson', 'male', '80', '0', '0', '27042', '30.0000']\n",
      "['1', 'Baumann, Mr. John D', 'male', '0', '0', '0', 'PC 17318', '25.9250']\n",
      "['1', 'Baxter, Mr. Quigg Edmond', 'male', '24', '0', '1', 'PC 17558', '247.5208']\n",
      "['1', 'Baxter, Mrs. James (Helene DeLaudeniere Chaput)', 'female', '50', '0', '1', 'PC 17558', '247.5208']\n",
      "['1', 'Bazzani, Miss. Albina', 'female', '32', '0', '0', '11813', '76.2917']\n",
      "['1', 'Beattie, Mr. Thomson', 'male', '36', '0', '0', '13050', '75.2417']\n",
      "['1', 'Beckwith, Mr. Richard Leonard', 'male', '37', '1', '1', '11751', '52.5542']\n",
      "['1', 'Beckwith, Mrs. Richard Leonard (Sallie Monypeny)', 'female', '47', '1', '1', '11751', '52.5542']\n",
      "['1', 'Behr, Mr. Karl Howell', 'male', '26', '0', '0', '111369', '30.0000']\n",
      "['1', 'Bidois, Miss. Rosalie', 'female', '42', '0', '0', 'PC 17757', '227.5250']\n",
      "['1', 'Bird, Miss. Ellen', 'female', '29', '0', '0', 'PC 17483', '221.7792']\n",
      "['1', 'Birnbaum, Mr. Jakob', 'male', '25', '0', '0', '13905', '26.0000']\n",
      "['1', 'Bishop, Mr. Dickinson H', 'male', '25', '1', '0', '11967', '91.0792']\n",
      "['1', 'Bishop, Mrs. Dickinson H (Helen Walton)', 'female', '19', '1', '0', '11967', '91.0792']\n",
      "['1', 'Bissette, Miss. Amelia', 'female', '35', '0', '0', 'PC 17760', '135.6333']\n",
      "['1', 'Bjornstrom-Steffansson, Mr. Mauritz Hakan', 'male', '28', '0', '0', '110564', '26.5500']\n",
      "['1', 'Blackwell, Mr. Stephen Weart', 'male', '45', '0', '0', '113784', '35.5000']\n",
      "['1', 'Blank, Mr. Henry', 'male', '40', '0', '0', '112277', '31.0000']\n",
      "['1', 'Bonnell, Miss. Caroline', 'female', '30', '0', '0', '36928', '164.8667']\n",
      "['1', 'Bonnell, Miss. Elizabeth', 'female', '58', '0', '0', '113783', '26.5500']\n",
      "['1', 'Borebank, Mr. John James', 'male', '42', '0', '0', '110489', '26.5500']\n",
      "['1', 'Bowen, Miss. Grace Scott', 'female', '45', '0', '0', 'PC 17608', '262.3750']\n",
      "['1', 'Bowerman, Miss. Elsie Edith', 'female', '22', '0', '1', '113505', '55.0000']\n",
      "['1', 'Bradley, Mr. George (\"George Arthur Brayton\")', 'male', '0', '0', '0', '111427', '26.5500']\n",
      "['1', 'Brady, Mr. John Bertram', 'male', '41', '0', '0', '113054', '30.5000']\n",
      "['1', 'Brandeis, Mr. Emil', 'male', '48', '0', '0', 'PC 17591', '50.4958']\n",
      "['1', 'Brewe, Dr. Arthur Jackson', 'male', '0', '0', '0', '112379', '39.6000']\n",
      "['1', 'Brown, Mrs. James Joseph (Margaret Tobin)', 'female', '44', '0', '0', 'PC 17610', '27.7208']\n",
      "['1', 'Brown, Mrs. John Murray (Caroline Lane Lamson)', 'female', '59', '2', '0', '11769', '51.4792']\n",
      "['1', 'Bucknell, Mrs. William Robert (Emma Eliza Ward)', 'female', '60', '0', '0', '11813', '76.2917']\n",
      "['1', 'Burns, Miss. Elizabeth Margaret', 'female', '41', '0', '0', '16966', '134.5000']\n",
      "['1', 'Butt, Major. Archibald Willingham', 'male', '45', '0', '0', '113050', '26.5500']\n",
      "['1', 'Cairns, Mr. Alexander', 'male', '0', '0', '0', '113798', '31.0000']\n",
      "['1', 'Calderhead, Mr. Edward Pennington', 'male', '42', '0', '0', 'PC 17476', '26.2875']\n",
      "['1', 'Candee, Mrs. Edward (Helen Churchill Hungerford)', 'female', '53', '0', '0', 'PC 17606', '27.4458']\n",
      "['1', 'Cardeza, Mr. Thomas Drake Martinez', 'male', '36', '0', '1', 'PC 17755', '512.3292']\n",
      "['1', 'Cardeza, Mrs. James Warburton Martinez (Charlotte Wardle Drake)', 'female', '58', '0', '1', 'PC 17755', '512.3292']\n",
      "['1', 'Carlsson, Mr. Frans Olof', 'male', '33', '0', '0', '695', '5.0000']\n",
      "['1', 'Carrau, Mr. Francisco M', 'male', '28', '0', '0', '113059', '47.1000']\n",
      "['1', 'Carrau, Mr. Jose Pedro', 'male', '17', '0', '0', '113059', '47.1000']\n",
      "['1', 'Carter, Master. William Thornton II', 'male', '11', '1', '2', '113760', '120.0000']\n",
      "['1', 'Carter, Miss. Lucile Polk', 'female', '14', '1', '2', '113760', '120.0000']\n",
      "['1', 'Carter, Mr. William Ernest', 'male', '36', '1', '2', '113760', '120.0000']\n",
      "['1', 'Carter, Mrs. William Ernest (Lucile Polk)', 'female', '36', '1', '2', '113760', '120.0000']\n",
      "['1', 'Case, Mr. Howard Brown', 'male', '49', '0', '0', '19924', '26.0000']\n",
      "['1', 'Cassebeer, Mrs. Henry Arthur Jr (Eleanor Genevieve Fosdick)', 'female', '0', '0', '0', '17770', '27.7208']\n",
      "['1', 'Cavendish, Mr. Tyrell William', 'male', '36', '1', '0', '19877', '78.8500']\n",
      "['1', 'Cavendish, Mrs. Tyrell William (Julia Florence Siegel)', 'female', '76', '1', '0', '19877', '78.8500']\n",
      "['1', 'Chaffee, Mr. Herbert Fuller', 'male', '46', '1', '0', 'W.E.P. 5734', '61.1750']\n",
      "['1', 'Chaffee, Mrs. Herbert Fuller (Carrie Constance Toogood)', 'female', '47', '1', '0', 'W.E.P. 5734', '61.1750']\n",
      "['1', 'Chambers, Mr. Norman Campbell', 'male', '27', '1', '0', '113806', '53.1000']\n",
      "['1', 'Chambers, Mrs. Norman Campbell (Bertha Griggs)', 'female', '33', '1', '0', '113806', '53.1000']\n",
      "['1', 'Chaudanson, Miss. Victorine', 'female', '36', '0', '0', 'PC 17608', '262.3750']\n",
      "['1', 'Cherry, Miss. Gladys', 'female', '30', '0', '0', '110152', '86.5000']\n",
      "['1', 'Chevre, Mr. Paul Romaine', 'male', '45', '0', '0', 'PC 17594', '29.7000']\n",
      "['1', 'Chibnall, Mrs. (Edith Martha Bowerman)', 'female', '0', '0', '1', '113505', '55.0000']\n",
      "['1', 'Chisholm, Mr. Roderick Robert Crispin', 'male', '0', '0', '0', '112051', '0.0000']\n",
      "['1', 'Clark, Mr. Walter Miller', 'male', '27', '1', '0', '13508', '136.7792']\n",
      "['1', 'Clark, Mrs. Walter Miller (Virginia McDowell)', 'female', '26', '1', '0', '13508', '136.7792']\n",
      "['1', 'Cleaver, Miss. Alice', 'female', '22', '0', '0', '113781', '151.5500']\n",
      "['1', 'Clifford, Mr. George Quincy', 'male', '0', '0', '0', '110465', '52.0000']\n",
      "['1', 'Colley, Mr. Edward Pomeroy', 'male', '47', '0', '0', '5727', '25.5875']\n",
      "['1', 'Compton, Miss. Sara Rebecca', 'female', '39', '1', '1', 'PC 17756', '83.1583']\n",
      "['1', 'Compton, Mr. Alexander Taylor Jr', 'male', '37', '1', '1', 'PC 17756', '83.1583']\n",
      "['1', 'Compton, Mrs. Alexander Taylor (Mary Eliza Ingersoll)', 'female', '64', '0', '2', 'PC 17756', '83.1583']\n",
      "['1', 'Cornell, Mrs. Robert Clifford (Malvina Helen Lamson)', 'female', '55', '2', '0', '11770', '25.7000']\n",
      "['1', 'Crafton, Mr. John Bertram', 'male', '0', '0', '0', '113791', '26.5500']\n",
      "['1', 'Crosby, Capt. Edward Gifford', 'male', '70', '1', '1', 'WE/P 5735', '71.0000']\n",
      "['1', 'Crosby, Miss. Harriet R', 'female', '36', '0', '2', 'WE/P 5735', '71.0000']\n",
      "['1', 'Crosby, Mrs. Edward Gifford (Catherine Elizabeth Halstead)', 'female', '64', '1', '1', '112901', '26.5500']\n",
      "['1', 'Cumings, Mr. John Bradley', 'male', '39', '1', '0', 'PC 17599', '71.2833']\n",
      "['1', 'Cumings, Mrs. John Bradley (Florence Briggs Thayer)', 'female', '38', '1', '0', 'PC 17599', '71.2833']\n",
      "['1', 'Daly, Mr. Peter Denis ', 'male', '51', '0', '0', '113055', '26.5500']\n",
      "['1', 'Daniel, Mr. Robert Williams', 'male', '27', '0', '0', '113804', '30.5000']\n",
      "['1', 'Daniels, Miss. Sarah', 'female', '33', '0', '0', '113781', '151.5500']\n",
      "['1', 'Davidson, Mr. Thornton', 'male', '31', '1', '0', 'F.C. 12750', '52.0000']\n",
      "['1', 'Davidson, Mrs. Thornton (Orian Hays)', 'female', '27', '1', '2', 'F.C. 12750', '52.0000']\n",
      "['1', 'Dick, Mr. Albert Adrian', 'male', '31', '1', '0', '17474', '57.0000']\n",
      "['1', 'Dick, Mrs. Albert Adrian (Vera Gillespie)', 'female', '17', '1', '0', '17474', '57.0000']\n",
      "['1', 'Dodge, Dr. Washington', 'male', '53', '1', '1', '33638', '81.8583']\n",
      "['1', 'Dodge, Master. Washington', 'male', '4', '0', '2', '33638', '81.8583']\n",
      "['1', 'Dodge, Mrs. Washington (Ruth Vidaver)', 'female', '54', '1', '1', '33638', '81.8583']\n",
      "['1', 'Douglas, Mr. Walter Donald', 'male', '50', '1', '0', 'PC 17761', '106.4250']\n",
      "['1', 'Douglas, Mrs. Frederick Charles (Mary Helene Baxter)', 'female', '27', '1', '1', 'PC 17558', '247.5208']\n",
      "['1', 'Douglas, Mrs. Walter Donald (Mahala Dutton)', 'female', '48', '1', '0', 'PC 17761', '106.4250']\n",
      "['1', 'Duff Gordon, Lady. (Lucille Christiana Sutherland) (\"Mrs Morgan\")', 'female', '48', '1', '0', '11755', '39.6000']\n",
      "['1', 'Duff Gordon, Sir. Cosmo Edmund (\"Mr Morgan\")', 'male', '49', '1', '0', 'PC 17485', '56.9292']\n",
      "['1', 'Dulles, Mr. William Crothers', 'male', '39', '0', '0', 'PC 17580', '29.7000']\n",
      "['1', 'Earnshaw, Mrs. Boulton (Olive Potter)', 'female', '23', '0', '1', '11767', '83.1583']\n",
      "['1', 'Endres, Miss. Caroline Louise', 'female', '38', '0', '0', 'PC 17757', '227.5250']\n",
      "['1', 'Eustis, Miss. Elizabeth Mussey', 'female', '54', '1', '0', '36947', '78.2667']\n",
      "['1', 'Evans, Miss. Edith Corse', 'female', '36', '0', '0', 'PC 17531', '31.6792']\n",
      "['1', 'Farthing, Mr. John', 'male', '0', '0', '0', 'PC 17483', '221.7792']\n",
      "['1', 'Flegenheim, Mrs. Alfred (Antoinette)', 'female', '0', '0', '0', 'PC 17598', '31.6833']\n",
      "['1', 'Fleming, Miss. Margaret', 'female', '0', '0', '0', '17421', '110.8833']\n",
      "['1', 'Flynn, Mr. John Irwin (\"Irving\")', 'male', '36', '0', '0', 'PC 17474', '26.3875']\n",
      "['1', 'Foreman, Mr. Benjamin Laventall', 'male', '30', '0', '0', '113051', '27.7500']\n",
      "['1', 'Fortune, Miss. Alice Elizabeth', 'female', '24', '3', '2', '19950', '263.0000']\n",
      "['1', 'Fortune, Miss. Ethel Flora', 'female', '28', '3', '2', '19950', '263.0000']\n",
      "['1', 'Fortune, Miss. Mabel Helen', 'female', '23', '3', '2', '19950', '263.0000']\n",
      "['1', 'Fortune, Mr. Charles Alexander', 'male', '19', '3', '2', '19950', '263.0000']\n",
      "['1', 'Fortune, Mr. Mark', 'male', '64', '1', '4', '19950', '263.0000']\n",
      "['1', 'Fortune, Mrs. Mark (Mary McDougald)', 'female', '60', '1', '4', '19950', '263.0000']\n",
      "['1', 'Francatelli, Miss. Laura Mabel', 'female', '30', '0', '0', 'PC 17485', '56.9292']\n",
      "['1', 'Franklin, Mr. Thomas Parham', 'male', '0', '0', '0', '113778', '26.5500']\n",
      "['1', 'Frauenthal, Dr. Henry William', 'male', '50', '2', '0', 'PC 17611', '133.6500']\n",
      "['1', 'Frauenthal, Mr. Isaac Gerald', 'male', '43', '1', '0', '17765', '27.7208']\n",
      "['1', 'Frauenthal, Mrs. Henry William (Clara Heinsheimer)', 'female', '0', '1', '0', 'PC 17611', '133.6500']\n",
      "['1', 'Frolicher, Miss. Hedwig Margaritha', 'female', '22', '0', '2', '13568', '49.5000']\n",
      "['1', 'Frolicher-Stehli, Mr. Maxmillian', 'male', '60', '1', '1', '13567', '79.2000']\n",
      "['1', 'Frolicher-Stehli, Mrs. Maxmillian (Margaretha Emerentia Stehli)', 'female', '48', '1', '1', '13567', '79.2000']\n",
      "['1', 'Fry, Mr. Richard', 'male', '0', '0', '0', '112058', '0.0000']\n",
      "['1', 'Futrelle, Mr. Jacques Heath', 'male', '37', '1', '0', '113803', '53.1000']\n",
      "['1', 'Futrelle, Mrs. Jacques Heath (Lily May Peel)', 'female', '35', '1', '0', '113803', '53.1000']\n",
      "['1', 'Gee, Mr. Arthur H', 'male', '47', '0', '0', '111320', '38.5000']\n",
      "['1', 'Geiger, Miss. Amalie', 'female', '35', '0', '0', '113503', '211.5000']\n",
      "['1', 'Gibson, Miss. Dorothy Winifred', 'female', '22', '0', '1', '112378', '59.4000']\n",
      "['1', 'Gibson, Mrs. Leonard (Pauline C Boeson)', 'female', '45', '0', '1', '112378', '59.4000']\n",
      "['1', 'Giglio, Mr. Victor', 'male', '24', '0', '0', 'PC 17593', '79.2000']\n",
      "['1', 'Goldenberg, Mr. Samuel L', 'male', '49', '1', '0', '17453', '89.1042']\n",
      "['1', 'Goldenberg, Mrs. Samuel L (Edwiga Grabowska)', 'female', '0', '1', '0', '17453', '89.1042']\n",
      "['1', 'Goldschmidt, Mr. George B', 'male', '71', '0', '0', 'PC 17754', '34.6542']\n",
      "['1', 'Gracie, Col. Archibald IV', 'male', '53', '0', '0', '113780', '28.5000']\n",
      "['1', 'Graham, Miss. Margaret Edith', 'female', '19', '0', '0', '112053', '30.0000']\n",
      "['1', 'Graham, Mr. George Edward', 'male', '38', '0', '1', 'PC 17582', '153.4625']\n",
      "['1', 'Graham, Mrs. William Thompson (Edith Junkins)', 'female', '58', '0', '1', 'PC 17582', '153.4625']\n",
      "['1', 'Greenfield, Mr. William Bertram', 'male', '23', '0', '1', 'PC 17759', '63.3583']\n",
      "['1', 'Greenfield, Mrs. Leo David (Blanche Strouse)', 'female', '45', '0', '1', 'PC 17759', '63.3583']\n",
      "['1', 'Guggenheim, Mr. Benjamin', 'male', '46', '0', '0', 'PC 17593', '79.2000']\n",
      "['1', 'Harder, Mr. George Achilles', 'male', '25', '1', '0', '11765', '55.4417']\n",
      "['1', 'Harder, Mrs. George Achilles (Dorothy Annan)', 'female', '25', '1', '0', '11765', '55.4417']\n",
      "['1', 'Harper, Mr. Henry Sleeper', 'male', '48', '1', '0', 'PC 17572', '76.7292']\n",
      "['1', 'Harper, Mrs. Henry Sleeper (Myna Haxtun)', 'female', '49', '1', '0', 'PC 17572', '76.7292']\n",
      "['1', 'Harrington, Mr. Charles H', 'male', '0', '0', '0', '113796', '42.4000']\n",
      "['1', 'Harris, Mr. Henry Birkhardt', 'male', '45', '1', '0', '36973', '83.4750']\n",
      "['1', 'Harris, Mrs. Henry Birkhardt (Irene Wallach)', 'female', '35', '1', '0', '36973', '83.4750']\n",
      "['1', 'Harrison, Mr. William', 'male', '40', '0', '0', '112059', '0.0000']\n",
      "['1', 'Hassab, Mr. Hammad', 'male', '27', '0', '0', 'PC 17572', '76.7292']\n",
      "['1', 'Hawksford, Mr. Walter James', 'male', '0', '0', '0', '16988', '30.0000']\n",
      "['1', 'Hays, Miss. Margaret Bechstein', 'female', '24', '0', '0', '11767', '83.1583']\n",
      "['1', 'Hays, Mr. Charles Melville', 'male', '55', '1', '1', '12749', '93.5000']\n",
      "['1', 'Hays, Mrs. Charles Melville (Clara Jennings Gregg)', 'female', '52', '1', '1', '12749', '93.5000']\n",
      "['1', 'Head, Mr. Christopher', 'male', '42', '0', '0', '113038', '42.5000']\n",
      "['1', 'Hilliard, Mr. Herbert Henry', 'male', '0', '0', '0', '17463', '51.8625']\n",
      "['1', 'Hipkins, Mr. William Edward', 'male', '55', '0', '0', '680', '50.0000']\n",
      "['1', 'Hippach, Miss. Jean Gertrude', 'female', '16', '0', '1', '111361', '57.9792']\n",
      "['1', 'Hippach, Mrs. Louis Albert (Ida Sophia Fischer)', 'female', '44', '0', '1', '111361', '57.9792']\n",
      "['1', 'Hogeboom, Mrs. John C (Anna Andrews)', 'female', '51', '1', '0', '13502', '77.9583']\n",
      "['1', 'Holverson, Mr. Alexander Oskar', 'male', '42', '1', '0', '113789', '52.0000']\n",
      "['1', 'Holverson, Mrs. Alexander Oskar (Mary Aline Towner)', 'female', '35', '1', '0', '113789', '52.0000']\n",
      "['1', 'Homer, Mr. Harry (\"Mr E Haven\")', 'male', '35', '0', '0', '111426', '26.5500']\n",
      "['1', 'Hoyt, Mr. Frederick Maxfield', 'male', '38', '1', '0', '19943', '90.0000']\n",
      "['1', 'Hoyt, Mr. William Fisher', 'male', '0', '0', '0', 'PC 17600', '30.6958']\n",
      "['1', 'Hoyt, Mrs. Frederick Maxfield (Jane Anne Forby)', 'female', '35', '1', '0', '19943', '90.0000']\n",
      "['1', 'Icard, Miss. Amelie', 'female', '38', '0', '0', '113572', '80.0000']\n",
      "['1', 'Isham, Miss. Ann Elizabeth', 'female', '50', '0', '0', 'PC 17595', '28.7125']\n",
      "['1', 'Ismay, Mr. Joseph Bruce', 'male', '49', '0', '0', '112058', '0.0000']\n",
      "['1', 'Jones, Mr. Charles Cresson', 'male', '46', '0', '0', '694', '26.0000']\n",
      "['1', 'Julian, Mr. Henry Forbes', 'male', '50', '0', '0', '113044', '26.0000']\n",
      "['1', 'Keeping, Mr. Edwin', 'male', '32.5', '0', '0', '113503', '211.5000']\n",
      "['1', 'Kent, Mr. Edward Austin', 'male', '58', '0', '0', '11771', '29.7000']\n",
      "['1', 'Kenyon, Mr. Frederick R', 'male', '41', '1', '0', '17464', '51.8625']\n",
      "['1', 'Kenyon, Mrs. Frederick R (Marion)', 'female', '0', '1', '0', '17464', '51.8625']\n",
      "['1', 'Kimball, Mr. Edwin Nelson Jr', 'male', '42', '1', '0', '11753', '52.5542']\n",
      "['1', 'Kimball, Mrs. Edwin Nelson Jr (Gertrude Parsons)', 'female', '45', '1', '0', '11753', '52.5542']\n",
      "['1', 'Klaber, Mr. Herman', 'male', '0', '0', '0', '113028', '26.5500']\n",
      "['1', 'Kreuchen, Miss. Emilie', 'female', '39', '0', '0', '24160', '211.3375']\n",
      "['1', 'Leader, Dr. Alice (Farnham)', 'female', '49', '0', '0', '17465', '25.9292']\n",
      "['1', 'LeRoy, Miss. Bertha', 'female', '30', '0', '0', 'PC 17761', '106.4250']\n",
      "['1', 'Lesurer, Mr. Gustave J', 'male', '35', '0', '0', 'PC 17755', '512.3292']\n",
      "['1', 'Lewy, Mr. Ervin G', 'male', '0', '0', '0', 'PC 17612', '27.7208']\n",
      "['1', 'Lindeberg-Lind, Mr. Erik Gustaf (\"Mr Edward Lingrey\")', 'male', '42', '0', '0', '17475', '26.5500']\n",
      "['1', 'Lindstrom, Mrs. Carl Johan (Sigrid Posse)', 'female', '55', '0', '0', '112377', '27.7208']\n",
      "['1', 'Lines, Miss. Mary Conover', 'female', '16', '0', '1', 'PC 17592', '39.4000']\n",
      "['1', 'Lines, Mrs. Ernest H (Elizabeth Lindsey James)', 'female', '51', '0', '1', 'PC 17592', '39.4000']\n",
      "['1', 'Long, Mr. Milton Clyde', 'male', '29', '0', '0', '113501', '30.0000']\n",
      "['1', 'Longley, Miss. Gretchen Fiske', 'female', '21', '0', '0', '13502', '77.9583']\n",
      "['1', 'Loring, Mr. Joseph Holland', 'male', '30', '0', '0', '113801', '45.5000']\n",
      "['1', 'Lurette, Miss. Elise', 'female', '58', '0', '0', 'PC 17569', '146.5208']\n",
      "['1', 'Madill, Miss. Georgette Alexandra', 'female', '15', '0', '1', '24160', '211.3375']\n",
      "['1', 'Maguire, Mr. John Edward', 'male', '30', '0', '0', '110469', '26.0000']\n",
      "['1', 'Maioni, Miss. Roberta', 'female', '16', '0', '0', '110152', '86.5000']\n",
      "['1', 'Marechal, Mr. Pierre', 'male', '0', '0', '0', '11774', '29.7000']\n",
      "['1', 'Marvin, Mr. Daniel Warner', 'male', '19', '1', '0', '113773', '53.1000']\n",
      "['1', 'Marvin, Mrs. Daniel Warner (Mary Graham Carmichael Farquarson)', 'female', '18', '1', '0', '113773', '53.1000']\n",
      "['1', 'Mayne, Mlle. Berthe Antonine (\"Mrs de Villiers\")', 'female', '24', '0', '0', 'PC 17482', '49.5042']\n",
      "['1', 'McCaffry, Mr. Thomas Francis', 'male', '46', '0', '0', '13050', '75.2417']\n",
      "['1', 'McCarthy, Mr. Timothy J', 'male', '54', '0', '0', '17463', '51.8625']\n",
      "['1', 'McGough, Mr. James Robert', 'male', '36', '0', '0', 'PC 17473', '26.2875']\n",
      "['1', 'Meyer, Mr. Edgar Joseph', 'male', '28', '1', '0', 'PC 17604', '82.1708']\n",
      "['1', 'Meyer, Mrs. Edgar Joseph (Leila Saks)', 'female', '0', '1', '0', 'PC 17604', '82.1708']\n",
      "['1', 'Millet, Mr. Francis Davis', 'male', '65', '0', '0', '13509', '26.5500']\n",
      "['1', 'Minahan, Dr. William Edward', 'male', '44', '2', '0', '19928', '90.0000']\n",
      "['1', 'Minahan, Miss. Daisy E', 'female', '33', '1', '0', '19928', '90.0000']\n",
      "['1', 'Minahan, Mrs. William Edward (Lillian E Thorpe)', 'female', '37', '1', '0', '19928', '90.0000']\n",
      "['1', 'Mock, Mr. Philipp Edmund', 'male', '30', '1', '0', '13236', '57.7500']\n",
      "['1', 'Molson, Mr. Harry Markland', 'male', '55', '0', '0', '113787', '30.5000']\n",
      "['1', 'Moore, Mr. Clarence Bloomfield', 'male', '47', '0', '0', '113796', '42.4000']\n",
      "['1', 'Natsch, Mr. Charles H', 'male', '37', '0', '1', 'PC 17596', '29.7000']\n",
      "['1', 'Newell, Miss. Madeleine', 'female', '31', '1', '0', '35273', '113.2750']\n",
      "['1', 'Newell, Miss. Marjorie', 'female', '23', '1', '0', '35273', '113.2750']\n",
      "['1', 'Newell, Mr. Arthur Webster', 'male', '58', '0', '2', '35273', '113.2750']\n",
      "['1', 'Newsom, Miss. Helen Monypeny', 'female', '19', '0', '2', '11752', '26.2833']\n",
      "['1', 'Nicholson, Mr. Arthur Ernest', 'male', '64', '0', '0', '693', '26.0000']\n",
      "['1', 'Oliva y Ocana, Dona. Fermina', 'female', '39', '0', '0', 'PC 17758', '108.9000']\n",
      "['1', 'Omont, Mr. Alfred Fernand', 'male', '0', '0', '0', 'F.C. 12998', '25.7417']\n",
      "['1', 'Ostby, Miss. Helene Ragnhild', 'female', '22', '0', '1', '113509', '61.9792']\n",
      "['1', 'Ostby, Mr. Engelhart Cornelius', 'male', '65', '0', '1', '113509', '61.9792']\n",
      "['1', 'Ovies y Rodriguez, Mr. Servando', 'male', '28.5', '0', '0', 'PC 17562', '27.7208']\n",
      "['1', 'Parr, Mr. William Henry Marsh', 'male', '0', '0', '0', '112052', '0.0000']\n",
      "['1', 'Partner, Mr. Austen', 'male', '45.5', '0', '0', '113043', '28.5000']\n",
      "['1', 'Payne, Mr. Vivian Ponsonby', 'male', '23', '0', '0', '12749', '93.5000']\n",
      "['1', 'Pears, Mr. Thomas Clinton', 'male', '29', '1', '0', '113776', '66.6000']\n",
      "['1', 'Pears, Mrs. Thomas (Edith Wearne)', 'female', '22', '1', '0', '113776', '66.6000']\n",
      "['1', 'Penasco y Castellana, Mr. Victor de Satode', 'male', '18', '1', '0', 'PC 17758', '108.9000']\n",
      "['1', 'Penasco y Castellana, Mrs. Victor de Satode (Maria Josefa Perez de Soto y Vallejo)', 'female', '17', '1', '0', 'PC 17758', '108.9000']\n",
      "['1', 'Perreault, Miss. Anne', 'female', '30', '0', '0', '12749', '93.5000']\n",
      "['1', 'Peuchen, Major. Arthur Godfrey', 'male', '52', '0', '0', '113786', '30.5000']\n",
      "['1', 'Porter, Mr. Walter Chamberlain', 'male', '47', '0', '0', '110465', '52.0000']\n",
      "['1', 'Potter, Mrs. Thomas Jr (Lily Alexenia Wilson)', 'female', '56', '0', '1', '11767', '83.1583']\n",
      "['1', 'Reuchlin, Jonkheer. John George', 'male', '38', '0', '0', '19972', '0.0000']\n",
      "['1', 'Rheims, Mr. George Alexander Lucien', 'male', '0', '0', '0', 'PC 17607', '39.6000']\n",
      "['1', 'Ringhini, Mr. Sante', 'male', '22', '0', '0', 'PC 17760', '135.6333']\n",
      "['1', 'Robbins, Mr. Victor', 'male', '0', '0', '0', 'PC 17757', '227.5250']\n",
      "['1', 'Robert, Mrs. Edward Scott (Elisabeth Walton McMillan)', 'female', '43', '0', '1', '24160', '211.3375']\n",
      "['1', 'Roebling, Mr. Washington Augustus II', 'male', '31', '0', '0', 'PC 17590', '50.4958']\n",
      "['1', 'Romaine, Mr. Charles Hallace (\"Mr C Rolmane\")', 'male', '45', '0', '0', '111428', '26.5500']\n",
      "['1', 'Rood, Mr. Hugh Roscoe', 'male', '0', '0', '0', '113767', '50.0000']\n",
      "['1', 'Rosenbaum, Miss. Edith Louise', 'female', '33', '0', '0', 'PC 17613', '27.7208']\n",
      "['1', 'Rosenshine, Mr. George (\"Mr George Thorne\")', 'male', '46', '0', '0', 'PC 17585', '79.2000']\n",
      "['1', 'Ross, Mr. John Hugo', 'male', '36', '0', '0', '13049', '40.1250']\n",
      "['1', 'Rothes, the Countess. of (Lucy Noel Martha Dyer-Edwards)', 'female', '33', '0', '0', '110152', '86.5000']\n",
      "['1', 'Rothschild, Mr. Martin', 'male', '55', '1', '0', 'PC 17603', '59.4000']\n",
      "['1', 'Rothschild, Mrs. Martin (Elizabeth L. Barrett)', 'female', '54', '1', '0', 'PC 17603', '59.4000']\n",
      "['1', 'Rowe, Mr. Alfred G', 'male', '33', '0', '0', '113790', '26.5500']\n",
      "['1', 'Ryerson, Master. John Borie', 'male', '13', '2', '2', 'PC 17608', '262.3750']\n",
      "['1', 'Ryerson, Miss. Emily Borie', 'female', '18', '2', '2', 'PC 17608', '262.3750']\n",
      "['1', 'Ryerson, Miss. Susan Parker \"Suzette\"', 'female', '21', '2', '2', 'PC 17608', '262.3750']\n",
      "['1', 'Ryerson, Mr. Arthur Larned', 'male', '61', '1', '3', 'PC 17608', '262.3750']\n",
      "['1', 'Ryerson, Mrs. Arthur Larned (Emily Maria Borie)', 'female', '48', '1', '3', 'PC 17608', '262.3750']\n",
      "['1', 'Saalfeld, Mr. Adolphe', 'male', '0', '0', '0', '19988', '30.5000']\n",
      "['1', 'Sagesser, Mlle. Emma', 'female', '24', '0', '0', 'PC 17477', '69.3000']\n",
      "['1', 'Salomon, Mr. Abraham L', 'male', '0', '0', '0', '111163', '26.0000']\n",
      "['1', 'Schabert, Mrs. Paul (Emma Mock)', 'female', '35', '1', '0', '13236', '57.7500']\n",
      "['1', 'Serepeca, Miss. Augusta', 'female', '30', '0', '0', '113798', '31.0000']\n",
      "['1', 'Seward, Mr. Frederic Kimber', 'male', '34', '0', '0', '113794', '26.5500']\n",
      "['1', 'Shutes, Miss. Elizabeth W', 'female', '40', '0', '0', 'PC 17582', '153.4625']\n",
      "['1', 'Silverthorne, Mr. Spencer Victor', 'male', '35', '0', '0', 'PC 17475', '26.2875']\n",
      "['1', 'Silvey, Mr. William Baird', 'male', '50', '1', '0', '13507', '55.9000']\n",
      "['1', 'Silvey, Mrs. William Baird (Alice Munger)', 'female', '39', '1', '0', '13507', '55.9000']\n",
      "['1', 'Simonius-Blumer, Col. Oberst Alfons', 'male', '56', '0', '0', '13213', '35.5000']\n",
      "['1', 'Sloper, Mr. William Thompson', 'male', '28', '0', '0', '113788', '35.5000']\n",
      "['1', 'Smart, Mr. John Montgomery', 'male', '56', '0', '0', '113792', '26.5500']\n",
      "['1', 'Smith, Mr. James Clinch', 'male', '56', '0', '0', '17764', '30.6958']\n",
      "['1', 'Smith, Mr. Lucien Philip', 'male', '24', '1', '0', '13695', '60.0000']\n",
      "['1', 'Smith, Mr. Richard William', 'male', '0', '0', '0', '113056', '26.0000']\n",
      "['1', 'Smith, Mrs. Lucien Philip (Mary Eloise Hughes)', 'female', '18', '1', '0', '13695', '60.0000']\n",
      "['1', 'Snyder, Mr. John Pillsbury', 'male', '24', '1', '0', '21228', '82.2667']\n",
      "['1', 'Snyder, Mrs. John Pillsbury (Nelle Stevenson)', 'female', '23', '1', '0', '21228', '82.2667']\n",
      "['1', 'Spedden, Master. Robert Douglas', 'male', '6', '0', '2', '16966', '134.5000']\n",
      "['1', 'Spedden, Mr. Frederic Oakley', 'male', '45', '1', '1', '16966', '134.5000']\n",
      "['1', 'Spedden, Mrs. Frederic Oakley (Margaretta Corning Stone)', 'female', '40', '1', '1', '16966', '134.5000']\n",
      "['1', 'Spencer, Mr. William Augustus', 'male', '57', '1', '0', 'PC 17569', '146.5208']\n",
      "['1', 'Spencer, Mrs. William Augustus (Marie Eugenie)', 'female', '0', '1', '0', 'PC 17569', '146.5208']\n",
      "['1', 'Stahelin-Maeglin, Dr. Max', 'male', '32', '0', '0', '13214', '30.5000']\n",
      "['1', 'Stead, Mr. William Thomas', 'male', '62', '0', '0', '113514', '26.5500']\n",
      "['1', 'Stengel, Mr. Charles Emil Henry', 'male', '54', '1', '0', '11778', '55.4417']\n",
      "['1', 'Stengel, Mrs. Charles Emil Henry (Annie May Morris)', 'female', '43', '1', '0', '11778', '55.4417']\n",
      "['1', 'Stephenson, Mrs. Walter Bertram (Martha Eustis)', 'female', '52', '1', '0', '36947', '78.2667']\n",
      "['1', 'Stewart, Mr. Albert A', 'male', '0', '0', '0', 'PC 17605', '27.7208']\n",
      "['1', 'Stone, Mrs. George Nelson (Martha Evelyn)', 'female', '62', '0', '0', '113572', '80.0000']\n",
      "['1', 'Straus, Mr. Isidor', 'male', '67', '1', '0', 'PC 17483', '221.7792']\n",
      "['1', 'Straus, Mrs. Isidor (Rosalie Ida Blun)', 'female', '63', '1', '0', 'PC 17483', '221.7792']\n",
      "['1', 'Sutton, Mr. Frederick', 'male', '61', '0', '0', '36963', '32.3208']\n",
      "['1', 'Swift, Mrs. Frederick Joel (Margaret Welles Barron)', 'female', '48', '0', '0', '17466', '25.9292']\n",
      "['1', 'Taussig, Miss. Ruth', 'female', '18', '0', '2', '110413', '79.6500']\n",
      "['1', 'Taussig, Mr. Emil', 'male', '52', '1', '1', '110413', '79.6500']\n",
      "['1', 'Taussig, Mrs. Emil (Tillie Mandelbaum)', 'female', '39', '1', '1', '110413', '79.6500']\n",
      "['1', 'Taylor, Mr. Elmer Zebley', 'male', '48', '1', '0', '19996', '52.0000']\n",
      "['1', 'Taylor, Mrs. Elmer Zebley (Juliet Cummins Wright)', 'female', '0', '1', '0', '19996', '52.0000']\n",
      "['1', 'Thayer, Mr. John Borland', 'male', '49', '1', '1', '17421', '110.8833']\n",
      "['1', 'Thayer, Mr. John Borland Jr', 'male', '17', '0', '2', '17421', '110.8833']\n",
      "['1', 'Thayer, Mrs. John Borland (Marian Longstreth Morris)', 'female', '39', '1', '1', '17421', '110.8833']\n",
      "['1', 'Thorne, Mrs. Gertrude Maybelle', 'female', '0', '0', '0', 'PC 17585', '79.2000']\n",
      "['1', 'Tucker, Mr. Gilbert Milligan Jr', 'male', '31', '0', '0', '2543', '28.5375']\n",
      "['1', 'Uruchurtu, Don. Manuel E', 'male', '40', '0', '0', 'PC 17601', '27.7208']\n",
      "['1', 'Van der hoef, Mr. Wyckoff', 'male', '61', '0', '0', '111240', '33.5000']\n",
      "['1', 'Walker, Mr. William Anderson', 'male', '47', '0', '0', '36967', '34.0208']\n",
      "['1', 'Ward, Miss. Anna', 'female', '35', '0', '0', 'PC 17755', '512.3292']\n",
      "['1', 'Warren, Mr. Frank Manley', 'male', '64', '1', '0', '110813', '75.2500']\n",
      "['1', 'Warren, Mrs. Frank Manley (Anna Sophia Atkinson)', 'female', '60', '1', '0', '110813', '75.2500']\n",
      "['1', 'Weir, Col. John', 'male', '60', '0', '0', '113800', '26.5500']\n",
      "['1', 'White, Mr. Percival Wayland', 'male', '54', '0', '1', '35281', '77.2875']\n",
      "['1', 'White, Mr. Richard Frasar', 'male', '21', '0', '1', '35281', '77.2875']\n",
      "['1', 'White, Mrs. John Stuart (Ella Holmes)', 'female', '55', '0', '0', 'PC 17760', '135.6333']\n",
      "['1', 'Wick, Miss. Mary Natalie', 'female', '31', '0', '2', '36928', '164.8667']\n",
      "['1', 'Wick, Mr. George Dennick', 'male', '57', '1', '1', '36928', '164.8667']\n",
      "['1', 'Wick, Mrs. George Dennick (Mary Hitchcock)', 'female', '45', '1', '1', '36928', '164.8667']\n",
      "['1', 'Widener, Mr. George Dunton', 'male', '50', '1', '1', '113503', '211.5000']\n",
      "['1', 'Widener, Mr. Harry Elkins', 'male', '27', '0', '2', '113503', '211.5000']\n",
      "['1', 'Widener, Mrs. George Dunton (Eleanor Elkins)', 'female', '50', '1', '1', '113503', '211.5000']\n",
      "['1', 'Willard, Miss. Constance', 'female', '21', '0', '0', '113795', '26.5500']\n",
      "['1', 'Williams, Mr. Charles Duane', 'male', '51', '0', '1', 'PC 17597', '61.3792']\n",
      "['1', 'Williams, Mr. Richard Norris II', 'male', '21', '0', '1', 'PC 17597', '61.3792']\n",
      "['1', 'Williams-Lambert, Mr. Fletcher Fellows', 'male', '0', '0', '0', '113510', '35.0000']\n",
      "['1', 'Wilson, Miss. Helen Alice', 'female', '31', '0', '0', '16966', '134.5000']\n",
      "['1', 'Woolner, Mr. Hugh', 'male', '0', '0', '0', '19947', '35.5000']\n",
      "['1', 'Wright, Mr. George', 'male', '62', '0', '0', '113807', '26.5500']\n",
      "['1', 'Young, Miss. Marie Grice', 'female', '36', '0', '0', 'PC 17760', '135.6333']\n",
      "['2', 'Abelson, Mr. Samuel', 'male', '30', '1', '0', 'P/PP 3381', '24.0000']\n",
      "['2', 'Abelson, Mrs. Samuel (Hannah Wizosky)', 'female', '28', '1', '0', 'P/PP 3381', '24.0000']\n",
      "['2', 'Aldworth, Mr. Charles Augustus', 'male', '30', '0', '0', '248744', '13.0000']\n",
      "['2', 'Andrew, Mr. Edgardo Samuel', 'male', '18', '0', '0', '231945', '11.5000']\n",
      "['2', 'Andrew, Mr. Frank Thomas', 'male', '25', '0', '0', 'C.A. 34050', '10.5000']\n",
      "['2', 'Angle, Mr. William A', 'male', '34', '1', '0', '226875', '26.0000']\n",
      "['2', 'Angle, Mrs. William A (Florence \"Mary\" Agnes Hughes)', 'female', '36', '1', '0', '226875', '26.0000']\n",
      "['2', 'Ashby, Mr. John', 'male', '57', '0', '0', '244346', '13.0000']\n",
      "['2', 'Bailey, Mr. Percy Andrew', 'male', '18', '0', '0', '29108', '11.5000']\n",
      "['2', 'Baimbrigge, Mr. Charles Robert', 'male', '23', '0', '0', 'C.A. 31030', '10.5000']\n",
      "['2', 'Ball, Mrs. (Ada E Hall)', 'female', '36', '0', '0', '28551', '13.0000']\n",
      "['2', 'Banfield, Mr. Frederick James', 'male', '28', '0', '0', 'C.A./SOTON 34068', '10.5000']\n",
      "['2', 'Bateman, Rev. Robert James', 'male', '51', '0', '0', 'S.O.P. 1166', '12.5250']\n",
      "['2', 'Beane, Mr. Edward', 'male', '32', '1', '0', '2908', '26.0000']\n",
      "['2', 'Beane, Mrs. Edward (Ethel Clarke)', 'female', '19', '1', '0', '2908', '26.0000']\n",
      "['2', 'Beauchamp, Mr. Henry James', 'male', '28', '0', '0', '244358', '26.0000']\n",
      "['2', 'Becker, Master. Richard F', 'male', '1', '2', '1', '230136', '39.0000']\n",
      "['2', 'Becker, Miss. Marion Louise', 'female', '4', '2', '1', '230136', '39.0000']\n",
      "['2', 'Becker, Miss. Ruth Elizabeth', 'female', '12', '2', '1', '230136', '39.0000']\n",
      "['2', 'Becker, Mrs. Allen Oliver (Nellie E Baumgardner)', 'female', '36', '0', '3', '230136', '39.0000']\n",
      "['2', 'Beesley, Mr. Lawrence', 'male', '34', '0', '0', '248698', '13.0000']\n",
      "['2', 'Bentham, Miss. Lilian W', 'female', '19', '0', '0', '28404', '13.0000']\n",
      "['2', 'Berriman, Mr. William John', 'male', '23', '0', '0', '28425', '13.0000']\n",
      "['2', 'Botsford, Mr. William Hull', 'male', '26', '0', '0', '237670', '13.0000']\n",
      "['2', 'Bowenur, Mr. Solomon', 'male', '42', '0', '0', '211535', '13.0000']\n",
      "['2', 'Bracken, Mr. James H', 'male', '27', '0', '0', '220367', '13.0000']\n",
      "['2', 'Brown, Miss. Amelia \"Mildred\"', 'female', '24', '0', '0', '248733', '13.0000']\n",
      "['2', 'Brown, Miss. Edith Eileen', 'female', '15', '0', '2', '29750', '39.0000']\n",
      "['2', 'Brown, Mr. Thomas William Solomon', 'male', '60', '1', '1', '29750', '39.0000']\n",
      "['2', 'Brown, Mrs. Thomas William Solomon (Elizabeth Catherine Ford)', 'female', '40', '1', '1', '29750', '39.0000']\n",
      "['2', 'Bryhl, Miss. Dagmar Jenny Ingeborg ', 'female', '20', '1', '0', '236853', '26.0000']\n",
      "['2', 'Bryhl, Mr. Kurt Arnold Gottfrid', 'male', '25', '1', '0', '236853', '26.0000']\n",
      "['2', 'Buss, Miss. Kate', 'female', '36', '0', '0', '27849', '13.0000']\n",
      "['2', 'Butler, Mr. Reginald Fenton', 'male', '25', '0', '0', '234686', '13.0000']\n",
      "['2', 'Byles, Rev. Thomas Roussel Davids', 'male', '42', '0', '0', '244310', '13.0000']\n",
      "['2', 'Bystrom, Mrs. (Karolina)', 'female', '42', '0', '0', '236852', '13.0000']\n",
      "['2', 'Caldwell, Master. Alden Gates', 'male', '0.8333', '0', '2', '248738', '29.0000']\n",
      "['2', 'Caldwell, Mr. Albert Francis', 'male', '26', '1', '1', '248738', '29.0000']\n",
      "['2', 'Caldwell, Mrs. Albert Francis (Sylvia Mae Harbaugh)', 'female', '22', '1', '1', '248738', '29.0000']\n",
      "['2', 'Cameron, Miss. Clear Annie', 'female', '35', '0', '0', 'F.C.C. 13528', '21.0000']\n",
      "['2', 'Campbell, Mr. William', 'male', '0', '0', '0', '239853', '0.0000']\n",
      "['2', 'Carbines, Mr. William', 'male', '19', '0', '0', '28424', '13.0000']\n",
      "['2', 'Carter, Mrs. Ernest Courtenay (Lilian Hughes)', 'female', '44', '1', '0', '244252', '26.0000']\n",
      "['2', 'Carter, Rev. Ernest Courtenay', 'male', '54', '1', '0', '244252', '26.0000']\n",
      "['2', 'Chapman, Mr. Charles Henry', 'male', '52', '0', '0', '248731', '13.5000']\n",
      "['2', 'Chapman, Mr. John Henry', 'male', '37', '1', '0', 'SC/AH 29037', '26.0000']\n",
      "['2', 'Chapman, Mrs. John Henry (Sara Elizabeth Lawry)', 'female', '29', '1', '0', 'SC/AH 29037', '26.0000']\n",
      "['2', 'Christy, Miss. Julie Rachel', 'female', '25', '1', '1', '237789', '30.0000']\n",
      "['2', 'Christy, Mrs. (Alice Frances)', 'female', '45', '0', '2', '237789', '30.0000']\n",
      "['2', 'Clarke, Mr. Charles Valentine', 'male', '29', '1', '0', '2003', '26.0000']\n",
      "['2', 'Clarke, Mrs. Charles V (Ada Maria Winfield)', 'female', '28', '1', '0', '2003', '26.0000']\n",
      "['2', 'Coleridge, Mr. Reginald Charles', 'male', '29', '0', '0', 'W./C. 14263', '10.5000']\n",
      "['2', 'Collander, Mr. Erik Gustaf', 'male', '28', '0', '0', '248740', '13.0000']\n",
      "['2', 'Collett, Mr. Sidney C Stuart', 'male', '24', '0', '0', '28034', '10.5000']\n",
      "['2', 'Collyer, Miss. Marjorie \"Lottie\"', 'female', '8', '0', '2', 'C.A. 31921', '26.2500']\n",
      "['2', 'Collyer, Mr. Harvey', 'male', '31', '1', '1', 'C.A. 31921', '26.2500']\n",
      "['2', 'Collyer, Mrs. Harvey (Charlotte Annie Tate)', 'female', '31', '1', '1', 'C.A. 31921', '26.2500']\n",
      "['2', 'Cook, Mrs. (Selena Rogers)', 'female', '22', '0', '0', 'W./C. 14266', '10.5000']\n",
      "['2', 'Corbett, Mrs. Walter H (Irene Colvin)', 'female', '30', '0', '0', '237249', '13.0000']\n",
      "['2', 'Corey, Mrs. Percy C (Mary Phyllis Elizabeth Miller)', 'female', '0', '0', '0', 'F.C.C. 13534', '21.0000']\n",
      "['2', 'Cotterill, Mr. Henry \"Harry\"', 'male', '21', '0', '0', '29107', '11.5000']\n",
      "['2', 'Cunningham, Mr. Alfred Fleming', 'male', '0', '0', '0', '239853', '0.0000']\n",
      "['2', 'Davies, Master. John Morgan Jr', 'male', '8', '1', '1', 'C.A. 33112', '36.7500']\n",
      "['2', 'Davies, Mr. Charles Henry', 'male', '18', '0', '0', 'S.O.C. 14879', '73.5000']\n",
      "['2', 'Davies, Mrs. John Morgan (Elizabeth Agnes Mary White) ', 'female', '48', '0', '2', 'C.A. 33112', '36.7500']\n",
      "['2', 'Davis, Miss. Mary', 'female', '28', '0', '0', '237668', '13.0000']\n",
      "['2', 'de Brito, Mr. Jose Joaquim', 'male', '32', '0', '0', '244360', '13.0000']\n",
      "['2', 'Deacon, Mr. Percy William', 'male', '17', '0', '0', 'S.O.C. 14879', '73.5000']\n",
      "['2', 'del Carlo, Mr. Sebastiano', 'male', '29', '1', '0', 'SC/PARIS 2167', '27.7208']\n",
      "['2', 'del Carlo, Mrs. Sebastiano (Argenia Genovesi)', 'female', '24', '1', '0', 'SC/PARIS 2167', '27.7208']\n",
      "['2', 'Denbury, Mr. Herbert', 'male', '25', '0', '0', 'C.A. 31029', '31.5000']\n",
      "['2', 'Dibden, Mr. William', 'male', '18', '0', '0', 'S.O.C. 14879', '73.5000']\n",
      "['2', 'Doling, Miss. Elsie', 'female', '18', '0', '1', '231919', '23.0000']\n",
      "['2', 'Doling, Mrs. John T (Ada Julia Bone)', 'female', '34', '0', '1', '231919', '23.0000']\n",
      "['2', 'Downton, Mr. William James', 'male', '54', '0', '0', '28403', '26.0000']\n",
      "['2', 'Drew, Master. Marshall Brines', 'male', '8', '0', '2', '28220', '32.5000']\n",
      "['2', 'Drew, Mr. James Vivian', 'male', '42', '1', '1', '28220', '32.5000']\n",
      "['2', 'Drew, Mrs. James Vivian (Lulu Thorne Christian)', 'female', '34', '1', '1', '28220', '32.5000']\n",
      "['2', 'Duran y More, Miss. Asuncion', 'female', '27', '1', '0', 'SC/PARIS 2149', '13.8583']\n",
      "['2', 'Duran y More, Miss. Florentina', 'female', '30', '1', '0', 'SC/PARIS 2148', '13.8583']\n",
      "['2', 'Eitemiller, Mr. George Floyd', 'male', '23', '0', '0', '29751', '13.0000']\n",
      "['2', 'Enander, Mr. Ingvar', 'male', '21', '0', '0', '236854', '13.0000']\n",
      "['2', 'Fahlstrom, Mr. Arne Jonas', 'male', '18', '0', '0', '236171', '13.0000']\n",
      "['2', 'Faunthorpe, Mr. Harry', 'male', '40', '1', '0', '2926', '26.0000']\n",
      "['2', 'Faunthorpe, Mrs. Lizzie (Elizabeth Anne Wilkinson)', 'female', '29', '1', '0', '2926', '26.0000']\n",
      "['2', 'Fillbrook, Mr. Joseph Charles', 'male', '18', '0', '0', 'C.A. 15185', '10.5000']\n",
      "['2', 'Fox, Mr. Stanley Hubert', 'male', '36', '0', '0', '229236', '13.0000']\n",
      "['2', 'Frost, Mr. Anthony Wood \"Archie\"', 'male', '0', '0', '0', '239854', '0.0000']\n",
      "['2', 'Funk, Miss. Annie Clemmer', 'female', '38', '0', '0', '237671', '13.0000']\n",
      "['2', 'Fynney, Mr. Joseph J', 'male', '35', '0', '0', '239865', '26.0000']\n",
      "['2', 'Gale, Mr. Harry', 'male', '38', '1', '0', '28664', '21.0000']\n",
      "['2', 'Gale, Mr. Shadrach', 'male', '34', '1', '0', '28664', '21.0000']\n",
      "['2', 'Garside, Miss. Ethel', 'female', '34', '0', '0', '243880', '13.0000']\n",
      "['2', 'Gaskell, Mr. Alfred', 'male', '16', '0', '0', '239865', '26.0000']\n",
      "['2', 'Gavey, Mr. Lawrence', 'male', '26', '0', '0', '31028', '10.5000']\n",
      "['2', 'Gilbert, Mr. William', 'male', '47', '0', '0', 'C.A. 30769', '10.5000']\n",
      "['2', 'Giles, Mr. Edgar', 'male', '21', '1', '0', '28133', '11.5000']\n",
      "['2', 'Giles, Mr. Frederick Edward', 'male', '21', '1', '0', '28134', '11.5000']\n",
      "['2', 'Giles, Mr. Ralph', 'male', '24', '0', '0', '248726', '13.5000']\n",
      "['2', 'Gill, Mr. John William', 'male', '24', '0', '0', '233866', '13.0000']\n",
      "['2', 'Gillespie, Mr. William Henry', 'male', '34', '0', '0', '12233', '13.0000']\n",
      "['2', 'Givard, Mr. Hans Kristensen', 'male', '30', '0', '0', '250646', '13.0000']\n",
      "['2', 'Greenberg, Mr. Samuel', 'male', '52', '0', '0', '250647', '13.0000']\n",
      "['2', 'Hale, Mr. Reginald', 'male', '30', '0', '0', '250653', '13.0000']\n",
      "['2', 'Hamalainen, Master. Viljo', 'male', '0.6667', '1', '1', '250649', '14.5000']\n",
      "['2', 'Hamalainen, Mrs. William (Anna)', 'female', '24', '0', '2', '250649', '14.5000']\n",
      "['2', 'Harbeck, Mr. William H', 'male', '44', '0', '0', '248746', '13.0000']\n",
      "['2', 'Harper, Miss. Annie Jessie \"Nina\"', 'female', '6', '0', '1', '248727', '33.0000']\n",
      "['2', 'Harper, Rev. John', 'male', '28', '0', '1', '248727', '33.0000']\n",
      "['2', 'Harris, Mr. George', 'male', '62', '0', '0', 'S.W./PP 752', '10.5000']\n",
      "['2', 'Harris, Mr. Walter', 'male', '30', '0', '0', 'W/C 14208', '10.5000']\n",
      "['2', 'Hart, Miss. Eva Miriam', 'female', '7', '0', '2', 'F.C.C. 13529', '26.2500']\n",
      "['2', 'Hart, Mr. Benjamin', 'male', '43', '1', '1', 'F.C.C. 13529', '26.2500']\n",
      "['2', 'Hart, Mrs. Benjamin (Esther Ada Bloomfield)', 'female', '45', '1', '1', 'F.C.C. 13529', '26.2500']\n",
      "['2', 'Herman, Miss. Alice', 'female', '24', '1', '2', '220845', '65.0000']\n",
      "['2', 'Herman, Miss. Kate', 'female', '24', '1', '2', '220845', '65.0000']\n",
      "['2', 'Herman, Mr. Samuel', 'male', '49', '1', '2', '220845', '65.0000']\n",
      "['2', 'Herman, Mrs. Samuel (Jane Laver)', 'female', '48', '1', '2', '220845', '65.0000']\n",
      "['2', 'Hewlett, Mrs. (Mary D Kingcome) ', 'female', '55', '0', '0', '248706', '16.0000']\n",
      "['2', 'Hickman, Mr. Leonard Mark', 'male', '24', '2', '0', 'S.O.C. 14879', '73.5000']\n",
      "['2', 'Hickman, Mr. Lewis', 'male', '32', '2', '0', 'S.O.C. 14879', '73.5000']\n",
      "['2', 'Hickman, Mr. Stanley George', 'male', '21', '2', '0', 'S.O.C. 14879', '73.5000']\n",
      "['2', 'Hiltunen, Miss. Marta', 'female', '18', '1', '1', '250650', '13.0000']\n",
      "['2', 'Hocking, Miss. Ellen \"Nellie\"', 'female', '20', '2', '1', '29105', '23.0000']\n",
      "['2', 'Hocking, Mr. Richard George', 'male', '23', '2', '1', '29104', '11.5000']\n",
      "['2', 'Hocking, Mr. Samuel James Metcalfe', 'male', '36', '0', '0', '242963', '13.0000']\n",
      "['2', 'Hocking, Mrs. Elizabeth (Eliza Needs)', 'female', '54', '1', '3', '29105', '23.0000']\n",
      "['2', 'Hodges, Mr. Henry Price', 'male', '50', '0', '0', '250643', '13.0000']\n",
      "['2', 'Hold, Mr. Stephen', 'male', '44', '1', '0', '26707', '26.0000']\n",
      "['2', 'Hold, Mrs. Stephen (Annie Margaret Hill)', 'female', '29', '1', '0', '26707', '26.0000']\n",
      "['2', 'Hood, Mr. Ambrose Jr', 'male', '21', '0', '0', 'S.O.C. 14879', '73.5000']\n",
      "['2', 'Hosono, Mr. Masabumi', 'male', '42', '0', '0', '237798', '13.0000']\n",
      "['2', 'Howard, Mr. Benjamin', 'male', '63', '1', '0', '24065', '26.0000']\n",
      "['2', 'Howard, Mrs. Benjamin (Ellen Truelove Arman)', 'female', '60', '1', '0', '24065', '26.0000']\n",
      "['2', 'Hunt, Mr. George Henry', 'male', '33', '0', '0', 'SCO/W 1585', '12.2750']\n",
      "['2', 'Ilett, Miss. Bertha', 'female', '17', '0', '0', 'SO/C 14885', '10.5000']\n",
      "['2', 'Jacobsohn, Mr. Sidney Samuel', 'male', '42', '1', '0', '243847', '27.0000']\n",
      "['2', 'Jacobsohn, Mrs. Sidney Samuel (Amy Frances Christy)', 'female', '24', '2', '1', '243847', '27.0000']\n",
      "['2', 'Jarvis, Mr. John Denzil', 'male', '47', '0', '0', '237565', '15.0000']\n",
      "['2', 'Jefferys, Mr. Clifford Thomas', 'male', '24', '2', '0', 'C.A. 31029', '31.5000']\n",
      "['2', 'Jefferys, Mr. Ernest Wilfred', 'male', '22', '2', '0', 'C.A. 31029', '31.5000']\n",
      "['2', 'Jenkin, Mr. Stephen Curnow', 'male', '32', '0', '0', 'C.A. 33111', '10.5000']\n",
      "['2', 'Jerwan, Mrs. Amin S (Marie Marthe Thuillard)', 'female', '23', '0', '0', 'SC/AH Basle 541', '13.7917']\n",
      "['2', 'Kantor, Mr. Sinai', 'male', '34', '1', '0', '244367', '26.0000']\n",
      "['2', 'Kantor, Mrs. Sinai (Miriam Sternin)', 'female', '24', '1', '0', '244367', '26.0000']\n",
      "['2', 'Karnes, Mrs. J Frank (Claire Bennett)', 'female', '22', '0', '0', 'F.C.C. 13534', '21.0000']\n",
      "['2', 'Keane, Miss. Nora A', 'female', '0', '0', '0', '226593', '12.3500']\n",
      "['2', 'Keane, Mr. Daniel', 'male', '35', '0', '0', '233734', '12.3500']\n",
      "['2', 'Kelly, Mrs. Florence \"Fannie\"', 'female', '45', '0', '0', '223596', '13.5000']\n",
      "['2', 'Kirkland, Rev. Charles Leonard', 'male', '57', '0', '0', '219533', '12.3500']\n",
      "['2', 'Knight, Mr. Robert J', 'male', '0', '0', '0', '239855', '0.0000']\n",
      "['2', 'Kvillner, Mr. Johan Henrik Johannesson', 'male', '31', '0', '0', 'C.A. 18723', '10.5000']\n",
      "['2', 'Lahtinen, Mrs. William (Anna Sylfven)', 'female', '26', '1', '1', '250651', '26.0000']\n",
      "['2', 'Lahtinen, Rev. William', 'male', '30', '1', '1', '250651', '26.0000']\n",
      "['2', 'Lamb, Mr. John Joseph', 'male', '0', '0', '0', '240261', '10.7083']\n",
      "['2', 'Laroche, Miss. Louise', 'female', '1', '1', '2', 'SC/Paris 2123', '41.5792']\n",
      "['2', 'Laroche, Miss. Simonne Marie Anne Andree', 'female', '3', '1', '2', 'SC/Paris 2123', '41.5792']\n",
      "['2', 'Laroche, Mr. Joseph Philippe Lemercier', 'male', '25', '1', '2', 'SC/Paris 2123', '41.5792']\n",
      "['2', 'Laroche, Mrs. Joseph (Juliette Marie Louise Lafargue)', 'female', '22', '1', '2', 'SC/Paris 2123', '41.5792']\n",
      "['2', 'Lehmann, Miss. Bertha', 'female', '17', '0', '0', 'SC 1748', '12.0000']\n",
      "['2', 'Leitch, Miss. Jessie Wills', 'female', '0', '0', '0', '248727', '33.0000']\n",
      "['2', 'Lemore, Mrs. (Amelia Milley)', 'female', '34', '0', '0', 'C.A. 34260', '10.5000']\n",
      "['2', 'Levy, Mr. Rene Jacques', 'male', '36', '0', '0', 'SC/Paris 2163', '12.8750']\n",
      "['2', 'Leyson, Mr. Robert William Norman', 'male', '24', '0', '0', 'C.A. 29566', '10.5000']\n",
      "['2', 'Lingane, Mr. John', 'male', '61', '0', '0', '235509', '12.3500']\n",
      "['2', 'Louch, Mr. Charles Alexander', 'male', '50', '1', '0', 'SC/AH 3085', '26.0000']\n",
      "['2', 'Louch, Mrs. Charles Alexander (Alice Adelaide Slow)', 'female', '42', '1', '0', 'SC/AH 3085', '26.0000']\n",
      "['2', 'Mack, Mrs. (Mary)', 'female', '57', '0', '0', 'S.O./P.P. 3', '10.5000']\n",
      "['2', 'Malachard, Mr. Noel', 'male', '0', '0', '0', '237735', '15.0458']\n",
      "['2', 'Mallet, Master. Andre', 'male', '1', '0', '2', 'S.C./PARIS 2079', '37.0042']\n",
      "['2', 'Mallet, Mr. Albert', 'male', '31', '1', '1', 'S.C./PARIS 2079', '37.0042']\n",
      "['2', 'Mallet, Mrs. Albert (Antoinette Magnin)', 'female', '24', '1', '1', 'S.C./PARIS 2079', '37.0042']\n",
      "['2', 'Mangiavacchi, Mr. Serafino Emilio', 'male', '0', '0', '0', 'SC/A.3 2861', '15.5792']\n",
      "['2', 'Matthews, Mr. William John', 'male', '30', '0', '0', '28228', '13.0000']\n",
      "['2', 'Maybery, Mr. Frank Hubert', 'male', '40', '0', '0', '239059', '16.0000']\n",
      "['2', 'McCrae, Mr. Arthur Gordon', 'male', '32', '0', '0', '237216', '13.5000']\n",
      "['2', 'McCrie, Mr. James Matthew', 'male', '30', '0', '0', '233478', '13.0000']\n",
      "['2', 'McKane, Mr. Peter David', 'male', '46', '0', '0', '28403', '26.0000']\n",
      "['2', 'Mellinger, Miss. Madeleine Violet', 'female', '13', '0', '1', '250644', '19.5000']\n",
      "['2', 'Mellinger, Mrs. (Elizabeth Anne Maidment)', 'female', '41', '0', '1', '250644', '19.5000']\n",
      "['2', 'Mellors, Mr. William John', 'male', '19', '0', '0', 'SW/PP 751', '10.5000']\n",
      "['2', 'Meyer, Mr. August', 'male', '39', '0', '0', '248723', '13.0000']\n",
      "['2', 'Milling, Mr. Jacob Christian', 'male', '48', '0', '0', '234360', '13.0000']\n",
      "['2', 'Mitchell, Mr. Henry Michael', 'male', '70', '0', '0', 'C.A. 24580', '10.5000']\n",
      "['2', 'Montvila, Rev. Juozas', 'male', '27', '0', '0', '211536', '13.0000']\n",
      "['2', 'Moraweck, Dr. Ernest', 'male', '54', '0', '0', '29011', '14.0000']\n",
      "['2', 'Morley, Mr. Henry Samuel (\"Mr Henry Marshall\")', 'male', '39', '0', '0', '250655', '26.0000']\n",
      "['2', 'Mudd, Mr. Thomas Charles', 'male', '16', '0', '0', 'S.O./P.P. 3', '10.5000']\n",
      "['2', 'Myles, Mr. Thomas Francis', 'male', '62', '0', '0', '240276', '9.6875']\n",
      "['2', 'Nasser, Mr. Nicholas', 'male', '32.5', '1', '0', '237736', '30.0708']\n",
      "['2', 'Nasser, Mrs. Nicholas (Adele Achem)', 'female', '14', '1', '0', '237736', '30.0708']\n",
      "['2', 'Navratil, Master. Edmond Roger', 'male', '2', '1', '1', '230080', '26.0000']\n",
      "['2', 'Navratil, Master. Michel M', 'male', '3', '1', '1', '230080', '26.0000']\n",
      "['2', 'Navratil, Mr. Michel (\"Louis M Hoffman\")', 'male', '36.5', '0', '2', '230080', '26.0000']\n",
      "['2', 'Nesson, Mr. Israel', 'male', '26', '0', '0', '244368', '13.0000']\n",
      "['2', 'Nicholls, Mr. Joseph Charles', 'male', '19', '1', '1', 'C.A. 33112', '36.7500']\n",
      "['2', 'Norman, Mr. Robert Douglas', 'male', '28', '0', '0', '218629', '13.5000']\n",
      "['2', 'Nourney, Mr. Alfred (\"Baron von Drachstedt\")', 'male', '20', '0', '0', 'SC/PARIS 2166', '13.8625']\n",
      "['2', 'Nye, Mrs. (Elizabeth Ramell)', 'female', '29', '0', '0', 'C.A. 29395', '10.5000']\n",
      "['2', 'Otter, Mr. Richard', 'male', '39', '0', '0', '28213', '13.0000']\n",
      "['2', 'Oxenham, Mr. Percy Thomas', 'male', '22', '0', '0', 'W./C. 14260', '10.5000']\n",
      "['2', 'Padro y Manent, Mr. Julian', 'male', '0', '0', '0', 'SC/PARIS 2146', '13.8625']\n",
      "['2', 'Pain, Dr. Alfred', 'male', '23', '0', '0', '244278', '10.5000']\n",
      "['2', 'Pallas y Castello, Mr. Emilio', 'male', '29', '0', '0', 'SC/PARIS 2147', '13.8583']\n",
      "['2', 'Parker, Mr. Clifford Richard', 'male', '28', '0', '0', 'SC 14888', '10.5000']\n",
      "['2', 'Parkes, Mr. Francis \"Frank\"', 'male', '0', '0', '0', '239853', '0.0000']\n",
      "['2', 'Parrish, Mrs. (Lutie Davis)', 'female', '50', '0', '1', '230433', '26.0000']\n",
      "['2', 'Pengelly, Mr. Frederick William', 'male', '19', '0', '0', '28665', '10.5000']\n",
      "['2', 'Pernot, Mr. Rene', 'male', '0', '0', '0', 'SC/PARIS 2131', '15.0500']\n",
      "['2', 'Peruschitz, Rev. Joseph Maria', 'male', '41', '0', '0', '237393', '13.0000']\n",
      "['2', 'Phillips, Miss. Alice Frances Louisa', 'female', '21', '0', '1', 'S.O./P.P. 2', '21.0000']\n",
      "['2', 'Phillips, Miss. Kate Florence (\"Mrs Kate Louise Phillips Marshall\")', 'female', '19', '0', '0', '250655', '26.0000']\n",
      "['2', 'Phillips, Mr. Escott Robert', 'male', '43', '0', '1', 'S.O./P.P. 2', '21.0000']\n",
      "['2', 'Pinsky, Mrs. (Rosa)', 'female', '32', '0', '0', '234604', '13.0000']\n",
      "['2', 'Ponesell, Mr. Martin', 'male', '34', '0', '0', '250647', '13.0000']\n",
      "['2', 'Portaluppi, Mr. Emilio Ilario Giuseppe', 'male', '30', '0', '0', 'C.A. 34644', '12.7375']\n",
      "['2', 'Pulbaum, Mr. Franz', 'male', '27', '0', '0', 'SC/PARIS 2168', '15.0333']\n",
      "['2', 'Quick, Miss. Phyllis May', 'female', '2', '1', '1', '26360', '26.0000']\n",
      "['2', 'Quick, Miss. Winifred Vera', 'female', '8', '1', '1', '26360', '26.0000']\n",
      "['2', 'Quick, Mrs. Frederick Charles (Jane Richards)', 'female', '33', '0', '2', '26360', '26.0000']\n",
      "['2', 'Reeves, Mr. David', 'male', '36', '0', '0', 'C.A. 17248', '10.5000']\n",
      "['2', 'Renouf, Mr. Peter Henry', 'male', '34', '1', '0', '31027', '21.0000']\n",
      "['2', 'Renouf, Mrs. Peter Henry (Lillian Jefferys)', 'female', '30', '3', '0', '31027', '21.0000']\n",
      "['2', 'Reynaldo, Ms. Encarnacion', 'female', '28', '0', '0', '230434', '13.0000']\n",
      "['2', 'Richard, Mr. Emile', 'male', '23', '0', '0', 'SC/PARIS 2133', '15.0458']\n",
      "['2', 'Richards, Master. George Sibley', 'male', '0.8333', '1', '1', '29106', '18.7500']\n",
      "['2', 'Richards, Master. William Rowe', 'male', '3', '1', '1', '29106', '18.7500']\n",
      "['2', 'Richards, Mrs. Sidney (Emily Hocking)', 'female', '24', '2', '3', '29106', '18.7500']\n",
      "['2', 'Ridsdale, Miss. Lucy', 'female', '50', '0', '0', 'W./C. 14258', '10.5000']\n",
      "['2', 'Rogers, Mr. Reginald Harry', 'male', '19', '0', '0', '28004', '10.5000']\n",
      "['2', 'Rugg, Miss. Emily', 'female', '21', '0', '0', 'C.A. 31026', '10.5000']\n",
      "['2', 'Schmidt, Mr. August', 'male', '26', '0', '0', '248659', '13.0000']\n",
      "['2', 'Sedgwick, Mr. Charles Frederick Waddington', 'male', '25', '0', '0', '244361', '13.0000']\n",
      "['2', 'Sharp, Mr. Percival James R', 'male', '27', '0', '0', '244358', '26.0000']\n",
      "['2', 'Shelley, Mrs. William (Imanita Parrish Hall)', 'female', '25', '0', '1', '230433', '26.0000']\n",
      "['2', 'Silven, Miss. Lyyli Karoliina', 'female', '18', '0', '2', '250652', '13.0000']\n",
      "['2', 'Sincock, Miss. Maude', 'female', '20', '0', '0', 'C.A. 33112', '36.7500']\n",
      "['2', 'Sinkkonen, Miss. Anna', 'female', '30', '0', '0', '250648', '13.0000']\n",
      "['2', 'Sjostedt, Mr. Ernst Adolf', 'male', '59', '0', '0', '237442', '13.5000']\n",
      "['2', 'Slayter, Miss. Hilda Mary', 'female', '30', '0', '0', '234818', '12.3500']\n",
      "['2', 'Slemen, Mr. Richard James', 'male', '35', '0', '0', '28206', '10.5000']\n",
      "['2', 'Smith, Miss. Marion Elsie', 'female', '40', '0', '0', '31418', '13.0000']\n",
      "['2', 'Sobey, Mr. Samuel James Hayden', 'male', '25', '0', '0', 'C.A. 29178', '13.0000']\n",
      "['2', 'Stanton, Mr. Samuel Ward', 'male', '41', '0', '0', '237734', '15.0458']\n",
      "['2', 'Stokes, Mr. Philip Joseph', 'male', '25', '0', '0', 'F.C.C. 13540', '10.5000']\n",
      "['2', 'Swane, Mr. George', 'male', '18.5', '0', '0', '248734', '13.0000']\n",
      "['2', 'Sweet, Mr. George Frederick', 'male', '14', '0', '0', '220845', '65.0000']\n",
      "['2', 'Toomey, Miss. Ellen', 'female', '50', '0', '0', 'F.C.C. 13531', '10.5000']\n",
      "['2', 'Troupiansky, Mr. Moses Aaron', 'male', '23', '0', '0', '233639', '13.0000']\n",
      "['2', 'Trout, Mrs. William H (Jessie L)', 'female', '28', '0', '0', '240929', '12.6500']\n",
      "['2', 'Troutt, Miss. Edwina Celia \"Winnie\"', 'female', '27', '0', '0', '34218', '10.5000']\n",
      "['2', 'Turpin, Mr. William John Robert', 'male', '29', '1', '0', '11668', '21.0000']\n",
      "['2', 'Turpin, Mrs. William John Robert (Dorothy Ann Wonnacott)', 'female', '27', '1', '0', '11668', '21.0000']\n",
      "['2', 'Veal, Mr. James', 'male', '40', '0', '0', '28221', '13.0000']\n",
      "['2', 'Walcroft, Miss. Nellie', 'female', '31', '0', '0', 'F.C.C. 13528', '21.0000']\n",
      "['2', 'Ware, Mr. John James', 'male', '30', '1', '0', 'CA 31352', '21.0000']\n",
      "['2', 'Ware, Mr. William Jeffery', 'male', '23', '1', '0', '28666', '10.5000']\n",
      "['2', 'Ware, Mrs. John James (Florence Louise Long)', 'female', '31', '0', '0', 'CA 31352', '21.0000']\n",
      "['2', 'Watson, Mr. Ennis Hastings', 'male', '0', '0', '0', '239856', '0.0000']\n",
      "['2', 'Watt, Miss. Bertha J', 'female', '12', '0', '0', 'C.A. 33595', '15.7500']\n",
      "['2', 'Watt, Mrs. James (Elizabeth \"Bessie\" Inglis Milne)', 'female', '40', '0', '0', 'C.A. 33595', '15.7500']\n",
      "['2', 'Webber, Miss. Susan', 'female', '32.5', '0', '0', '27267', '13.0000']\n",
      "['2', 'Weisz, Mr. Leopold', 'male', '27', '1', '0', '228414', '26.0000']\n",
      "['2', 'Weisz, Mrs. Leopold (Mathilde Francoise Pede)', 'female', '29', '1', '0', '228414', '26.0000']\n",
      "['2', 'Wells, Master. Ralph Lester', 'male', '2', '1', '1', '29103', '23.0000']\n",
      "['2', 'Wells, Miss. Joan', 'female', '4', '1', '1', '29103', '23.0000']\n",
      "['2', 'Wells, Mrs. Arthur Henry (\"Addie\" Dart Trevaskis)', 'female', '29', '0', '2', '29103', '23.0000']\n",
      "['2', 'West, Miss. Barbara J', 'female', '0.9167', '1', '2', 'C.A. 34651', '27.7500']\n",
      "['2', 'West, Miss. Constance Mirium', 'female', '5', '1', '2', 'C.A. 34651', '27.7500']\n",
      "['2', 'West, Mr. Edwy Arthur', 'male', '36', '1', '2', 'C.A. 34651', '27.7500']\n",
      "['2', 'West, Mrs. Edwy Arthur (Ada Mary Worth)', 'female', '33', '1', '2', 'C.A. 34651', '27.7500']\n",
      "['2', 'Wheadon, Mr. Edward H', 'male', '66', '0', '0', 'C.A. 24579', '10.5000']\n",
      "['2', 'Wheeler, Mr. Edwin \"Frederick\"', 'male', '0', '0', '0', 'SC/PARIS 2159', '12.8750']\n",
      "['2', 'Wilhelms, Mr. Charles', 'male', '31', '0', '0', '244270', '13.0000']\n",
      "['2', 'Williams, Mr. Charles Eugene', 'male', '0', '0', '0', '244373', '13.0000']\n",
      "['2', 'Wright, Miss. Marion', 'female', '26', '0', '0', '220844', '13.5000']\n",
      "['2', 'Yrois, Miss. Henriette (\"Mrs Harbeck\")', 'female', '24', '0', '0', '248747', '13.0000']\n",
      "['3', 'Abbing, Mr. Anthony', 'male', '42', '0', '0', 'C.A. 5547', '7.5500']\n",
      "['3', 'Abbott, Master. Eugene Joseph', 'male', '13', '0', '2', 'C.A. 2673', '20.2500']\n",
      "['3', 'Abbott, Mr. Rossmore Edward', 'male', '16', '1', '1', 'C.A. 2673', '20.2500']\n",
      "['3', 'Abbott, Mrs. Stanton (Rosa Hunt)', 'female', '35', '1', '1', 'C.A. 2673', '20.2500']\n",
      "['3', 'Abelseth, Miss. Karen Marie', 'female', '16', '0', '0', '348125', '7.6500']\n",
      "['3', 'Abelseth, Mr. Olaus Jorgensen', 'male', '25', '0', '0', '348122', '7.6500']\n",
      "['3', 'Abrahamsson, Mr. Abraham August Johannes', 'male', '20', '0', '0', 'SOTON/O2 3101284', '7.9250']\n",
      "['3', 'Abrahim, Mrs. Joseph (Sophie Halaut Easu)', 'female', '18', '0', '0', '2657', '7.2292']\n",
      "['3', 'Adahl, Mr. Mauritz Nils Martin', 'male', '30', '0', '0', 'C 7076', '7.2500']\n",
      "['3', 'Adams, Mr. John', 'male', '26', '0', '0', '341826', '8.0500']\n",
      "['3', 'Ahlin, Mrs. Johan (Johanna Persdotter Larsson)', 'female', '40', '1', '0', '7546', '9.4750']\n",
      "['3', 'Aks, Master. Philip Frank', 'male', '0.8333', '0', '1', '392091', '9.3500']\n",
      "['3', 'Aks, Mrs. Sam (Leah Rosen)', 'female', '18', '0', '1', '392091', '9.3500']\n",
      "['3', 'Albimona, Mr. Nassef Cassem', 'male', '26', '0', '0', '2699', '18.7875']\n",
      "['3', 'Alexander, Mr. William', 'male', '26', '0', '0', '3474', '7.8875']\n",
      "['3', 'Alhomaki, Mr. Ilmari Rudolf', 'male', '20', '0', '0', 'SOTON/O2 3101287', '7.9250']\n",
      "['3', 'Ali, Mr. Ahmed', 'male', '24', '0', '0', 'SOTON/O.Q. 3101311', '7.0500']\n",
      "['3', 'Ali, Mr. William', 'male', '25', '0', '0', 'SOTON/O.Q. 3101312', '7.0500']\n",
      "['3', 'Allen, Mr. William Henry', 'male', '35', '0', '0', '373450', '8.0500']\n",
      "['3', 'Allum, Mr. Owen George', 'male', '18', '0', '0', '2223', '8.3000']\n",
      "['3', 'Andersen, Mr. Albert Karvin', 'male', '32', '0', '0', 'C 4001', '22.5250']\n",
      "['3', 'Andersen-Jensen, Miss. Carla Christine Nielsine', 'female', '19', '1', '0', '350046', '7.8542']\n",
      "['3', 'Andersson, Master. Sigvard Harald Elias', 'male', '4', '4', '2', '347082', '31.2750']\n",
      "['3', 'Andersson, Miss. Ebba Iris Alfrida', 'female', '6', '4', '2', '347082', '31.2750']\n",
      "['3', 'Andersson, Miss. Ellis Anna Maria', 'female', '2', '4', '2', '347082', '31.2750']\n",
      "['3', 'Andersson, Miss. Erna Alexandra', 'female', '17', '4', '2', '3101281', '7.9250']\n",
      "['3', 'Andersson, Miss. Ida Augusta Margareta', 'female', '38', '4', '2', '347091', '7.7750']\n",
      "['3', 'Andersson, Miss. Ingeborg Constanzia', 'female', '9', '4', '2', '347082', '31.2750']\n",
      "['3', 'Andersson, Miss. Sigrid Elisabeth', 'female', '11', '4', '2', '347082', '31.2750']\n",
      "['3', 'Andersson, Mr. Anders Johan', 'male', '39', '1', '5', '347082', '31.2750']\n",
      "['3', 'Andersson, Mr. August Edvard (\"Wennerstrom\")', 'male', '27', '0', '0', '350043', '7.7958']\n",
      "['3', 'Andersson, Mr. Johan Samuel', 'male', '26', '0', '0', '347075', '7.7750']\n",
      "['3', 'Andersson, Mrs. Anders Johan (Alfrida Konstantia Brogren)', 'female', '39', '1', '5', '347082', '31.2750']\n",
      "['3', 'Andreasson, Mr. Paul Edvin', 'male', '20', '0', '0', '347466', '7.8542']\n",
      "['3', 'Angheloff, Mr. Minko', 'male', '26', '0', '0', '349202', '7.8958']\n",
      "['3', 'Arnold-Franchi, Mr. Josef', 'male', '25', '1', '0', '349237', '17.8000']\n",
      "['3', 'Arnold-Franchi, Mrs. Josef (Josefine Franchi)', 'female', '18', '1', '0', '349237', '17.8000']\n",
      "['3', 'Aronsson, Mr. Ernst Axel Algot', 'male', '24', '0', '0', '349911', '7.7750']\n",
      "['3', 'Asim, Mr. Adola', 'male', '35', '0', '0', 'SOTON/O.Q. 3101310', '7.0500']\n",
      "['3', 'Asplund, Master. Carl Edgar', 'male', '5', '4', '2', '347077', '31.3875']\n",
      "['3', 'Asplund, Master. Clarence Gustaf Hugo', 'male', '9', '4', '2', '347077', '31.3875']\n",
      "['3', 'Asplund, Master. Edvin Rojj Felix', 'male', '3', '4', '2', '347077', '31.3875']\n",
      "['3', 'Asplund, Master. Filip Oscar', 'male', '13', '4', '2', '347077', '31.3875']\n",
      "['3', 'Asplund, Miss. Lillian Gertrud', 'female', '5', '4', '2', '347077', '31.3875']\n",
      "['3', 'Asplund, Mr. Carl Oscar Vilhelm Gustafsson', 'male', '40', '1', '5', '347077', '31.3875']\n",
      "['3', 'Asplund, Mr. Johan Charles', 'male', '23', '0', '0', '350054', '7.7958']\n",
      "['3', 'Asplund, Mrs. Carl Oscar (Selma Augusta Emilia Johansson)', 'female', '38', '1', '5', '347077', '31.3875']\n",
      "['3', 'Assaf Khalil, Mrs. Mariana (\"Miriam\")', 'female', '45', '0', '0', '2696', '7.2250']\n",
      "['3', 'Assaf, Mr. Gerios', 'male', '21', '0', '0', '2692', '7.2250']\n",
      "['3', 'Assam, Mr. Ali', 'male', '23', '0', '0', 'SOTON/O.Q. 3101309', '7.0500']\n",
      "['3', 'Attalah, Miss. Malake', 'female', '17', '0', '0', '2627', '14.4583']\n",
      "['3', 'Attalah, Mr. Sleiman', 'male', '30', '0', '0', '2694', '7.2250']\n",
      "['3', 'Augustsson, Mr. Albert', 'male', '23', '0', '0', '347468', '7.8542']\n",
      "['3', 'Ayoub, Miss. Banoura', 'female', '13', '0', '0', '2687', '7.2292']\n",
      "['3', 'Baccos, Mr. Raffull', 'male', '20', '0', '0', '2679', '7.2250']\n",
      "['3', 'Backstrom, Mr. Karl Alfred', 'male', '32', '1', '0', '3101278', '15.8500']\n",
      "['3', 'Backstrom, Mrs. Karl Alfred (Maria Mathilda Gustafsson)', 'female', '33', '3', '0', '3101278', '15.8500']\n",
      "['3', 'Baclini, Miss. Eugenie', 'female', '0.75', '2', '1', '2666', '19.2583']\n",
      "['3', 'Baclini, Miss. Helene Barbara', 'female', '0.75', '2', '1', '2666', '19.2583']\n",
      "['3', 'Baclini, Miss. Marie Catherine', 'female', '5', '2', '1', '2666', '19.2583']\n",
      "['3', 'Baclini, Mrs. Solomon (Latifa Qurban)', 'female', '24', '0', '3', '2666', '19.2583']\n",
      "['3', 'Badman, Miss. Emily Louisa', 'female', '18', '0', '0', 'A/4 31416', '8.0500']\n",
      "['3', 'Badt, Mr. Mohamed', 'male', '40', '0', '0', '2623', '7.2250']\n",
      "['3', 'Balkic, Mr. Cerin', 'male', '26', '0', '0', '349248', '7.8958']\n",
      "['3', 'Barah, Mr. Hanna Assi', 'male', '20', '0', '0', '2663', '7.2292']\n",
      "['3', 'Barbara, Miss. Saiide', 'female', '18', '0', '1', '2691', '14.4542']\n",
      "['3', 'Barbara, Mrs. (Catherine David)', 'female', '45', '0', '1', '2691', '14.4542']\n",
      "['3', 'Barry, Miss. Julia', 'female', '27', '0', '0', '330844', '7.8792']\n",
      "['3', 'Barton, Mr. David John', 'male', '22', '0', '0', '324669', '8.0500']\n",
      "['3', 'Beavan, Mr. William Thomas', 'male', '19', '0', '0', '323951', '8.0500']\n",
      "['3', 'Bengtsson, Mr. John Viktor', 'male', '26', '0', '0', '347068', '7.7750']\n",
      "['3', 'Berglund, Mr. Karl Ivar Sven', 'male', '22', '0', '0', 'PP 4348', '9.3500']\n",
      "['3', 'Betros, Master. Seman', 'male', '0', '0', '0', '2622', '7.2292']\n",
      "['3', 'Betros, Mr. Tannous', 'male', '20', '0', '0', '2648', '4.0125']\n",
      "['3', 'Bing, Mr. Lee', 'male', '32', '0', '0', '1601', '56.4958']\n",
      "['3', 'Birkeland, Mr. Hans Martin Monsen', 'male', '21', '0', '0', '312992', '7.7750']\n",
      "['3', 'Bjorklund, Mr. Ernst Herbert', 'male', '18', '0', '0', '347090', '7.7500']\n",
      "['3', 'Bostandyeff, Mr. Guentcho', 'male', '26', '0', '0', '349224', '7.8958']\n",
      "['3', 'Boulos, Master. Akar', 'male', '6', '1', '1', '2678', '15.2458']\n",
      "['3', 'Boulos, Miss. Nourelain', 'female', '9', '1', '1', '2678', '15.2458']\n",
      "['3', 'Boulos, Mr. Hanna', 'male', '0', '0', '0', '2664', '7.2250']\n",
      "['3', 'Boulos, Mrs. Joseph (Sultana)', 'female', '0', '0', '2', '2678', '15.2458']\n",
      "['3', 'Bourke, Miss. Mary', 'female', '0', '0', '2', '364848', '7.7500']\n",
      "['3', 'Bourke, Mr. John', 'male', '40', '1', '1', '364849', '15.5000']\n",
      "['3', 'Bourke, Mrs. John (Catherine)', 'female', '32', '1', '1', '364849', '15.5000']\n",
      "['3', 'Bowen, Mr. David John \"Dai\"', 'male', '21', '0', '0', '54636', '16.1000']\n",
      "['3', 'Bradley, Miss. Bridget Delia', 'female', '22', '0', '0', '334914', '7.7250']\n",
      "['3', 'Braf, Miss. Elin Ester Maria', 'female', '20', '0', '0', '347471', '7.8542']\n",
      "['3', 'Braund, Mr. Lewis Richard', 'male', '29', '1', '0', '3460', '7.0458']\n",
      "['3', 'Braund, Mr. Owen Harris', 'male', '22', '1', '0', 'A/5 21171', '7.2500']\n",
      "['3', 'Brobeck, Mr. Karl Rudolf', 'male', '22', '0', '0', '350045', '7.7958']\n",
      "['3', 'Brocklebank, Mr. William Alfred', 'male', '35', '0', '0', '364512', '8.0500']\n",
      "['3', 'Buckley, Miss. Katherine', 'female', '18.5', '0', '0', '329944', '7.2833']\n",
      "['3', 'Buckley, Mr. Daniel', 'male', '21', '0', '0', '330920', '7.8208']\n",
      "['3', 'Burke, Mr. Jeremiah', 'male', '19', '0', '0', '365222', '6.7500']\n",
      "['3', 'Burns, Miss. Mary Delia', 'female', '18', '0', '0', '330963', '7.8792']\n",
      "['3', 'Cacic, Miss. Manda', 'female', '21', '0', '0', '315087', '8.6625']\n",
      "['3', 'Cacic, Miss. Marija', 'female', '30', '0', '0', '315084', '8.6625']\n",
      "['3', 'Cacic, Mr. Jego Grga', 'male', '18', '0', '0', '315091', '8.6625']\n",
      "['3', 'Cacic, Mr. Luka', 'male', '38', '0', '0', '315089', '8.6625']\n",
      "['3', 'Calic, Mr. Jovo', 'male', '17', '0', '0', '315093', '8.6625']\n",
      "['3', 'Calic, Mr. Petar', 'male', '17', '0', '0', '315086', '8.6625']\n",
      "['3', 'Canavan, Miss. Mary', 'female', '21', '0', '0', '364846', '7.7500']\n",
      "['3', 'Canavan, Mr. Patrick', 'male', '21', '0', '0', '364858', '7.7500']\n",
      "['3', 'Cann, Mr. Ernest Charles', 'male', '21', '0', '0', 'A./5. 2152', '8.0500']\n",
      "['3', 'Caram, Mr. Joseph', 'male', '0', '1', '0', '2689', '14.4583']\n",
      "['3', 'Caram, Mrs. Joseph (Maria Elias)', 'female', '0', '1', '0', '2689', '14.4583']\n",
      "['3', 'Carlsson, Mr. August Sigfrid', 'male', '28', '0', '0', '350042', '7.7958']\n",
      "['3', 'Carlsson, Mr. Carl Robert', 'male', '24', '0', '0', '350409', '7.8542']\n",
      "['3', 'Carr, Miss. Helen \"Ellen\"', 'female', '16', '0', '0', '367231', '7.7500']\n",
      "['3', 'Carr, Miss. Jeannie', 'female', '37', '0', '0', '368364', '7.7500']\n",
      "['3', 'Carver, Mr. Alfred John', 'male', '28', '0', '0', '392095', '7.2500']\n",
      "['3', 'Celotti, Mr. Francesco', 'male', '24', '0', '0', '343275', '8.0500']\n",
      "['3', 'Charters, Mr. David', 'male', '21', '0', '0', 'A/5. 13032', '7.7333']\n",
      "['3', 'Chip, Mr. Chang', 'male', '32', '0', '0', '1601', '56.4958']\n",
      "['3', 'Christmann, Mr. Emil', 'male', '29', '0', '0', '343276', '8.0500']\n",
      "['3', 'Chronopoulos, Mr. Apostolos', 'male', '26', '1', '0', '2680', '14.4542']\n",
      "['3', 'Chronopoulos, Mr. Demetrios', 'male', '18', '1', '0', '2680', '14.4542']\n",
      "['3', 'Coelho, Mr. Domingos Fernandeo', 'male', '20', '0', '0', 'SOTON/O.Q. 3101307', '7.0500']\n",
      "['3', 'Cohen, Mr. Gurshon \"Gus\"', 'male', '18', '0', '0', 'A/5 3540', '8.0500']\n",
      "['3', 'Colbert, Mr. Patrick', 'male', '24', '0', '0', '371109', '7.2500']\n",
      "['3', 'Coleff, Mr. Peju', 'male', '36', '0', '0', '349210', '7.4958']\n",
      "['3', 'Coleff, Mr. Satio', 'male', '24', '0', '0', '349209', '7.4958']\n",
      "['3', 'Conlon, Mr. Thomas Henry', 'male', '31', '0', '0', '21332', '7.7333']\n",
      "['3', 'Connaghton, Mr. Michael', 'male', '31', '0', '0', '335097', '7.7500']\n",
      "['3', 'Connolly, Miss. Kate', 'female', '22', '0', '0', '370373', '7.7500']\n",
      "['3', 'Connolly, Miss. Kate', 'female', '30', '0', '0', '330972', '7.6292']\n",
      "['3', 'Connors, Mr. Patrick', 'male', '70.5', '0', '0', '370369', '7.7500']\n",
      "['3', 'Cook, Mr. Jacob', 'male', '43', '0', '0', 'A/5 3536', '8.0500']\n",
      "['3', 'Cor, Mr. Bartol', 'male', '35', '0', '0', '349230', '7.8958']\n",
      "['3', 'Cor, Mr. Ivan', 'male', '27', '0', '0', '349229', '7.8958']\n",
      "['3', 'Cor, Mr. Liudevit', 'male', '19', '0', '0', '349231', '7.8958']\n",
      "['3', 'Corn, Mr. Harry', 'male', '30', '0', '0', 'SOTON/OQ 392090', '8.0500']\n",
      "['3', 'Coutts, Master. Eden Leslie \"Neville\"', 'male', '9', '1', '1', 'C.A. 37671', '15.9000']\n",
      "['3', 'Coutts, Master. William Loch \"William\"', 'male', '3', '1', '1', 'C.A. 37671', '15.9000']\n",
      "['3', 'Coutts, Mrs. William (Winnie \"Minnie\" Treanor)', 'female', '36', '0', '2', 'C.A. 37671', '15.9000']\n",
      "['3', 'Coxon, Mr. Daniel', 'male', '59', '0', '0', '364500', '7.2500']\n",
      "['3', 'Crease, Mr. Ernest James', 'male', '19', '0', '0', 'S.P. 3464', '8.1583']\n",
      "['3', 'Cribb, Miss. Laura Alice', 'female', '17', '0', '1', '371362', '16.1000']\n",
      "['3', 'Cribb, Mr. John Hatfield', 'male', '44', '0', '1', '371362', '16.1000']\n",
      "['3', 'Culumovic, Mr. Jeso', 'male', '17', '0', '0', '315090', '8.6625']\n",
      "['3', 'Daher, Mr. Shedid', 'male', '22.5', '0', '0', '2698', '7.2250']\n",
      "['3', 'Dahl, Mr. Karl Edwart', 'male', '45', '0', '0', '7598', '8.0500']\n",
      "['3', 'Dahlberg, Miss. Gerda Ulrika', 'female', '22', '0', '0', '7552', '10.5167']\n",
      "['3', 'Dakic, Mr. Branko', 'male', '19', '0', '0', '349228', '10.1708']\n",
      "['3', 'Daly, Miss. Margaret Marcella \"Maggie\"', 'female', '30', '0', '0', '382650', '6.9500']\n",
      "['3', 'Daly, Mr. Eugene Patrick', 'male', '29', '0', '0', '382651', '7.7500']\n",
      "['3', 'Danbom, Master. Gilbert Sigvard Emanuel', 'male', '0.3333', '0', '2', '347080', '14.4000']\n",
      "['3', 'Danbom, Mr. Ernst Gilbert', 'male', '34', '1', '1', '347080', '14.4000']\n",
      "['3', 'Danbom, Mrs. Ernst Gilbert (Anna Sigrid Maria Brogren)', 'female', '28', '1', '1', '347080', '14.4000']\n",
      "['3', 'Danoff, Mr. Yoto', 'male', '27', '0', '0', '349219', '7.8958']\n",
      "['3', 'Dantcheff, Mr. Ristiu', 'male', '25', '0', '0', '349203', '7.8958']\n",
      "['3', 'Davies, Mr. Alfred J', 'male', '24', '2', '0', 'A/4 48871', '24.1500']\n",
      "['3', 'Davies, Mr. Evan', 'male', '22', '0', '0', 'SC/A4 23568', '8.0500']\n",
      "['3', 'Davies, Mr. John Samuel', 'male', '21', '2', '0', 'A/4 48871', '24.1500']\n",
      "['3', 'Davies, Mr. Joseph', 'male', '17', '2', '0', 'A/4 48873', '8.0500']\n",
      "['3', 'Davison, Mr. Thomas Henry', 'male', '0', '1', '0', '386525', '16.1000']\n",
      "['3', 'Davison, Mrs. Thomas Henry (Mary E Finck)', 'female', '0', '1', '0', '386525', '16.1000']\n",
      "['3', 'de Messemaeker, Mr. Guillaume Joseph', 'male', '36.5', '1', '0', '345572', '17.4000']\n",
      "['3', 'de Messemaeker, Mrs. Guillaume Joseph (Emma)', 'female', '36', '1', '0', '345572', '17.4000']\n",
      "['3', 'de Mulder, Mr. Theodore', 'male', '30', '0', '0', '345774', '9.5000']\n",
      "['3', 'de Pelsmaeker, Mr. Alfons', 'male', '16', '0', '0', '345778', '9.5000']\n",
      "['3', 'Dean, Master. Bertram Vere', 'male', '1', '1', '2', 'C.A. 2315', '20.5750']\n",
      "['3', 'Dean, Miss. Elizabeth Gladys \"Millvina\"', 'female', '0.1667', '1', '2', 'C.A. 2315', '20.5750']\n",
      "['3', 'Dean, Mr. Bertram Frank', 'male', '26', '1', '2', 'C.A. 2315', '20.5750']\n",
      "['3', 'Dean, Mrs. Bertram (Eva Georgetta Light)', 'female', '33', '1', '2', 'C.A. 2315', '20.5750']\n",
      "['3', 'Delalic, Mr. Redjo', 'male', '25', '0', '0', '349250', '7.8958']\n",
      "['3', 'Demetri, Mr. Marinko', 'male', '0', '0', '0', '349238', '7.8958']\n",
      "['3', 'Denkoff, Mr. Mitto', 'male', '0', '0', '0', '349225', '7.8958']\n",
      "['3', 'Dennis, Mr. Samuel', 'male', '22', '0', '0', 'A/5 21172', '7.2500']\n",
      "['3', 'Dennis, Mr. William', 'male', '36', '0', '0', 'A/5 21175', '7.2500']\n",
      "['3', 'Devaney, Miss. Margaret Delia', 'female', '19', '0', '0', '330958', '7.8792']\n",
      "['3', 'Dika, Mr. Mirko', 'male', '17', '0', '0', '349232', '7.8958']\n",
      "['3', 'Dimic, Mr. Jovan', 'male', '42', '0', '0', '315088', '8.6625']\n",
      "['3', 'Dintcheff, Mr. Valtcho', 'male', '43', '0', '0', '349226', '7.8958']\n",
      "['3', 'Doharr, Mr. Tannous', 'male', '0', '0', '0', '2686', '7.2292']\n",
      "['3', 'Dooley, Mr. Patrick', 'male', '32', '0', '0', '370376', '7.7500']\n",
      "['3', 'Dorking, Mr. Edward Arthur', 'male', '19', '0', '0', 'A/5. 10482', '8.0500']\n",
      "['3', 'Dowdell, Miss. Elizabeth', 'female', '30', '0', '0', '364516', '12.4750']\n",
      "['3', 'Doyle, Miss. Elizabeth', 'female', '24', '0', '0', '368702', '7.7500']\n",
      "['3', 'Drapkin, Miss. Jennie', 'female', '23', '0', '0', 'SOTON/OQ 392083', '8.0500']\n",
      "['3', 'Drazenoic, Mr. Jozef', 'male', '33', '0', '0', '349241', '7.8958']\n",
      "['3', 'Duane, Mr. Frank', 'male', '65', '0', '0', '336439', '7.7500']\n",
      "['3', 'Duquemin, Mr. Joseph', 'male', '24', '0', '0', 'S.O./P.P. 752', '7.5500']\n",
      "['3', 'Dyker, Mr. Adolf Fredrik', 'male', '23', '1', '0', '347072', '13.9000']\n",
      "['3', 'Dyker, Mrs. Adolf Fredrik (Anna Elisabeth Judith Andersson)', 'female', '22', '1', '0', '347072', '13.9000']\n",
      "['3', 'Edvardsson, Mr. Gustaf Hjalmar', 'male', '18', '0', '0', '349912', '7.7750']\n",
      "['3', 'Eklund, Mr. Hans Linus', 'male', '16', '0', '0', '347074', '7.7750']\n",
      "['3', 'Ekstrom, Mr. Johan', 'male', '45', '0', '0', '347061', '6.9750']\n",
      "['3', 'Elias, Mr. Dibo', 'male', '0', '0', '0', '2674', '7.2250']\n",
      "['3', 'Elias, Mr. Joseph', 'male', '39', '0', '2', '2675', '7.2292']\n",
      "['3', 'Elias, Mr. Joseph Jr', 'male', '17', '1', '1', '2690', '7.2292']\n",
      "['3', 'Elias, Mr. Tannous', 'male', '15', '1', '1', '2695', '7.2292']\n",
      "['3', 'Elsbury, Mr. William James', 'male', '47', '0', '0', 'A/5 3902', '7.2500']\n",
      "['3', 'Emanuel, Miss. Virginia Ethel', 'female', '5', '0', '0', '364516', '12.4750']\n",
      "['3', 'Emir, Mr. Farred Chehab', 'male', '0', '0', '0', '2631', '7.2250']\n",
      "['3', 'Everett, Mr. Thomas James', 'male', '40.5', '0', '0', 'C.A. 6212', '15.1000']\n",
      "['3', 'Farrell, Mr. James', 'male', '40.5', '0', '0', '367232', '7.7500']\n",
      "['3', 'Finoli, Mr. Luigi', 'male', '0', '0', '0', 'SOTON/O.Q. 3101308', '7.0500']\n",
      "['3', 'Fischer, Mr. Eberhard Thelander', 'male', '18', '0', '0', '350036', '7.7958']\n",
      "['3', 'Fleming, Miss. Honora', 'female', '0', '0', '0', '364859', '7.7500']\n",
      "['3', 'Flynn, Mr. James', 'male', '0', '0', '0', '364851', '7.7500']\n",
      "['3', 'Flynn, Mr. John', 'male', '0', '0', '0', '368323', '6.9500']\n",
      "['3', 'Foley, Mr. Joseph', 'male', '26', '0', '0', '330910', '7.8792']\n",
      "['3', 'Foley, Mr. William', 'male', '0', '0', '0', '365235', '7.7500']\n",
      "['3', 'Foo, Mr. Choong', 'male', '0', '0', '0', '1601', '56.4958']\n",
      "['3', 'Ford, Miss. Doolina Margaret \"Daisy\"', 'female', '21', '2', '2', 'W./C. 6608', '34.3750']\n",
      "['3', 'Ford, Miss. Robina Maggie \"Ruby\"', 'female', '9', '2', '2', 'W./C. 6608', '34.3750']\n",
      "['3', 'Ford, Mr. Arthur', 'male', '0', '0', '0', 'A/5 1478', '8.0500']\n",
      "['3', 'Ford, Mr. Edward Watson', 'male', '18', '2', '2', 'W./C. 6608', '34.3750']\n",
      "['3', 'Ford, Mr. William Neal', 'male', '16', '1', '3', 'W./C. 6608', '34.3750']\n",
      "['3', 'Ford, Mrs. Edward (Margaret Ann Watson)', 'female', '48', '1', '3', 'W./C. 6608', '34.3750']\n",
      "['3', 'Fox, Mr. Patrick', 'male', '0', '0', '0', '368573', '7.7500']\n",
      "['3', 'Franklin, Mr. Charles (Charles Fardon)', 'male', '0', '0', '0', 'SOTON/O.Q. 3101314', '7.2500']\n",
      "['3', 'Gallagher, Mr. Martin', 'male', '25', '0', '0', '36864', '7.7417']\n",
      "['3', 'Garfirth, Mr. John', 'male', '0', '0', '0', '358585', '14.5000']\n",
      "['3', 'Gheorgheff, Mr. Stanio', 'male', '0', '0', '0', '349254', '7.8958']\n",
      "['3', 'Gilinski, Mr. Eliezer', 'male', '22', '0', '0', '14973', '8.0500']\n",
      "['3', 'Gilnagh, Miss. Katherine \"Katie\"', 'female', '16', '0', '0', '35851', '7.7333']\n",
      "['3', 'Glynn, Miss. Mary Agatha', 'female', '0', '0', '0', '335677', '7.7500']\n",
      "['3', 'Goldsmith, Master. Frank John William \"Frankie\"', 'male', '9', '0', '2', '363291', '20.5250']\n",
      "['3', 'Goldsmith, Mr. Frank John', 'male', '33', '1', '1', '363291', '20.5250']\n",
      "['3', 'Goldsmith, Mr. Nathan', 'male', '41', '0', '0', 'SOTON/O.Q. 3101263', '7.8500']\n",
      "['3', 'Goldsmith, Mrs. Frank John (Emily Alice Brown)', 'female', '31', '1', '1', '363291', '20.5250']\n",
      "['3', 'Goncalves, Mr. Manuel Estanslas', 'male', '38', '0', '0', 'SOTON/O.Q. 3101306', '7.0500']\n",
      "['3', 'Goodwin, Master. Harold Victor', 'male', '9', '5', '2', 'CA 2144', '46.9000']\n",
      "['3', 'Goodwin, Master. Sidney Leonard', 'male', '1', '5', '2', 'CA 2144', '46.9000']\n",
      "['3', 'Goodwin, Master. William Frederick', 'male', '11', '5', '2', 'CA 2144', '46.9000']\n",
      "['3', 'Goodwin, Miss. Jessie Allis', 'female', '10', '5', '2', 'CA 2144', '46.9000']\n",
      "['3', 'Goodwin, Miss. Lillian Amy', 'female', '16', '5', '2', 'CA 2144', '46.9000']\n",
      "['3', 'Goodwin, Mr. Charles Edward', 'male', '14', '5', '2', 'CA 2144', '46.9000']\n",
      "['3', 'Goodwin, Mr. Charles Frederick', 'male', '40', '1', '6', 'CA 2144', '46.9000']\n",
      "['3', 'Goodwin, Mrs. Frederick (Augusta Tyler)', 'female', '43', '1', '6', 'CA 2144', '46.9000']\n",
      "['3', 'Green, Mr. George Henry', 'male', '51', '0', '0', '21440', '8.0500']\n",
      "['3', 'Gronnestad, Mr. Daniel Danielsen', 'male', '32', '0', '0', '8471', '8.3625']\n",
      "['3', 'Guest, Mr. Robert', 'male', '0', '0', '0', '376563', '8.0500']\n",
      "['3', 'Gustafsson, Mr. Alfred Ossian', 'male', '20', '0', '0', '7534', '9.8458']\n",
      "['3', 'Gustafsson, Mr. Anders Vilhelm', 'male', '37', '2', '0', '3101276', '7.9250']\n",
      "['3', 'Gustafsson, Mr. Johan Birger', 'male', '28', '2', '0', '3101277', '7.9250']\n",
      "['3', 'Gustafsson, Mr. Karl Gideon', 'male', '19', '0', '0', '347069', '7.7750']\n",
      "['3', 'Haas, Miss. Aloisia', 'female', '24', '0', '0', '349236', '8.8500']\n",
      "['3', 'Hagardon, Miss. Kate', 'female', '17', '0', '0', 'AQ/3. 30631', '7.7333']\n",
      "['3', 'Hagland, Mr. Ingvald Olai Olsen', 'male', '0', '1', '0', '65303', '19.9667']\n",
      "['3', 'Hagland, Mr. Konrad Mathias Reiersen', 'male', '0', '1', '0', '65304', '19.9667']\n",
      "['3', 'Hakkarainen, Mr. Pekka Pietari', 'male', '28', '1', '0', 'STON/O2. 3101279', '15.8500']\n",
      "['3', 'Hakkarainen, Mrs. Pekka Pietari (Elin Matilda Dolck)', 'female', '24', '1', '0', 'STON/O2. 3101279', '15.8500']\n",
      "['3', 'Hampe, Mr. Leon', 'male', '20', '0', '0', '345769', '9.5000']\n",
      "['3', 'Hanna, Mr. Mansour', 'male', '23.5', '0', '0', '2693', '7.2292']\n",
      "['3', 'Hansen, Mr. Claus Peter', 'male', '41', '2', '0', '350026', '14.1083']\n",
      "['3', 'Hansen, Mr. Henrik Juul', 'male', '26', '1', '0', '350025', '7.8542']\n",
      "['3', 'Hansen, Mr. Henry Damsgaard', 'male', '21', '0', '0', '350029', '7.8542']\n",
      "['3', 'Hansen, Mrs. Claus Peter (Jennie L Howard)', 'female', '45', '1', '0', '350026', '14.1083']\n",
      "['3', 'Harknett, Miss. Alice Phoebe', 'female', '0', '0', '0', 'W./C. 6609', '7.5500']\n",
      "['3', 'Harmer, Mr. Abraham (David Lishin)', 'male', '25', '0', '0', '374887', '7.2500']\n",
      "['3', 'Hart, Mr. Henry', 'male', '0', '0', '0', '394140', '6.8583']\n",
      "['3', 'Hassan, Mr. Houssein G N', 'male', '11', '0', '0', '2699', '18.7875']\n",
      "['3', 'Healy, Miss. Hanora \"Nora\"', 'female', '0', '0', '0', '370375', '7.7500']\n",
      "['3', 'Hedman, Mr. Oskar Arvid', 'male', '27', '0', '0', '347089', '6.9750']\n",
      "['3', 'Hee, Mr. Ling', 'male', '0', '0', '0', '1601', '56.4958']\n",
      "['3', 'Hegarty, Miss. Hanora \"Nora\"', 'female', '18', '0', '0', '365226', '6.7500']\n",
      "['3', 'Heikkinen, Miss. Laina', 'female', '26', '0', '0', 'STON/O2. 3101282', '7.9250']\n",
      "['3', 'Heininen, Miss. Wendla Maria', 'female', '23', '0', '0', 'STON/O2. 3101290', '7.9250']\n",
      "['3', 'Hellstrom, Miss. Hilda Maria', 'female', '22', '0', '0', '7548', '8.9625']\n",
      "['3', 'Hendekovic, Mr. Ignjac', 'male', '28', '0', '0', '349243', '7.8958']\n",
      "['3', 'Henriksson, Miss. Jenny Lovisa', 'female', '28', '0', '0', '347086', '7.7750']\n",
      "['3', 'Henry, Miss. Delia', 'female', '0', '0', '0', '382649', '7.7500']\n",
      "['3', 'Hirvonen, Miss. Hildur E', 'female', '2', '0', '1', '3101298', '12.2875']\n",
      "['3', 'Hirvonen, Mrs. Alexander (Helga E Lindqvist)', 'female', '22', '1', '1', '3101298', '12.2875']\n",
      "['3', 'Holm, Mr. John Fredrik Alexander', 'male', '43', '0', '0', 'C 7075', '6.4500']\n",
      "['3', 'Holthen, Mr. Johan Martin', 'male', '28', '0', '0', 'C 4001', '22.5250']\n",
      "['3', 'Honkanen, Miss. Eliina', 'female', '27', '0', '0', 'STON/O2. 3101283', '7.9250']\n",
      "['3', 'Horgan, Mr. John', 'male', '0', '0', '0', '370377', '7.7500']\n",
      "['3', 'Howard, Miss. May Elizabeth', 'female', '0', '0', '0', 'A. 2. 39186', '8.0500']\n",
      "['3', 'Humblen, Mr. Adolf Mathias Nicolai Olsen', 'male', '42', '0', '0', '348121', '7.6500']\n",
      "['3', 'Hyman, Mr. Abraham', 'male', '0', '0', '0', '3470', '7.8875']\n",
      "['3', 'Ibrahim Shawah, Mr. Yousseff', 'male', '30', '0', '0', '2685', '7.2292']\n",
      "['3', 'Ilieff, Mr. Ylio', 'male', '0', '0', '0', '349220', '7.8958']\n",
      "['3', 'Ilmakangas, Miss. Ida Livija', 'female', '27', '1', '0', 'STON/O2. 3101270', '7.9250']\n",
      "['3', 'Ilmakangas, Miss. Pieta Sofia', 'female', '25', '1', '0', 'STON/O2. 3101271', '7.9250']\n",
      "['3', 'Ivanoff, Mr. Kanio', 'male', '0', '0', '0', '349201', '7.8958']\n",
      "['3', 'Jalsevac, Mr. Ivan', 'male', '29', '0', '0', '349240', '7.8958']\n",
      "['3', 'Jansson, Mr. Carl Olof', 'male', '21', '0', '0', '350034', '7.7958']\n",
      "['3', 'Jardin, Mr. Jose Neto', 'male', '0', '0', '0', 'SOTON/O.Q. 3101305', '7.0500']\n",
      "['3', 'Jensen, Mr. Hans Peder', 'male', '20', '0', '0', '350050', '7.8542']\n",
      "['3', 'Jensen, Mr. Niels Peder', 'male', '48', '0', '0', '350047', '7.8542']\n",
      "['3', 'Jensen, Mr. Svend Lauritz', 'male', '17', '1', '0', '350048', '7.0542']\n",
      "['3', 'Jermyn, Miss. Annie', 'female', '0', '0', '0', '14313', '7.7500']\n",
      "['3', 'Johannesen-Bratthammer, Mr. Bernt', 'male', '0', '0', '0', '65306', '8.1125']\n",
      "['3', 'Johanson, Mr. Jakob Alfred', 'male', '34', '0', '0', '3101264', '6.4958']\n",
      "['3', 'Johansson Palmquist, Mr. Oskar Leander', 'male', '26', '0', '0', '347070', '7.7750']\n",
      "['3', 'Johansson, Mr. Erik', 'male', '22', '0', '0', '350052', '7.7958']\n",
      "['3', 'Johansson, Mr. Gustaf Joel', 'male', '33', '0', '0', '7540', '8.6542']\n",
      "['3', 'Johansson, Mr. Karl Johan', 'male', '31', '0', '0', '347063', '7.7750']\n",
      "['3', 'Johansson, Mr. Nils', 'male', '29', '0', '0', '347467', '7.8542']\n",
      "['3', 'Johnson, Master. Harold Theodor', 'male', '4', '1', '1', '347742', '11.1333']\n",
      "['3', 'Johnson, Miss. Eleanor Ileen', 'female', '1', '1', '1', '347742', '11.1333']\n",
      "['3', 'Johnson, Mr. Alfred', 'male', '49', '0', '0', 'LINE', '0.0000']\n",
      "['3', 'Johnson, Mr. Malkolm Joackim', 'male', '33', '0', '0', '347062', '7.7750']\n",
      "['3', 'Johnson, Mr. William Cahoone Jr', 'male', '19', '0', '0', 'LINE', '0.0000']\n",
      "['3', 'Johnson, Mrs. Oscar W (Elisabeth Vilhelmina Berg)', 'female', '27', '0', '2', '347742', '11.1333']\n",
      "['3', 'Johnston, Master. William Arthur \"Willie\"', 'male', '0', '1', '2', 'W./C. 6607', '23.4500']\n",
      "['3', 'Johnston, Miss. Catherine Helen \"Carrie\"', 'female', '0', '1', '2', 'W./C. 6607', '23.4500']\n",
      "['3', 'Johnston, Mr. Andrew G', 'male', '0', '1', '2', 'W./C. 6607', '23.4500']\n",
      "['3', 'Johnston, Mrs. Andrew G (Elizabeth \"Lily\" Watson)', 'female', '0', '1', '2', 'W./C. 6607', '23.4500']\n",
      "['3', 'Jonkoff, Mr. Lalio', 'male', '23', '0', '0', '349204', '7.8958']\n",
      "['3', 'Jonsson, Mr. Carl', 'male', '32', '0', '0', '350417', '7.8542']\n",
      "['3', 'Jonsson, Mr. Nils Hilding', 'male', '27', '0', '0', '350408', '7.8542']\n",
      "['3', 'Jussila, Miss. Katriina', 'female', '20', '1', '0', '4136', '9.8250']\n",
      "['3', 'Jussila, Miss. Mari Aina', 'female', '21', '1', '0', '4137', '9.8250']\n",
      "['3', 'Jussila, Mr. Eiriik', 'male', '32', '0', '0', 'STON/O 2. 3101286', '7.9250']\n",
      "['3', 'Kallio, Mr. Nikolai Erland', 'male', '17', '0', '0', 'STON/O 2. 3101274', '7.1250']\n",
      "['3', 'Kalvik, Mr. Johannes Halvorsen', 'male', '21', '0', '0', '8475', '8.4333']\n",
      "['3', 'Karaic, Mr. Milan', 'male', '30', '0', '0', '349246', '7.8958']\n",
      "['3', 'Karlsson, Mr. Einar Gervasius', 'male', '21', '0', '0', '350053', '7.7958']\n",
      "['3', 'Karlsson, Mr. Julius Konrad Eugen', 'male', '33', '0', '0', '347465', '7.8542']\n",
      "['3', 'Karlsson, Mr. Nils August', 'male', '22', '0', '0', '350060', '7.5208']\n",
      "['3', 'Karun, Miss. Manca', 'female', '4', '0', '1', '349256', '13.4167']\n",
      "['3', 'Karun, Mr. Franz', 'male', '39', '0', '1', '349256', '13.4167']\n",
      "['3', 'Kassem, Mr. Fared', 'male', '0', '0', '0', '2700', '7.2292']\n",
      "['3', 'Katavelas, Mr. Vassilios (\"Catavelas Vassilios\")', 'male', '18.5', '0', '0', '2682', '7.2292']\n",
      "['3', 'Keane, Mr. Andrew \"Andy\"', 'male', '0', '0', '0', '12460', '7.7500']\n",
      "['3', 'Keefe, Mr. Arthur', 'male', '0', '0', '0', '323592', '7.2500']\n",
      "['3', 'Kelly, Miss. Anna Katherine \"Annie Kate\"', 'female', '0', '0', '0', '9234', '7.7500']\n",
      "['3', 'Kelly, Miss. Mary', 'female', '0', '0', '0', '14312', '7.7500']\n",
      "['3', 'Kelly, Mr. James', 'male', '34.5', '0', '0', '330911', '7.8292']\n",
      "['3', 'Kelly, Mr. James', 'male', '44', '0', '0', '363592', '8.0500']\n",
      "['3', 'Kennedy, Mr. John', 'male', '0', '0', '0', '368783', '7.7500']\n",
      "['3', 'Khalil, Mr. Betros', 'male', '0', '1', '0', '2660', '14.4542']\n",
      "['3', 'Khalil, Mrs. Betros (Zahie \"Maria\" Elias)', 'female', '0', '1', '0', '2660', '14.4542']\n",
      "['3', 'Kiernan, Mr. John', 'male', '0', '1', '0', '367227', '7.7500']\n",
      "['3', 'Kiernan, Mr. Philip', 'male', '0', '1', '0', '367229', '7.7500']\n",
      "['3', 'Kilgannon, Mr. Thomas J', 'male', '0', '0', '0', '36865', '7.7375']\n",
      "['3', 'Kink, Miss. Maria', 'female', '22', '2', '0', '315152', '8.6625']\n",
      "['3', 'Kink, Mr. Vincenz', 'male', '26', '2', '0', '315151', '8.6625']\n",
      "['3', 'Kink-Heilmann, Miss. Luise Gretchen', 'female', '4', '0', '2', '315153', '22.0250']\n",
      "['3', 'Kink-Heilmann, Mr. Anton', 'male', '29', '3', '1', '315153', '22.0250']\n",
      "['3', 'Kink-Heilmann, Mrs. Anton (Luise Heilmann)', 'female', '26', '1', '1', '315153', '22.0250']\n",
      "['3', 'Klasen, Miss. Gertrud Emilia', 'female', '1', '1', '1', '350405', '12.1833']\n",
      "['3', 'Klasen, Mr. Klas Albin', 'male', '18', '1', '1', '350404', '7.8542']\n",
      "['3', 'Klasen, Mrs. (Hulda Kristina Eugenia Lofqvist)', 'female', '36', '0', '2', '350405', '12.1833']\n",
      "['3', 'Kraeff, Mr. Theodor', 'male', '0', '0', '0', '349253', '7.8958']\n",
      "['3', 'Krekorian, Mr. Neshan', 'male', '25', '0', '0', '2654', '7.2292']\n",
      "['3', 'Lahoud, Mr. Sarkis', 'male', '0', '0', '0', '2624', '7.2250']\n",
      "['3', 'Laitinen, Miss. Kristina Sofia', 'female', '37', '0', '0', '4135', '9.5875']\n",
      "['3', 'Laleff, Mr. Kristo', 'male', '0', '0', '0', '349217', '7.8958']\n",
      "['3', 'Lam, Mr. Ali', 'male', '0', '0', '0', '1601', '56.4958']\n",
      "['3', 'Lam, Mr. Len', 'male', '0', '0', '0', '1601', '56.4958']\n",
      "['3', 'Landergren, Miss. Aurora Adelia', 'female', '22', '0', '0', 'C 7077', '7.2500']\n",
      "['3', 'Lane, Mr. Patrick', 'male', '0', '0', '0', '7935', '7.7500']\n",
      "['3', 'Lang, Mr. Fang', 'male', '26', '0', '0', '1601', '56.4958']\n",
      "['3', 'Larsson, Mr. August Viktor', 'male', '29', '0', '0', '7545', '9.4833']\n",
      "['3', 'Larsson, Mr. Bengt Edvin', 'male', '29', '0', '0', '347067', '7.7750']\n",
      "['3', 'Larsson-Rondberg, Mr. Edvard A', 'male', '22', '0', '0', '347065', '7.7750']\n",
      "['3', 'Leeni, Mr. Fahim (\"Philip Zenni\")', 'male', '22', '0', '0', '2620', '7.2250']\n",
      "['3', 'Lefebre, Master. Henry Forbes', 'male', '0', '3', '1', '4133', '25.4667']\n",
      "['3', 'Lefebre, Miss. Ida', 'female', '0', '3', '1', '4133', '25.4667']\n",
      "['3', 'Lefebre, Miss. Jeannie', 'female', '0', '3', '1', '4133', '25.4667']\n",
      "['3', 'Lefebre, Miss. Mathilde', 'female', '0', '3', '1', '4133', '25.4667']\n",
      "['3', 'Lefebre, Mrs. Frank (Frances)', 'female', '0', '0', '4', '4133', '25.4667']\n",
      "['3', 'Leinonen, Mr. Antti Gustaf', 'male', '32', '0', '0', 'STON/O 2. 3101292', '7.9250']\n",
      "['3', 'Lemberopolous, Mr. Peter L', 'male', '34.5', '0', '0', '2683', '6.4375']\n",
      "['3', 'Lennon, Miss. Mary', 'female', '0', '1', '0', '370371', '15.5000']\n",
      "['3', 'Lennon, Mr. Denis', 'male', '0', '1', '0', '370371', '15.5000']\n",
      "['3', 'Leonard, Mr. Lionel', 'male', '36', '0', '0', 'LINE', '0.0000']\n",
      "['3', 'Lester, Mr. James', 'male', '39', '0', '0', 'A/4 48871', '24.1500']\n",
      "['3', 'Lievens, Mr. Rene Aime', 'male', '24', '0', '0', '345781', '9.5000']\n",
      "['3', 'Lindahl, Miss. Agda Thorilda Viktoria', 'female', '25', '0', '0', '347071', '7.7750']\n",
      "['3', 'Lindblom, Miss. Augusta Charlotta', 'female', '45', '0', '0', '347073', '7.7500']\n",
      "['3', 'Lindell, Mr. Edvard Bengtsson', 'male', '36', '1', '0', '349910', '15.5500']\n",
      "['3', 'Lindell, Mrs. Edvard Bengtsson (Elin Gerda Persson)', 'female', '30', '1', '0', '349910', '15.5500']\n",
      "['3', 'Lindqvist, Mr. Eino William', 'male', '20', '1', '0', 'STON/O 2. 3101285', '7.9250']\n",
      "['3', 'Linehan, Mr. Michael', 'male', '0', '0', '0', '330971', '7.8792']\n",
      "['3', 'Ling, Mr. Lee', 'male', '28', '0', '0', '1601', '56.4958']\n",
      "['3', 'Lithman, Mr. Simon', 'male', '0', '0', '0', 'S.O./P.P. 251', '7.5500']\n",
      "['3', 'Lobb, Mr. William Arthur', 'male', '30', '1', '0', 'A/5. 3336', '16.1000']\n",
      "['3', 'Lobb, Mrs. William Arthur (Cordelia K Stanlick)', 'female', '26', '1', '0', 'A/5. 3336', '16.1000']\n",
      "['3', 'Lockyer, Mr. Edward', 'male', '0', '0', '0', '1222', '7.8792']\n",
      "['3', 'Lovell, Mr. John Hall (\"Henry\")', 'male', '20.5', '0', '0', 'A/5 21173', '7.2500']\n",
      "['3', 'Lulic, Mr. Nikola', 'male', '27', '0', '0', '315098', '8.6625']\n",
      "['3', 'Lundahl, Mr. Johan Svensson', 'male', '51', '0', '0', '347743', '7.0542']\n",
      "['3', 'Lundin, Miss. Olga Elida', 'female', '23', '0', '0', '347469', '7.8542']\n",
      "['3', 'Lundstrom, Mr. Thure Edvin', 'male', '32', '0', '0', '350403', '7.5792']\n",
      "['3', 'Lyntakoff, Mr. Stanko', 'male', '0', '0', '0', '349235', '7.8958']\n",
      "['3', 'MacKay, Mr. George William', 'male', '0', '0', '0', 'C.A. 42795', '7.5500']\n",
      "['3', 'Madigan, Miss. Margaret \"Maggie\"', 'female', '0', '0', '0', '370370', '7.7500']\n",
      "['3', 'Madsen, Mr. Fridtjof Arne', 'male', '24', '0', '0', 'C 17369', '7.1417']\n",
      "['3', 'Maenpaa, Mr. Matti Alexanteri', 'male', '22', '0', '0', 'STON/O 2. 3101275', '7.1250']\n",
      "['3', 'Mahon, Miss. Bridget Delia', 'female', '0', '0', '0', '330924', '7.8792']\n",
      "['3', 'Mahon, Mr. John', 'male', '0', '0', '0', 'AQ/4 3130', '7.7500']\n",
      "['3', 'Maisner, Mr. Simon', 'male', '0', '0', '0', 'A/S 2816', '8.0500']\n",
      "['3', 'Makinen, Mr. Kalle Edvard', 'male', '29', '0', '0', 'STON/O 2. 3101268', '7.9250']\n",
      "['3', 'Mamee, Mr. Hanna', 'male', '0', '0', '0', '2677', '7.2292']\n",
      "['3', 'Mangan, Miss. Mary', 'female', '30.5', '0', '0', '364850', '7.7500']\n",
      "['3', 'Mannion, Miss. Margareth', 'female', '0', '0', '0', '36866', '7.7375']\n",
      "['3', 'Mardirosian, Mr. Sarkis', 'male', '0', '0', '0', '2655', '7.2292']\n",
      "['3', 'Markoff, Mr. Marin', 'male', '35', '0', '0', '349213', '7.8958']\n",
      "['3', 'Markun, Mr. Johann', 'male', '33', '0', '0', '349257', '7.8958']\n",
      "['3', 'Masselmani, Mrs. Fatima', 'female', '0', '0', '0', '2649', '7.2250']\n",
      "['3', 'Matinoff, Mr. Nicola', 'male', '0', '0', '0', '349255', '7.8958']\n",
      "['3', 'McCarthy, Miss. Catherine \"Katie\"', 'female', '0', '0', '0', '383123', '7.7500']\n",
      "['3', 'McCormack, Mr. Thomas Joseph', 'male', '0', '0', '0', '367228', '7.7500']\n",
      "['3', 'McCoy, Miss. Agnes', 'female', '0', '2', '0', '367226', '23.2500']\n",
      "['3', 'McCoy, Miss. Alicia', 'female', '0', '2', '0', '367226', '23.2500']\n",
      "['3', 'McCoy, Mr. Bernard', 'male', '0', '2', '0', '367226', '23.2500']\n",
      "['3', 'McDermott, Miss. Brigdet Delia', 'female', '0', '0', '0', '330932', '7.7875']\n",
      "['3', 'McEvoy, Mr. Michael', 'male', '0', '0', '0', '36568', '15.5000']\n",
      "['3', 'McGovern, Miss. Mary', 'female', '0', '0', '0', '330931', '7.8792']\n",
      "['3', 'McGowan, Miss. Anna \"Annie\"', 'female', '15', '0', '0', '330923', '8.0292']\n",
      "['3', 'McGowan, Miss. Katherine', 'female', '35', '0', '0', '9232', '7.7500']\n",
      "['3', 'McMahon, Mr. Martin', 'male', '0', '0', '0', '370372', '7.7500']\n",
      "['3', 'McNamee, Mr. Neal', 'male', '24', '1', '0', '376566', '16.1000']\n",
      "['3', \"McNamee, Mrs. Neal (Eileen O'Leary)\", 'female', '19', '1', '0', '376566', '16.1000']\n",
      "['3', 'McNeill, Miss. Bridget', 'female', '0', '0', '0', '370368', '7.7500']\n",
      "['3', 'Meanwell, Miss. (Marion Ogden)', 'female', '0', '0', '0', 'SOTON/O.Q. 392087', '8.0500']\n",
      "['3', 'Meek, Mrs. Thomas (Annie Louise Rowley)', 'female', '0', '0', '0', '343095', '8.0500']\n",
      "['3', 'Meo, Mr. Alfonzo', 'male', '55.5', '0', '0', 'A.5. 11206', '8.0500']\n",
      "['3', 'Mernagh, Mr. Robert', 'male', '0', '0', '0', '368703', '7.7500']\n",
      "['3', 'Midtsjo, Mr. Karl Albert', 'male', '21', '0', '0', '345501', '7.7750']\n",
      "['3', 'Miles, Mr. Frank', 'male', '0', '0', '0', '359306', '8.0500']\n",
      "['3', 'Mineff, Mr. Ivan', 'male', '24', '0', '0', '349233', '7.8958']\n",
      "['3', 'Minkoff, Mr. Lazar', 'male', '21', '0', '0', '349211', '7.8958']\n",
      "['3', 'Mionoff, Mr. Stoytcho', 'male', '28', '0', '0', '349207', '7.8958']\n",
      "['3', 'Mitkoff, Mr. Mito', 'male', '0', '0', '0', '349221', '7.8958']\n",
      "['3', 'Mockler, Miss. Helen Mary \"Ellie\"', 'female', '0', '0', '0', '330980', '7.8792']\n",
      "['3', 'Moen, Mr. Sigurd Hansen', 'male', '25', '0', '0', '348123', '7.6500']\n",
      "['3', 'Moor, Master. Meier', 'male', '6', '0', '1', '392096', '12.4750']\n",
      "['3', 'Moor, Mrs. (Beila)', 'female', '27', '0', '1', '392096', '12.4750']\n",
      "['3', 'Moore, Mr. Leonard Charles', 'male', '0', '0', '0', 'A4. 54510', '8.0500']\n",
      "['3', 'Moran, Miss. Bertha', 'female', '0', '1', '0', '371110', '24.1500']\n",
      "['3', 'Moran, Mr. Daniel J', 'male', '0', '1', '0', '371110', '24.1500']\n",
      "['3', 'Moran, Mr. James', 'male', '0', '0', '0', '330877', '8.4583']\n",
      "['3', 'Morley, Mr. William', 'male', '34', '0', '0', '364506', '8.0500']\n",
      "['3', 'Morrow, Mr. Thomas Rowan', 'male', '0', '0', '0', '372622', '7.7500']\n",
      "['3', 'Moss, Mr. Albert Johan', 'male', '0', '0', '0', '312991', '7.7750']\n",
      "['3', 'Moubarek, Master. Gerios', 'male', '0', '1', '1', '2661', '15.2458']\n",
      "['3', 'Moubarek, Master. Halim Gonios (\"William George\")', 'male', '0', '1', '1', '2661', '15.2458']\n",
      "['3', 'Moubarek, Mrs. George (Omine \"Amenia\" Alexander)', 'female', '0', '0', '2', '2661', '15.2458']\n",
      "['3', 'Moussa, Mrs. (Mantoura Boulos)', 'female', '0', '0', '0', '2626', '7.2292']\n",
      "['3', 'Moutal, Mr. Rahamin Haim', 'male', '0', '0', '0', '374746', '8.0500']\n",
      "['3', 'Mullens, Miss. Katherine \"Katie\"', 'female', '0', '0', '0', '35852', '7.7333']\n",
      "['3', 'Mulvihill, Miss. Bertha E', 'female', '24', '0', '0', '382653', '7.7500']\n",
      "['3', 'Murdlin, Mr. Joseph', 'male', '0', '0', '0', 'A./5. 3235', '8.0500']\n",
      "['3', 'Murphy, Miss. Katherine \"Kate\"', 'female', '0', '1', '0', '367230', '15.5000']\n",
      "['3', 'Murphy, Miss. Margaret Jane', 'female', '0', '1', '0', '367230', '15.5000']\n",
      "['3', 'Murphy, Miss. Nora', 'female', '0', '0', '0', '36568', '15.5000']\n",
      "['3', 'Myhrman, Mr. Pehr Fabian Oliver Malkolm', 'male', '18', '0', '0', '347078', '7.7500']\n",
      "['3', 'Naidenoff, Mr. Penko', 'male', '22', '0', '0', '349206', '7.8958']\n",
      "['3', 'Najib, Miss. Adele Kiamie \"Jane\"', 'female', '15', '0', '0', '2667', '7.2250']\n",
      "['3', 'Nakid, Miss. Maria (\"Mary\")', 'female', '1', '0', '2', '2653', '15.7417']\n",
      "['3', 'Nakid, Mr. Sahid', 'male', '20', '1', '1', '2653', '15.7417']\n",
      "['3', 'Nakid, Mrs. Said (Waika \"Mary\" Mowad)', 'female', '19', '1', '1', '2653', '15.7417']\n",
      "['3', 'Nancarrow, Mr. William Henry', 'male', '33', '0', '0', 'A./5. 3338', '8.0500']\n",
      "['3', 'Nankoff, Mr. Minko', 'male', '0', '0', '0', '349218', '7.8958']\n",
      "['3', 'Nasr, Mr. Mustafa', 'male', '0', '0', '0', '2652', '7.2292']\n",
      "['3', 'Naughton, Miss. Hannah', 'female', '0', '0', '0', '365237', '7.7500']\n",
      "['3', 'Nenkoff, Mr. Christo', 'male', '0', '0', '0', '349234', '7.8958']\n",
      "['3', 'Nicola-Yarred, Master. Elias', 'male', '12', '1', '0', '2651', '11.2417']\n",
      "['3', 'Nicola-Yarred, Miss. Jamila', 'female', '14', '1', '0', '2651', '11.2417']\n",
      "['3', 'Nieminen, Miss. Manta Josefina', 'female', '29', '0', '0', '3101297', '7.9250']\n",
      "['3', 'Niklasson, Mr. Samuel', 'male', '28', '0', '0', '363611', '8.0500']\n",
      "['3', 'Nilsson, Miss. Berta Olivia', 'female', '18', '0', '0', '347066', '7.7750']\n",
      "['3', 'Nilsson, Miss. Helmina Josefina', 'female', '26', '0', '0', '347470', '7.8542']\n",
      "['3', 'Nilsson, Mr. August Ferdinand', 'male', '21', '0', '0', '350410', '7.8542']\n",
      "['3', 'Nirva, Mr. Iisakki Antino Aijo', 'male', '41', '0', '0', 'SOTON/O2 3101272', '7.1250']\n",
      "['3', 'Niskanen, Mr. Juha', 'male', '39', '0', '0', 'STON/O 2. 3101289', '7.9250']\n",
      "['3', 'Nosworthy, Mr. Richard Cater', 'male', '21', '0', '0', 'A/4. 39886', '7.8000']\n",
      "['3', 'Novel, Mr. Mansouer', 'male', '28.5', '0', '0', '2697', '7.2292']\n",
      "['3', 'Nysten, Miss. Anna Sofia', 'female', '22', '0', '0', '347081', '7.7500']\n",
      "['3', 'Nysveen, Mr. Johan Hansen', 'male', '61', '0', '0', '345364', '6.2375']\n",
      "['3', \"O'Brien, Mr. Thomas\", 'male', '0', '1', '0', '370365', '15.5000']\n",
      "['3', \"O'Brien, Mr. Timothy\", 'male', '0', '0', '0', '330979', '7.8292']\n",
      "['3', 'O\\'Brien, Mrs. Thomas (Johanna \"Hannah\" Godfrey)', 'female', '0', '1', '0', '370365', '15.5000']\n",
      "['3', \"O'Connell, Mr. Patrick D\", 'male', '0', '0', '0', '334912', '7.7333']\n",
      "['3', \"O'Connor, Mr. Maurice\", 'male', '0', '0', '0', '371060', '7.7500']\n",
      "['3', \"O'Connor, Mr. Patrick\", 'male', '0', '0', '0', '366713', '7.7500']\n",
      "['3', 'Odahl, Mr. Nils Martin', 'male', '23', '0', '0', '7267', '9.2250']\n",
      "['3', \"O'Donoghue, Ms. Bridget\", 'female', '0', '0', '0', '364856', '7.7500']\n",
      "['3', \"O'Driscoll, Miss. Bridget\", 'female', '0', '0', '0', '14311', '7.7500']\n",
      "['3', 'O\\'Dwyer, Miss. Ellen \"Nellie\"', 'female', '0', '0', '0', '330959', '7.8792']\n",
      "['3', 'Ohman, Miss. Velin', 'female', '22', '0', '0', '347085', '7.7750']\n",
      "['3', \"O'Keefe, Mr. Patrick\", 'male', '0', '0', '0', '368402', '7.7500']\n",
      "['3', 'O\\'Leary, Miss. Hanora \"Norah\"', 'female', '0', '0', '0', '330919', '7.8292']\n",
      "['3', 'Olsen, Master. Artur Karl', 'male', '9', '0', '1', 'C 17368', '3.1708']\n",
      "['3', 'Olsen, Mr. Henry Margido', 'male', '28', '0', '0', 'C 4001', '22.5250']\n",
      "['3', 'Olsen, Mr. Karl Siegwart Andreas', 'male', '42', '0', '1', '4579', '8.4042']\n",
      "['3', 'Olsen, Mr. Ole Martin', 'male', '0', '0', '0', 'Fa 265302', '7.3125']\n",
      "['3', 'Olsson, Miss. Elina', 'female', '31', '0', '0', '350407', '7.8542']\n",
      "['3', 'Olsson, Mr. Nils Johan Goransson', 'male', '28', '0', '0', '347464', '7.8542']\n",
      "['3', 'Olsson, Mr. Oscar Wilhelm', 'male', '32', '0', '0', '347079', '7.7750']\n",
      "['3', 'Olsvigen, Mr. Thor Anderson', 'male', '20', '0', '0', '6563', '9.2250']\n",
      "['3', 'Oreskovic, Miss. Jelka', 'female', '23', '0', '0', '315085', '8.6625']\n",
      "['3', 'Oreskovic, Miss. Marija', 'female', '20', '0', '0', '315096', '8.6625']\n",
      "['3', 'Oreskovic, Mr. Luka', 'male', '20', '0', '0', '315094', '8.6625']\n",
      "['3', 'Osen, Mr. Olaf Elon', 'male', '16', '0', '0', '7534', '9.2167']\n",
      "['3', 'Osman, Mrs. Mara', 'female', '31', '0', '0', '349244', '8.6833']\n",
      "['3', \"O'Sullivan, Miss. Bridget Mary\", 'female', '0', '0', '0', '330909', '7.6292']\n",
      "['3', 'Palsson, Master. Gosta Leonard', 'male', '2', '3', '1', '349909', '21.0750']\n",
      "['3', 'Palsson, Master. Paul Folke', 'male', '6', '3', '1', '349909', '21.0750']\n",
      "['3', 'Palsson, Miss. Stina Viola', 'female', '3', '3', '1', '349909', '21.0750']\n",
      "['3', 'Palsson, Miss. Torborg Danira', 'female', '8', '3', '1', '349909', '21.0750']\n",
      "['3', 'Palsson, Mrs. Nils (Alma Cornelia Berglund)', 'female', '29', '0', '4', '349909', '21.0750']\n",
      "['3', 'Panula, Master. Eino Viljami', 'male', '1', '4', '1', '3101295', '39.6875']\n",
      "['3', 'Panula, Master. Juha Niilo', 'male', '7', '4', '1', '3101295', '39.6875']\n",
      "['3', 'Panula, Master. Urho Abraham', 'male', '2', '4', '1', '3101295', '39.6875']\n",
      "['3', 'Panula, Mr. Ernesti Arvid', 'male', '16', '4', '1', '3101295', '39.6875']\n",
      "['3', 'Panula, Mr. Jaako Arnold', 'male', '14', '4', '1', '3101295', '39.6875']\n",
      "['3', 'Panula, Mrs. Juha (Maria Emilia Ojala)', 'female', '41', '0', '5', '3101295', '39.6875']\n",
      "['3', 'Pasic, Mr. Jakob', 'male', '21', '0', '0', '315097', '8.6625']\n",
      "['3', 'Patchett, Mr. George', 'male', '19', '0', '0', '358585', '14.5000']\n",
      "['3', 'Paulner, Mr. Uscher', 'male', '0', '0', '0', '3411', '8.7125']\n",
      "['3', 'Pavlovic, Mr. Stefo', 'male', '32', '0', '0', '349242', '7.8958']\n",
      "['3', 'Peacock, Master. Alfred Edward', 'male', '0.75', '1', '1', 'SOTON/O.Q. 3101315', '13.7750']\n",
      "['3', 'Peacock, Miss. Treasteall', 'female', '3', '1', '1', 'SOTON/O.Q. 3101315', '13.7750']\n",
      "['3', 'Peacock, Mrs. Benjamin (Edith Nile)', 'female', '26', '0', '2', 'SOTON/O.Q. 3101315', '13.7750']\n",
      "['3', 'Pearce, Mr. Ernest', 'male', '0', '0', '0', '343271', '7.0000']\n",
      "['3', 'Pedersen, Mr. Olaf', 'male', '0', '0', '0', '345498', '7.7750']\n",
      "['3', 'Peduzzi, Mr. Joseph', 'male', '0', '0', '0', 'A/5 2817', '8.0500']\n",
      "['3', 'Pekoniemi, Mr. Edvard', 'male', '21', '0', '0', 'STON/O 2. 3101294', '7.9250']\n",
      "['3', 'Peltomaki, Mr. Nikolai Johannes', 'male', '25', '0', '0', 'STON/O 2. 3101291', '7.9250']\n",
      "['3', 'Perkin, Mr. John Henry', 'male', '22', '0', '0', 'A/5 21174', '7.2500']\n",
      "['3', 'Persson, Mr. Ernst Ulrik', 'male', '25', '1', '0', '347083', '7.7750']\n",
      "['3', 'Peter, Master. Michael J', 'male', '0', '1', '1', '2668', '22.3583']\n",
      "['3', 'Peter, Miss. Anna', 'female', '0', '1', '1', '2668', '22.3583']\n",
      "['3', 'Peter, Mrs. Catherine (Catherine Rizk)', 'female', '0', '0', '2', '2668', '22.3583']\n",
      "['3', 'Peters, Miss. Katie', 'female', '0', '0', '0', '330935', '8.1375']\n",
      "['3', 'Petersen, Mr. Marius', 'male', '24', '0', '0', '342441', '8.0500']\n",
      "['3', 'Petranec, Miss. Matilda', 'female', '28', '0', '0', '349245', '7.8958']\n",
      "['3', 'Petroff, Mr. Nedelio', 'male', '19', '0', '0', '349212', '7.8958']\n",
      "['3', 'Petroff, Mr. Pastcho (\"Pentcho\")', 'male', '0', '0', '0', '349215', '7.8958']\n",
      "['3', 'Petterson, Mr. Johan Emil', 'male', '25', '1', '0', '347076', '7.7750']\n",
      "['3', 'Pettersson, Miss. Ellen Natalia', 'female', '18', '0', '0', '347087', '7.7750']\n",
      "['3', 'Pickard, Mr. Berk (Berk Trembisky)', 'male', '32', '0', '0', 'SOTON/O.Q. 392078', '8.0500']\n",
      "['3', 'Plotcharsky, Mr. Vasil', 'male', '0', '0', '0', '349227', '7.8958']\n",
      "['3', 'Pokrnic, Mr. Mate', 'male', '17', '0', '0', '315095', '8.6625']\n",
      "['3', 'Pokrnic, Mr. Tome', 'male', '24', '0', '0', '315092', '8.6625']\n",
      "['3', 'Radeff, Mr. Alexander', 'male', '0', '0', '0', '349223', '7.8958']\n",
      "['3', 'Rasmussen, Mrs. (Lena Jacobsen Solvang)', 'female', '0', '0', '0', '65305', '8.1125']\n",
      "['3', 'Razi, Mr. Raihed', 'male', '0', '0', '0', '2629', '7.2292']\n",
      "['3', 'Reed, Mr. James George', 'male', '0', '0', '0', '362316', '7.2500']\n",
      "['3', 'Rekic, Mr. Tido', 'male', '38', '0', '0', '349249', '7.8958']\n",
      "['3', 'Reynolds, Mr. Harold J', 'male', '21', '0', '0', '342684', '8.0500']\n",
      "['3', 'Rice, Master. Albert', 'male', '10', '4', '1', '382652', '29.1250']\n",
      "['3', 'Rice, Master. Arthur', 'male', '4', '4', '1', '382652', '29.1250']\n",
      "['3', 'Rice, Master. Eric', 'male', '7', '4', '1', '382652', '29.1250']\n",
      "['3', 'Rice, Master. Eugene', 'male', '2', '4', '1', '382652', '29.1250']\n",
      "['3', 'Rice, Master. George Hugh', 'male', '8', '4', '1', '382652', '29.1250']\n",
      "['3', 'Rice, Mrs. William (Margaret Norton)', 'female', '39', '0', '5', '382652', '29.1250']\n",
      "['3', 'Riihivouri, Miss. Susanna Juhantytar \"Sanni\"', 'female', '22', '0', '0', '3101295', '39.6875']\n",
      "['3', 'Rintamaki, Mr. Matti', 'male', '35', '0', '0', 'STON/O 2. 3101273', '7.1250']\n",
      "['3', 'Riordan, Miss. Johanna \"Hannah\"', 'female', '0', '0', '0', '334915', '7.7208']\n",
      "['3', 'Risien, Mr. Samuel Beard', 'male', '0', '0', '0', '364498', '14.5000']\n",
      "['3', 'Risien, Mrs. Samuel (Emma)', 'female', '0', '0', '0', '364498', '14.5000']\n",
      "['3', 'Robins, Mr. Alexander A', 'male', '50', '1', '0', 'A/5. 3337', '14.5000']\n",
      "['3', 'Robins, Mrs. Alexander A (Grace Charity Laury)', 'female', '47', '1', '0', 'A/5. 3337', '14.5000']\n",
      "['3', 'Rogers, Mr. William John', 'male', '0', '0', '0', 'S.C./A.4. 23567', '8.0500']\n",
      "['3', 'Rommetvedt, Mr. Knud Paust', 'male', '0', '0', '0', '312993', '7.7750']\n",
      "['3', 'Rosblom, Miss. Salli Helena', 'female', '2', '1', '1', '370129', '20.2125']\n",
      "['3', 'Rosblom, Mr. Viktor Richard', 'male', '18', '1', '1', '370129', '20.2125']\n",
      "['3', 'Rosblom, Mrs. Viktor (Helena Wilhelmina)', 'female', '41', '0', '2', '370129', '20.2125']\n",
      "['3', 'Roth, Miss. Sarah A', 'female', '0', '0', '0', '342712', '8.0500']\n",
      "['3', 'Rouse, Mr. Richard Henry', 'male', '50', '0', '0', 'A/5 3594', '8.0500']\n",
      "['3', 'Rush, Mr. Alfred George John', 'male', '16', '0', '0', 'A/4. 20589', '8.0500']\n",
      "['3', 'Ryan, Mr. Edward', 'male', '0', '0', '0', '383162', '7.7500']\n",
      "['3', 'Ryan, Mr. Patrick', 'male', '0', '0', '0', '371110', '24.1500']\n",
      "['3', 'Saad, Mr. Amin', 'male', '0', '0', '0', '2671', '7.2292']\n",
      "['3', 'Saad, Mr. Khalil', 'male', '25', '0', '0', '2672', '7.2250']\n",
      "['3', 'Saade, Mr. Jean Nassr', 'male', '0', '0', '0', '2676', '7.2250']\n",
      "['3', 'Sadlier, Mr. Matthew', 'male', '0', '0', '0', '367655', '7.7292']\n",
      "['3', 'Sadowitz, Mr. Harry', 'male', '0', '0', '0', 'LP 1588', '7.5750']\n",
      "['3', 'Saether, Mr. Simon Sivertsen', 'male', '38.5', '0', '0', 'SOTON/O.Q. 3101262', '7.2500']\n",
      "['3', 'Sage, Master. Thomas Henry', 'male', '0', '8', '2', 'CA. 2343', '69.5500']\n",
      "['3', 'Sage, Master. William Henry', 'male', '14.5', '8', '2', 'CA. 2343', '69.5500']\n",
      "['3', 'Sage, Miss. Ada', 'female', '0', '8', '2', 'CA. 2343', '69.5500']\n",
      "['3', 'Sage, Miss. Constance Gladys', 'female', '0', '8', '2', 'CA. 2343', '69.5500']\n",
      "['3', 'Sage, Miss. Dorothy Edith \"Dolly\"', 'female', '0', '8', '2', 'CA. 2343', '69.5500']\n",
      "['3', 'Sage, Miss. Stella Anna', 'female', '0', '8', '2', 'CA. 2343', '69.5500']\n",
      "['3', 'Sage, Mr. Douglas Bullen', 'male', '0', '8', '2', 'CA. 2343', '69.5500']\n",
      "['3', 'Sage, Mr. Frederick', 'male', '0', '8', '2', 'CA. 2343', '69.5500']\n",
      "['3', 'Sage, Mr. George John Jr', 'male', '0', '8', '2', 'CA. 2343', '69.5500']\n",
      "['3', 'Sage, Mr. John George', 'male', '0', '1', '9', 'CA. 2343', '69.5500']\n",
      "['3', 'Sage, Mrs. John (Annie Bullen)', 'female', '0', '1', '9', 'CA. 2343', '69.5500']\n",
      "['3', 'Salander, Mr. Karl Johan', 'male', '24', '0', '0', '7266', '9.3250']\n",
      "['3', 'Salkjelsvik, Miss. Anna Kristine', 'female', '21', '0', '0', '343120', '7.6500']\n",
      "['3', 'Salonen, Mr. Johan Werner', 'male', '39', '0', '0', '3101296', '7.9250']\n",
      "['3', 'Samaan, Mr. Elias', 'male', '0', '2', '0', '2662', '21.6792']\n",
      "['3', 'Samaan, Mr. Hanna', 'male', '0', '2', '0', '2662', '21.6792']\n",
      "['3', 'Samaan, Mr. Youssef', 'male', '0', '2', '0', '2662', '21.6792']\n",
      "['3', 'Sandstrom, Miss. Beatrice Irene', 'female', '1', '1', '1', 'PP 9549', '16.7000']\n",
      "['3', 'Sandstrom, Mrs. Hjalmar (Agnes Charlotta Bengtsson)', 'female', '24', '0', '2', 'PP 9549', '16.7000']\n",
      "['3', 'Sandstrom, Miss. Marguerite Rut', 'female', '4', '1', '1', 'PP 9549', '16.7000']\n",
      "['3', 'Sap, Mr. Julius', 'male', '25', '0', '0', '345768', '9.5000']\n",
      "['3', 'Saundercock, Mr. William Henry', 'male', '20', '0', '0', 'A/5. 2151', '8.0500']\n",
      "['3', 'Sawyer, Mr. Frederick Charles', 'male', '24.5', '0', '0', '342826', '8.0500']\n",
      "['3', 'Scanlan, Mr. James', 'male', '0', '0', '0', '36209', '7.7250']\n",
      "['3', 'Sdycoff, Mr. Todor', 'male', '0', '0', '0', '349222', '7.8958']\n",
      "['3', 'Shaughnessy, Mr. Patrick', 'male', '0', '0', '0', '370374', '7.7500']\n",
      "['3', 'Sheerlinck, Mr. Jan Baptist', 'male', '29', '0', '0', '345779', '9.5000']\n",
      "['3', 'Shellard, Mr. Frederick William', 'male', '0', '0', '0', 'C.A. 6212', '15.1000']\n",
      "['3', 'Shine, Miss. Ellen Natalia', 'female', '0', '0', '0', '330968', '7.7792']\n",
      "['3', 'Shorney, Mr. Charles Joseph', 'male', '0', '0', '0', '374910', '8.0500']\n",
      "['3', 'Simmons, Mr. John', 'male', '0', '0', '0', 'SOTON/OQ 392082', '8.0500']\n",
      "['3', 'Sirayanian, Mr. Orsen', 'male', '22', '0', '0', '2669', '7.2292']\n",
      "['3', 'Sirota, Mr. Maurice', 'male', '0', '0', '0', '392092', '8.0500']\n",
      "['3', 'Sivic, Mr. Husein', 'male', '40', '0', '0', '349251', '7.8958']\n",
      "['3', 'Sivola, Mr. Antti Wilhelm', 'male', '21', '0', '0', 'STON/O 2. 3101280', '7.9250']\n",
      "['3', 'Sjoblom, Miss. Anna Sofia', 'female', '18', '0', '0', '3101265', '7.4958']\n",
      "['3', 'Skoog, Master. Harald', 'male', '4', '3', '2', '347088', '27.9000']\n",
      "['3', 'Skoog, Master. Karl Thorsten', 'male', '10', '3', '2', '347088', '27.9000']\n",
      "['3', 'Skoog, Miss. Mabel', 'female', '9', '3', '2', '347088', '27.9000']\n",
      "['3', 'Skoog, Miss. Margit Elizabeth', 'female', '2', '3', '2', '347088', '27.9000']\n",
      "['3', 'Skoog, Mr. Wilhelm', 'male', '40', '1', '4', '347088', '27.9000']\n",
      "['3', 'Skoog, Mrs. William (Anna Bernhardina Karlsson)', 'female', '45', '1', '4', '347088', '27.9000']\n",
      "['3', 'Slabenoff, Mr. Petco', 'male', '0', '0', '0', '349214', '7.8958']\n",
      "['3', 'Slocovski, Mr. Selman Francis', 'male', '0', '0', '0', 'SOTON/OQ 392086', '8.0500']\n",
      "['3', 'Smiljanic, Mr. Mile', 'male', '0', '0', '0', '315037', '8.6625']\n",
      "['3', 'Smith, Mr. Thomas', 'male', '0', '0', '0', '384461', '7.7500']\n",
      "['3', 'Smyth, Miss. Julia', 'female', '0', '0', '0', '335432', '7.7333']\n",
      "['3', 'Soholt, Mr. Peter Andreas Lauritz Andersen', 'male', '19', '0', '0', '348124', '7.6500']\n",
      "['3', 'Somerton, Mr. Francis William', 'male', '30', '0', '0', 'A.5. 18509', '8.0500']\n",
      "['3', 'Spector, Mr. Woolf', 'male', '0', '0', '0', 'A.5. 3236', '8.0500']\n",
      "['3', 'Spinner, Mr. Henry John', 'male', '32', '0', '0', 'STON/OQ. 369943', '8.0500']\n",
      "['3', 'Staneff, Mr. Ivan', 'male', '0', '0', '0', '349208', '7.8958']\n",
      "['3', 'Stankovic, Mr. Ivan', 'male', '33', '0', '0', '349239', '8.6625']\n",
      "['3', 'Stanley, Miss. Amy Zillah Elsie', 'female', '23', '0', '0', 'CA. 2314', '7.5500']\n",
      "['3', 'Stanley, Mr. Edward Roland', 'male', '21', '0', '0', 'A/4 45380', '8.0500']\n",
      "['3', 'Storey, Mr. Thomas', 'male', '60.5', '0', '0', '3701', '7.8958']\n",
      "['3', 'Stoytcheff, Mr. Ilia', 'male', '19', '0', '0', '349205', '7.8958']\n",
      "['3', 'Strandberg, Miss. Ida Sofia', 'female', '22', '0', '0', '7553', '9.8375']\n",
      "['3', 'Stranden, Mr. Juho', 'male', '31', '0', '0', 'STON/O 2. 3101288', '7.9250']\n",
      "['3', 'Strilic, Mr. Ivan', 'male', '27', '0', '0', '315083', '8.6625']\n",
      "['3', 'Strom, Miss. Telma Matilda', 'female', '2', '0', '1', '347054', '10.4625']\n",
      "['3', 'Strom, Mrs. Wilhelm (Elna Matilda Persson)', 'female', '29', '1', '1', '347054', '10.4625']\n",
      "['3', 'Sunderland, Mr. Victor Francis', 'male', '16', '0', '0', 'SOTON/OQ 392089', '8.0500']\n",
      "['3', 'Sundman, Mr. Johan Julian', 'male', '44', '0', '0', 'STON/O 2. 3101269', '7.9250']\n",
      "['3', 'Sutehall, Mr. Henry Jr', 'male', '25', '0', '0', 'SOTON/OQ 392076', '7.0500']\n",
      "['3', 'Svensson, Mr. Johan', 'male', '74', '0', '0', '347060', '7.7750']\n",
      "['3', 'Svensson, Mr. Johan Cervin', 'male', '14', '0', '0', '7538', '9.2250']\n",
      "['3', 'Svensson, Mr. Olof', 'male', '24', '0', '0', '350035', '7.7958']\n",
      "['3', 'Tenglin, Mr. Gunnar Isidor', 'male', '25', '0', '0', '350033', '7.7958']\n",
      "['3', 'Theobald, Mr. Thomas Leonard', 'male', '34', '0', '0', '363294', '8.0500']\n",
      "['3', 'Thomas, Master. Assad Alexander', 'male', '0.4167', '0', '1', '2625', '8.5167']\n",
      "['3', 'Thomas, Mr. Charles P', 'male', '0', '1', '0', '2621', '6.4375']\n",
      "['3', 'Thomas, Mr. John', 'male', '0', '0', '0', '2681', '6.4375']\n",
      "['3', 'Thomas, Mr. Tannous', 'male', '0', '0', '0', '2684', '7.2250']\n",
      "['3', 'Thomas, Mrs. Alexander (Thamine \"Thelma\")', 'female', '16', '1', '1', '2625', '8.5167']\n",
      "['3', 'Thomson, Mr. Alexander Morrison', 'male', '0', '0', '0', '32302', '8.0500']\n",
      "['3', 'Thorneycroft, Mr. Percival', 'male', '0', '1', '0', '376564', '16.1000']\n",
      "['3', 'Thorneycroft, Mrs. Percival (Florence Kate White)', 'female', '0', '1', '0', '376564', '16.1000']\n",
      "['3', 'Tikkanen, Mr. Juho', 'male', '32', '0', '0', 'STON/O 2. 3101293', '7.9250']\n",
      "['3', 'Tobin, Mr. Roger', 'male', '0', '0', '0', '383121', '7.7500']\n",
      "['3', 'Todoroff, Mr. Lalio', 'male', '0', '0', '0', '349216', '7.8958']\n",
      "['3', 'Tomlin, Mr. Ernest Portage', 'male', '30.5', '0', '0', '364499', '8.0500']\n",
      "['3', 'Torber, Mr. Ernst William', 'male', '44', '0', '0', '364511', '8.0500']\n",
      "['3', 'Torfa, Mr. Assad', 'male', '0', '0', '0', '2673', '7.2292']\n",
      "['3', 'Tornquist, Mr. William Henry', 'male', '25', '0', '0', 'LINE', '0.0000']\n",
      "['3', 'Toufik, Mr. Nakli', 'male', '0', '0', '0', '2641', '7.2292']\n",
      "['3', 'Touma, Master. Georges Youssef', 'male', '7', '1', '1', '2650', '15.2458']\n",
      "['3', 'Touma, Miss. Maria Youssef', 'female', '9', '1', '1', '2650', '15.2458']\n",
      "['3', 'Touma, Mrs. Darwis (Hanne Youssef Razi)', 'female', '29', '0', '2', '2650', '15.2458']\n",
      "['3', 'Turcin, Mr. Stjepan', 'male', '36', '0', '0', '349247', '7.8958']\n",
      "['3', 'Turja, Miss. Anna Sofia', 'female', '18', '0', '0', '4138', '9.8417']\n",
      "['3', 'Turkula, Mrs. (Hedwig)', 'female', '63', '0', '0', '4134', '9.5875']\n",
      "['3', 'van Billiard, Master. James William', 'male', '0', '1', '1', 'A/5. 851', '14.5000']\n",
      "['3', 'van Billiard, Master. Walter John', 'male', '11.5', '1', '1', 'A/5. 851', '14.5000']\n",
      "['3', 'van Billiard, Mr. Austin Blyler', 'male', '40.5', '0', '2', 'A/5. 851', '14.5000']\n",
      "['3', 'Van Impe, Miss. Catharina', 'female', '10', '0', '2', '345773', '24.1500']\n",
      "['3', 'Van Impe, Mr. Jean Baptiste', 'male', '36', '1', '1', '345773', '24.1500']\n",
      "['3', 'Van Impe, Mrs. Jean Baptiste (Rosalie Paula Govaert)', 'female', '30', '1', '1', '345773', '24.1500']\n",
      "['3', 'van Melkebeke, Mr. Philemon', 'male', '0', '0', '0', '345777', '9.5000']\n",
      "['3', 'Vande Velde, Mr. Johannes Joseph', 'male', '33', '0', '0', '345780', '9.5000']\n",
      "['3', 'Vande Walle, Mr. Nestor Cyriel', 'male', '28', '0', '0', '345770', '9.5000']\n",
      "['3', 'Vanden Steen, Mr. Leo Peter', 'male', '28', '0', '0', '345783', '9.5000']\n",
      "['3', 'Vander Cruyssen, Mr. Victor', 'male', '47', '0', '0', '345765', '9.0000']\n",
      "['3', 'Vander Planke, Miss. Augusta Maria', 'female', '18', '2', '0', '345764', '18.0000']\n",
      "['3', 'Vander Planke, Mr. Julius', 'male', '31', '3', '0', '345763', '18.0000']\n",
      "['3', 'Vander Planke, Mr. Leo Edmondus', 'male', '16', '2', '0', '345764', '18.0000']\n",
      "['3', 'Vander Planke, Mrs. Julius (Emelia Maria Vandemoortele)', 'female', '31', '1', '0', '345763', '18.0000']\n",
      "['3', 'Vartanian, Mr. David', 'male', '22', '0', '0', '2658', '7.2250']\n",
      "['3', 'Vendel, Mr. Olof Edvin', 'male', '20', '0', '0', '350416', '7.8542']\n",
      "['3', 'Vestrom, Miss. Hulda Amanda Adolfina', 'female', '14', '0', '0', '350406', '7.8542']\n",
      "['3', 'Vovk, Mr. Janko', 'male', '22', '0', '0', '349252', '7.8958']\n",
      "['3', 'Waelens, Mr. Achille', 'male', '22', '0', '0', '345767', '9.0000']\n",
      "['3', 'Ware, Mr. Frederick', 'male', '0', '0', '0', '359309', '8.0500']\n",
      "['3', 'Warren, Mr. Charles William', 'male', '0', '0', '0', 'C.A. 49867', '7.5500']\n",
      "['3', 'Webber, Mr. James', 'male', '0', '0', '0', 'SOTON/OQ 3101316', '8.0500']\n",
      "['3', 'Wenzel, Mr. Linhart', 'male', '32.5', '0', '0', '345775', '9.5000']\n",
      "['3', 'Whabee, Mrs. George Joseph (Shawneene Abi-Saab)', 'female', '38', '0', '0', '2688', '7.2292']\n",
      "['3', 'Widegren, Mr. Carl/Charles Peter', 'male', '51', '0', '0', '347064', '7.7500']\n",
      "['3', 'Wiklund, Mr. Jakob Alfred', 'male', '18', '1', '0', '3101267', '6.4958']\n",
      "['3', 'Wiklund, Mr. Karl Johan', 'male', '21', '1', '0', '3101266', '6.4958']\n",
      "['3', 'Wilkes, Mrs. James (Ellen Needs)', 'female', '47', '1', '0', '363272', '7.0000']\n",
      "['3', 'Willer, Mr. Aaron (\"Abi Weller\")', 'male', '0', '0', '0', '3410', '8.7125']\n",
      "['3', 'Willey, Mr. Edward', 'male', '0', '0', '0', 'S.O./P.P. 751', '7.5500']\n",
      "['3', 'Williams, Mr. Howard Hugh \"Harry\"', 'male', '0', '0', '0', 'A/5 2466', '8.0500']\n",
      "['3', 'Williams, Mr. Leslie', 'male', '28.5', '0', '0', '54636', '16.1000']\n",
      "['3', 'Windelov, Mr. Einar', 'male', '21', '0', '0', 'SOTON/OQ 3101317', '7.2500']\n",
      "['3', 'Wirz, Mr. Albert', 'male', '27', '0', '0', '315154', '8.6625']\n",
      "['3', 'Wiseman, Mr. Phillippe', 'male', '0', '0', '0', 'A/4. 34244', '7.2500']\n",
      "['3', 'Wittevrongel, Mr. Camille', 'male', '36', '0', '0', '345771', '9.5000']\n",
      "['3', 'Yasbeck, Mr. Antoni', 'male', '27', '1', '0', '2659', '14.4542']\n",
      "['3', 'Yasbeck, Mrs. Antoni (Selini Alexander)', 'female', '15', '1', '0', '2659', '14.4542']\n",
      "['3', 'Youseff, Mr. Gerious', 'male', '45.5', '0', '0', '2628', '7.2250']\n",
      "['3', 'Yousif, Mr. Wazli', 'male', '0', '0', '0', '2647', '7.2250']\n",
      "['3', 'Yousseff, Mr. Gerious', 'male', '0', '0', '0', '2627', '14.4583']\n",
      "['3', 'Zabour, Miss. Hileni', 'female', '14.5', '1', '0', '2665', '14.4542']\n",
      "['3', 'Zabour, Miss. Thamine', 'female', '0', '1', '0', '2665', '14.4542']\n",
      "['3', 'Zakarian, Mr. Mapriededer', 'male', '26.5', '0', '0', '2656', '7.2250']\n",
      "['3', 'Zakarian, Mr. Ortin', 'male', '27', '0', '0', '2670', '7.2250']\n",
      "['3', 'Zimmerman, Mr. Leo', 'male', '29', '0', '0', '315082', '7.8750']\n"
     ]
    }
   ],
   "source": [
    "# http://tflearn.org/tutorials/quickstart.html\n",
    "import numpy as np\n",
    "import tflearn\n",
    "# make sure you have pandas=0.19.2 in your virtual environment for this example to work\n",
    "# conda install pandas=0.19.2\n",
    "\n",
    "# Download the Titanic dataset\n",
    "from tflearn.datasets import titanic\n",
    "titanic.download_dataset('titanic_dataset.csv')\n",
    "\n",
    "# Load CSV file, indicate that the first column represents labels\n",
    "from tflearn.data_utils import load_csv\n",
    "data, labels = load_csv('titanic_dataset.csv', target_column=0,\n",
    "                        categorical_labels=True, n_classes=2)\n",
    "\n",
    "# let's look at the data\n",
    "\n",
    "# print column names\n",
    "print(\" class |\", \" name |\", \" sex |\", \" age |\", \" # of siblings on board |\", \" # of parents/children on board |\", \" ticket # |\", \" fare |\")\n",
    "# print data rows\n",
    "for element in data:\n",
    "    print(element)\n",
    "    "
   ]
  },
  {
   "cell_type": "code",
   "execution_count": null,
   "metadata": {
    "collapsed": true
   },
   "outputs": [],
   "source": [
    "# Preprocessing function\n",
    "def preprocess(data, columns_to_ignore):\n",
    "    # Sort by descending id and delete columns\n",
    "    for id in sorted(columns_to_ignore, reverse=True):\n",
    "        [r.pop(id) for r in data]\n",
    "    for i in range(len(data)):\n",
    "        # Converting 'sex' field to float (id is 1 after removing labels column)\n",
    "        data[i][1] = 1. if data[i][1] == 'female' else 0.\n",
    "    return np.array(data, dtype=np.float32)\n",
    "\n",
    "# Ignore 'name' and 'ticket' columns (id 1 & 6 of data array)\n",
    "to_ignore=[1, 6]\n",
    "\n",
    "# Preprocess data\n",
    "data = preprocess(data, to_ignore)"
   ]
  },
  {
   "cell_type": "code",
   "execution_count": 10,
   "metadata": {
    "collapsed": false
   },
   "outputs": [
    {
     "ename": "IndexError",
     "evalue": "list index out of range",
     "output_type": "error",
     "traceback": [
      "\u001b[0;31m---------------------------------------------------------------------------\u001b[0m",
      "\u001b[0;31mIndexError\u001b[0m                                Traceback (most recent call last)",
      "\u001b[0;32m<ipython-input-10-afc35d08ca0c>\u001b[0m in \u001b[0;36m<module>\u001b[0;34m()\u001b[0m\n\u001b[1;32m      9\u001b[0m \u001b[0mmodel\u001b[0m \u001b[1;33m=\u001b[0m \u001b[0mtflearn\u001b[0m\u001b[1;33m.\u001b[0m\u001b[0mDNN\u001b[0m\u001b[1;33m(\u001b[0m\u001b[0mnet\u001b[0m\u001b[1;33m)\u001b[0m\u001b[1;33m\u001b[0m\u001b[0m\n\u001b[1;32m     10\u001b[0m \u001b[1;31m# Start training (apply gradient descent algorithm)\u001b[0m\u001b[1;33m\u001b[0m\u001b[1;33m\u001b[0m\u001b[0m\n\u001b[0;32m---> 11\u001b[0;31m \u001b[0mmodel\u001b[0m\u001b[1;33m.\u001b[0m\u001b[0mfit\u001b[0m\u001b[1;33m(\u001b[0m\u001b[0mdata\u001b[0m\u001b[1;33m,\u001b[0m \u001b[0mlabels\u001b[0m\u001b[1;33m,\u001b[0m \u001b[0mn_epoch\u001b[0m\u001b[1;33m=\u001b[0m\u001b[1;36m10\u001b[0m\u001b[1;33m,\u001b[0m \u001b[0mbatch_size\u001b[0m\u001b[1;33m=\u001b[0m\u001b[1;36m16\u001b[0m\u001b[1;33m,\u001b[0m \u001b[0mshow_metric\u001b[0m\u001b[1;33m=\u001b[0m\u001b[1;32mTrue\u001b[0m\u001b[1;33m)\u001b[0m\u001b[1;33m\u001b[0m\u001b[0m\n\u001b[0m\u001b[1;32m     12\u001b[0m \u001b[1;33m\u001b[0m\u001b[0m\n\u001b[1;32m     13\u001b[0m \u001b[1;31m# if this doesn't work, restart your notebook kernel!\u001b[0m\u001b[1;33m\u001b[0m\u001b[1;33m\u001b[0m\u001b[0m\n",
      "\u001b[0;32mJ:\\Anaconda_Python3_6\\lib\\site-packages\\tflearn\\models\\dnn.py\u001b[0m in \u001b[0;36mfit\u001b[0;34m(self, X_inputs, Y_targets, n_epoch, validation_set, show_metric, batch_size, shuffle, snapshot_epoch, snapshot_step, excl_trainops, validation_batch_size, run_id, callbacks)\u001b[0m\n\u001b[1;32m    182\u001b[0m         \u001b[1;31m# TODO: check memory impact for large data and multiple optimizers\u001b[0m\u001b[1;33m\u001b[0m\u001b[1;33m\u001b[0m\u001b[0m\n\u001b[1;32m    183\u001b[0m         feed_dict = feed_dict_builder(X_inputs, Y_targets, self.inputs,\n\u001b[0;32m--> 184\u001b[0;31m                                       self.targets)\n\u001b[0m\u001b[1;32m    185\u001b[0m         \u001b[0mfeed_dicts\u001b[0m \u001b[1;33m=\u001b[0m \u001b[1;33m[\u001b[0m\u001b[0mfeed_dict\u001b[0m \u001b[1;32mfor\u001b[0m \u001b[0mi\u001b[0m \u001b[1;32min\u001b[0m \u001b[0mself\u001b[0m\u001b[1;33m.\u001b[0m\u001b[0mtrain_ops\u001b[0m\u001b[1;33m]\u001b[0m\u001b[1;33m\u001b[0m\u001b[0m\n\u001b[1;32m    186\u001b[0m         \u001b[0mval_feed_dicts\u001b[0m \u001b[1;33m=\u001b[0m \u001b[1;32mNone\u001b[0m\u001b[1;33m\u001b[0m\u001b[0m\n",
      "\u001b[0;32mJ:\\Anaconda_Python3_6\\lib\\site-packages\\tflearn\\utils.py\u001b[0m in \u001b[0;36mfeed_dict_builder\u001b[0;34m(X, Y, net_inputs, net_targets)\u001b[0m\n\u001b[1;32m    281\u001b[0m                 \u001b[0mX\u001b[0m \u001b[1;33m=\u001b[0m \u001b[1;33m[\u001b[0m\u001b[0mX\u001b[0m\u001b[1;33m]\u001b[0m\u001b[1;33m\u001b[0m\u001b[0m\n\u001b[1;32m    282\u001b[0m             \u001b[1;32mfor\u001b[0m \u001b[0mi\u001b[0m\u001b[1;33m,\u001b[0m \u001b[0mx\u001b[0m \u001b[1;32min\u001b[0m \u001b[0menumerate\u001b[0m\u001b[1;33m(\u001b[0m\u001b[0mX\u001b[0m\u001b[1;33m)\u001b[0m\u001b[1;33m:\u001b[0m\u001b[1;33m\u001b[0m\u001b[0m\n\u001b[0;32m--> 283\u001b[0;31m                 \u001b[0mfeed_dict\u001b[0m\u001b[1;33m[\u001b[0m\u001b[0mnet_inputs\u001b[0m\u001b[1;33m[\u001b[0m\u001b[0mi\u001b[0m\u001b[1;33m]\u001b[0m\u001b[1;33m]\u001b[0m \u001b[1;33m=\u001b[0m \u001b[0mx\u001b[0m\u001b[1;33m\u001b[0m\u001b[0m\n\u001b[0m\u001b[1;32m    284\u001b[0m         \u001b[1;32melse\u001b[0m\u001b[1;33m:\u001b[0m\u001b[1;33m\u001b[0m\u001b[0m\n\u001b[1;32m    285\u001b[0m             \u001b[1;31m# If a dict is provided\u001b[0m\u001b[1;33m\u001b[0m\u001b[1;33m\u001b[0m\u001b[0m\n",
      "\u001b[0;31mIndexError\u001b[0m: list index out of range"
     ]
    }
   ],
   "source": [
    "# Build neural network\n",
    "net = tflearn.input_data(shape=[None, 6])\n",
    "net = tflearn.fully_connected(net, 32)\n",
    "net = tflearn.fully_connected(net, 32)\n",
    "net = tflearn.fully_connected(net, 2, activation='softmax')\n",
    "net = tflearn.regression(net)\n",
    "\n",
    "# Define model\n",
    "model = tflearn.DNN(net)\n",
    "# Start training (apply gradient descent algorithm)\n",
    "model.fit(data, labels, n_epoch=10, batch_size=16, show_metric=True)\n",
    "\n",
    "# if this doesn't work, restart your notebook kernel!"
   ]
  },
  {
   "cell_type": "code",
   "execution_count": 2,
   "metadata": {
    "collapsed": false
   },
   "outputs": [
    {
     "name": "stdout",
     "output_type": "stream",
     "text": [
      "DiCaprio Surviving Rate: 0.164075\n",
      "Winslet Surviving Rate: 0.985696\n"
     ]
    }
   ],
   "source": [
    "# Let's create some data for DiCaprio and Winslet\n",
    "dicaprio = [3, 'Jack Dawson', 'male', 19, 0, 0, 'N/A', 5.0000]\n",
    "winslet = [1, 'Rose DeWitt Bukater', 'female', 17, 1, 2, 'N/A', 100.0000]\n",
    "# Preprocess data\n",
    "dicaprio, winslet = preprocess([dicaprio, winslet], to_ignore)\n",
    "# Predict surviving chances (class 1 results)\n",
    "pred = model.predict([dicaprio, winslet])\n",
    "print(\"DiCaprio Surviving Rate:\", pred[0][1])\n",
    "print(\"Winslet Surviving Rate:\", pred[1][1])"
   ]
  },
  {
   "cell_type": "code",
   "execution_count": null,
   "metadata": {
    "collapsed": true
   },
   "outputs": [],
   "source": []
  },
  {
   "cell_type": "code",
   "execution_count": null,
   "metadata": {
    "collapsed": true
   },
   "outputs": [],
   "source": [
    "# continue learning"
   ]
  },
  {
   "cell_type": "code",
   "execution_count": null,
   "metadata": {
    "collapsed": true
   },
   "outputs": [],
   "source": [
    "# If you have to use Tensorflow on CPUs, check this article by Intel:\n",
    "# https://software.intel.com/en-us/articles/tensorflow-optimizations-on-modern-intel-architecture"
   ]
  },
  {
   "cell_type": "code",
   "execution_count": null,
   "metadata": {
    "collapsed": true
   },
   "outputs": [],
   "source": [
    "# Want to meet Tensorflow developers?\n",
    "# You are in luck, they are coming to Munich in a couple of weeks for a meetup (July 25):\n",
    "# https://www.meetup.com/Hacking-Machine-Learning/events/240095377/"
   ]
  }
 ],
 "metadata": {
  "kernelspec": {
   "display_name": "Python 3",
   "language": "python",
   "name": "python3"
  },
  "language_info": {
   "codemirror_mode": {
    "name": "ipython",
    "version": 3
   },
   "file_extension": ".py",
   "mimetype": "text/x-python",
   "name": "python",
   "nbconvert_exporter": "python",
   "pygments_lexer": "ipython3",
   "version": "3.6.0"
  }
 },
 "nbformat": 4,
 "nbformat_minor": 0
}
