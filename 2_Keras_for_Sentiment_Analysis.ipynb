{
 "cells": [
  {
   "cell_type": "code",
   "execution_count": 1,
   "metadata": {},
   "outputs": [],
   "source": [
    "# Let's classify IMBD movie reviews into positive and negative interviews using LSTMs in Keras.\n",
    "# We are using Tensorflow 1.5 as backend, and Keras 2.1.3"
   ]
  },
  {
   "cell_type": "code",
   "execution_count": 2,
   "metadata": {},
   "outputs": [
    {
     "name": "stderr",
     "output_type": "stream",
     "text": [
      "Using TensorFlow backend.\n"
     ]
    }
   ],
   "source": [
    "import time\n",
    "from keras.layers import LSTM, Embedding\n",
    "from keras.datasets import imdb\n",
    "from keras.preprocessing import sequence\n",
    "from keras.models import Sequential, Model\n",
    "from keras.layers import Dense, Dropout, Activation, Input, Bidirectional\n",
    "from keras.callbacks import EarlyStopping\n",
    "from keras.callbacks import Callback"
   ]
  },
  {
   "cell_type": "code",
   "execution_count": 3,
   "metadata": {},
   "outputs": [
    {
     "name": "stdout",
     "output_type": "stream",
     "text": [
      "2.1.3\n"
     ]
    }
   ],
   "source": [
    "import keras\n",
    "print(keras.__version__)"
   ]
  },
  {
   "cell_type": "code",
   "execution_count": 4,
   "metadata": {},
   "outputs": [
    {
     "name": "stdout",
     "output_type": "stream",
     "text": [
      "Loading data...\n",
      "25000 train sequences\n",
      "25000 test sequences\n"
     ]
    }
   ],
   "source": [
    "print('Loading data...')\n",
    "max_words = 400\n",
    "(x_train, y_train), (x_test, y_test) = imdb.load_data(num_words=max_words) # , skip_top=10)\n",
    "print(len(x_train), 'train sequences')\n",
    "print(len(x_test), 'test sequences')"
   ]
  },
  {
   "cell_type": "code",
   "execution_count": 5,
   "metadata": {},
   "outputs": [],
   "source": [
    "# monitor the loss, if the loss climbs instead of going down we stop the training\n",
    "early_stopping=EarlyStopping(monitor='val_loss', patience=6)"
   ]
  },
  {
   "cell_type": "code",
   "execution_count": 6,
   "metadata": {},
   "outputs": [
    {
     "name": "stdout",
     "output_type": "stream",
     "text": [
      "Pad sequences (samples x time)\n",
      "x_train shape: (25000, 400)\n",
      "x_test shape: (25000, 400)\n"
     ]
    }
   ],
   "source": [
    "print('Pad sequences (samples x time)')\n",
    "maxlen = 400  # 400\n",
    "x_train = sequence.pad_sequences(x_train, maxlen=maxlen)\n",
    "x_test = sequence.pad_sequences(x_test, maxlen=maxlen)\n",
    "print('x_train shape:', x_train.shape)\n",
    "print('x_test shape:', x_test.shape)"
   ]
  },
  {
   "cell_type": "code",
   "execution_count": 7,
   "metadata": {},
   "outputs": [
    {
     "name": "stdout",
     "output_type": "stream",
     "text": [
      "Build model...\n"
     ]
    }
   ],
   "source": [
    "batch_size = 124\n",
    "epochs = 1  # let's train for only one epoch to save time\n",
    "\n",
    "print('Build model...')\n",
    "model = Sequential()\n",
    "model.add(Embedding(max_words, 50))  # 1000\n",
    "model.add(LSTM(100, dropout=0.2, recurrent_dropout=0.2, return_sequences=True))\n",
    "model.add(LSTM(100, dropout=0.2, recurrent_dropout=0.2, return_sequences=True))\n",
    "model.add(LSTM(100, dropout=0.2, recurrent_dropout=0.2))\n",
    "model.add(Dense(1, activation='sigmoid'))"
   ]
  },
  {
   "cell_type": "code",
   "execution_count": 8,
   "metadata": {},
   "outputs": [],
   "source": [
    "model.compile(loss='binary_crossentropy',\n",
    "              optimizer='adam',\n",
    "              metrics=['accuracy'])"
   ]
  },
  {
   "cell_type": "code",
   "execution_count": 9,
   "metadata": {},
   "outputs": [],
   "source": [
    "# track time it took for each epoch\n",
    "class TimeHistory(Callback):\n",
    "    \n",
    "    def on_train_begin(self, logs={}):\n",
    "        self.times = []\n",
    "\n",
    "    def on_epoch_begin(self, batch, logs={}):\n",
    "        self.epoch_time_start = time.time()\n",
    "\n",
    "    def on_epoch_end(self, batch, logs={}):\n",
    "        self.times.append(time.time() - self.epoch_time_start)\n",
    "        \n",
    "time_callback = TimeHistory()"
   ]
  },
  {
   "cell_type": "code",
   "execution_count": 10,
   "metadata": {},
   "outputs": [
    {
     "name": "stdout",
     "output_type": "stream",
     "text": [
      "Train on 22500 samples, validate on 2500 samples\n",
      "Epoch 1/1\n",
      "22500/22500 [==============================] - 302s 13ms/step - loss: 0.5938 - acc: 0.6749 - val_loss: 0.5204 - val_acc: 0.7508\n"
     ]
    }
   ],
   "source": [
    "history = model.fit(x_train, y_train,\n",
    "                    batch_size=batch_size,\n",
    "                    epochs=epochs,\n",
    "                    verbose=1,\n",
    "                    validation_split=0.1,\n",
    "                    # validation_data=(x_test, y_test),\n",
    "                    callbacks=[early_stopping, time_callback])"
   ]
  },
  {
   "cell_type": "code",
   "execution_count": 14,
   "metadata": {},
   "outputs": [
    {
     "name": "stdout",
     "output_type": "stream",
     "text": [
      "All epochs took: 5.04 minutes\n"
     ]
    }
   ],
   "source": [
    "times = sum(time_callback.times)\n",
    "print(\"All epochs took:\", round(times/60, 2), \"minutes\")"
   ]
  },
  {
   "cell_type": "code",
   "execution_count": 16,
   "metadata": {},
   "outputs": [
    {
     "name": "stdout",
     "output_type": "stream",
     "text": [
      "25000/25000 [==============================] - 72s 3ms/step\n",
      "Test score: 0.5084118087911605\n",
      "Test accuracy: 0.7526400011825561\n"
     ]
    }
   ],
   "source": [
    "score, acc = model.evaluate(x_test, y_test,\n",
    "                            batch_size=batch_size)\n",
    "print('Test score:', score)\n",
    "print('Test accuracy:', acc)"
   ]
  },
  {
   "cell_type": "code",
   "execution_count": null,
   "metadata": {},
   "outputs": [],
   "source": [
    "# training a good LSTM model for just 1 epoch took a really long time, next we will see how we can make the training go faster."
   ]
  },
  {
   "cell_type": "code",
   "execution_count": null,
   "metadata": {},
   "outputs": [],
   "source": []
  },
  {
   "cell_type": "code",
   "execution_count": 17,
   "metadata": {},
   "outputs": [],
   "source": [
    "# Now, let's use CNNs for this task\n",
    "# the training time is considerably faster here"
   ]
  },
  {
   "cell_type": "code",
   "execution_count": 18,
   "metadata": {},
   "outputs": [],
   "source": [
    "from keras.preprocessing import sequence\n",
    "from keras.layers import Dense, Dropout, Activation, SpatialDropout1D\n",
    "from keras.layers import Conv1D, GlobalMaxPooling1D, PReLU, LeakyReLU\n",
    "from keras.optimizers import SGD\n",
    "\n",
    "batch_size = 64\n",
    "epochs = 10\n",
    "\n",
    "max_features = 5000\n",
    "maxlen = 400  # 400\n",
    "batch_size = 64\n",
    "embedding_dims = 100\n",
    "nb_filter = 250\n",
    "filter_length = 3\n",
    "hidden_dims = 50\n",
    "nb_epoch = 4\n",
    "\n",
    "model = Sequential()\n",
    "model.add(Embedding(max_features, embedding_dims, input_length=maxlen))\n",
    "model.add(SpatialDropout1D(rate=0.6))\n",
    "\n",
    "model.add(Conv1D(strides=1, kernel_size=5, filters=30, padding=\"valid\"))\n",
    "model.add(Dropout(0.4))\n",
    "model.add(LeakyReLU())\n",
    "\n",
    "model.add(Conv1D(strides=1, kernel_size=5, filters=30, padding=\"valid\"))\n",
    "model.add(Dropout(0.4))\n",
    "model.add(LeakyReLU())\n",
    "\n",
    "model.add(GlobalMaxPooling1D())\n",
    "\n",
    "model.add(Dense(250))\n",
    "model.add(Dropout(0.5))\n",
    "model.add(LeakyReLU())\n",
    "\n",
    "model.add(Dense(1))\n",
    "model.add(Activation('sigmoid'))\n",
    "\n"
   ]
  },
  {
   "cell_type": "code",
   "execution_count": 19,
   "metadata": {},
   "outputs": [],
   "source": [
    "model.compile(loss='binary_crossentropy',\n",
    "              optimizer='adam',\n",
    "              # optimizer=SGD(lr=0.01, decay=1e-6, momentum=0.9, nesterov=True),  # 'adam'\n",
    "              metrics=['accuracy'])"
   ]
  },
  {
   "cell_type": "code",
   "execution_count": 20,
   "metadata": {},
   "outputs": [
    {
     "name": "stdout",
     "output_type": "stream",
     "text": [
      "Train on 22500 samples, validate on 2500 samples\n",
      "Epoch 1/10\n",
      "22500/22500 [==============================] - 5s 213us/step - loss: 0.6326 - acc: 0.6074 - val_loss: 0.5253 - val_acc: 0.7692\n",
      "Epoch 2/10\n",
      "22500/22500 [==============================] - 4s 158us/step - loss: 0.4858 - acc: 0.7657 - val_loss: 0.4849 - val_acc: 0.7876\n",
      "Epoch 3/10\n",
      "22500/22500 [==============================] - 4s 164us/step - loss: 0.4533 - acc: 0.7874 - val_loss: 0.4593 - val_acc: 0.8016\n",
      "Epoch 4/10\n",
      "22500/22500 [==============================] - 3s 155us/step - loss: 0.4370 - acc: 0.7990 - val_loss: 0.4490 - val_acc: 0.8080\n",
      "Epoch 5/10\n",
      "22500/22500 [==============================] - 3s 154us/step - loss: 0.4296 - acc: 0.8005 - val_loss: 0.4443 - val_acc: 0.8136\n",
      "Epoch 6/10\n",
      "22500/22500 [==============================] - 3s 155us/step - loss: 0.4179 - acc: 0.8079 - val_loss: 0.4422 - val_acc: 0.8100\n",
      "Epoch 7/10\n",
      "22500/22500 [==============================] - 3s 155us/step - loss: 0.4142 - acc: 0.8111 - val_loss: 0.4293 - val_acc: 0.8144\n",
      "Epoch 8/10\n",
      "22500/22500 [==============================] - 4s 160us/step - loss: 0.4092 - acc: 0.8128 - val_loss: 0.4305 - val_acc: 0.8168\n",
      "Epoch 9/10\n",
      "22500/22500 [==============================] - 4s 163us/step - loss: 0.4034 - acc: 0.8151 - val_loss: 0.4310 - val_acc: 0.8120\n",
      "Epoch 10/10\n",
      "22500/22500 [==============================] - 3s 154us/step - loss: 0.3984 - acc: 0.8193 - val_loss: 0.4338 - val_acc: 0.8152\n"
     ]
    }
   ],
   "source": [
    "history = model.fit(x_train, y_train,\n",
    "                    batch_size=batch_size,\n",
    "                    epochs=epochs,\n",
    "                    verbose=1,\n",
    "                    validation_split=0.1,\n",
    "                    # validation_data=(x_test, y_test),\n",
    "                    callbacks=[early_stopping, time_callback])"
   ]
  },
  {
   "cell_type": "code",
   "execution_count": 21,
   "metadata": {},
   "outputs": [
    {
     "name": "stdout",
     "output_type": "stream",
     "text": [
      "All epochs took: 0.61 minutes\n"
     ]
    }
   ],
   "source": [
    "times = sum(time_callback.times)\n",
    "print(\"All epochs took:\", round(times/60, 2), \"minutes\")"
   ]
  },
  {
   "cell_type": "code",
   "execution_count": 22,
   "metadata": {},
   "outputs": [
    {
     "data": {
      "image/png": "[encoded data removed]",
      "text/plain": [
       "<matplotlib.figure.Figure at 0x21c16f46160>"
      ]
     },
     "metadata": {},
     "output_type": "display_data"
    },
    {
     "data": {
      "image/png": "[encoded data removed]",
      "text/plain": [
       "<matplotlib.figure.Figure at 0x21c18dee828>"
      ]
     },
     "metadata": {},
     "output_type": "display_data"
    }
   ],
   "source": [
    "# inspect the model        \n",
    "plot_history(history)"
   ]
  },
  {
   "cell_type": "code",
   "execution_count": 23,
   "metadata": {},
   "outputs": [
    {
     "name": "stdout",
     "output_type": "stream",
     "text": [
      "25000/25000 [==============================] - 1s 39us/step\n",
      "Test score: 0.4242110009765625\n",
      "Test accuracy: 0.815680000038147\n"
     ]
    }
   ],
   "source": [
    "score, acc = model.evaluate(x_test, y_test,\n",
    "                            batch_size=batch_size)\n",
    "print('Test score:', score)\n",
    "print('Test accuracy:', acc)"
   ]
  },
  {
   "cell_type": "code",
   "execution_count": null,
   "metadata": {},
   "outputs": [],
   "source": []
  },
  {
   "cell_type": "code",
   "execution_count": 24,
   "metadata": {},
   "outputs": [],
   "source": [
    "# Well, using CNNs yields good results, but can't we just speed up our LSTM somehow?\n",
    "# Yes, we can use Keras' CUDA implementation of the LSTM called CuDNNLSTM, it is almost 10x faster on a GPU. \n",
    "# In this case, dropout only works in between layers. (For an advanced user: CuDNNLSTM does not support recurrent_dropout!)"
   ]
  },
  {
   "cell_type": "code",
   "execution_count": 25,
   "metadata": {},
   "outputs": [
    {
     "name": "stdout",
     "output_type": "stream",
     "text": [
      "Build model...\n"
     ]
    }
   ],
   "source": [
    "batch_size = 124\n",
    "epochs = 10\n",
    "\n",
    "from keras.layers import CuDNNLSTM\n",
    "print('Build model...')\n",
    "model = Sequential()\n",
    "model.add(Embedding(max_words, 50))\n",
    "model.add(CuDNNLSTM(100, return_sequences=True))\n",
    "model.add(Dropout(0.2))\n",
    "model.add(CuDNNLSTM(100, return_sequences=True))\n",
    "model.add(Dropout(0.2))\n",
    "model.add(CuDNNLSTM(100, stateful=False))\n",
    "model.add(Dropout(0.2))\n",
    "model.add(Dense(1, activation='sigmoid'))"
   ]
  },
  {
   "cell_type": "code",
   "execution_count": 26,
   "metadata": {},
   "outputs": [],
   "source": [
    "model.compile(loss='binary_crossentropy',\n",
    "              optimizer='adam',\n",
    "              metrics=['accuracy'])"
   ]
  },
  {
   "cell_type": "code",
   "execution_count": 27,
   "metadata": {},
   "outputs": [
    {
     "name": "stdout",
     "output_type": "stream",
     "text": [
      "Train on 22500 samples, validate on 2500 samples\n",
      "Epoch 1/10\n",
      "22500/22500 [==============================] - 22s 984us/step - loss: 0.5823 - acc: 0.6871 - val_loss: 0.5315 - val_acc: 0.7524\n",
      "Epoch 2/10\n",
      "22500/22500 [==============================] - 21s 928us/step - loss: 0.4323 - acc: 0.8074 - val_loss: 0.4402 - val_acc: 0.8000\n",
      "Epoch 3/10\n",
      "22500/22500 [==============================] - 21s 925us/step - loss: 0.4198 - acc: 0.8123 - val_loss: 0.4431 - val_acc: 0.8132\n",
      "Epoch 4/10\n",
      "22500/22500 [==============================] - 21s 927us/step - loss: 0.4056 - acc: 0.8211 - val_loss: 0.4353 - val_acc: 0.8224\n",
      "Epoch 5/10\n",
      "22500/22500 [==============================] - 21s 923us/step - loss: 0.4073 - acc: 0.8197 - val_loss: 0.4177 - val_acc: 0.8148\n",
      "Epoch 6/10\n",
      "22500/22500 [==============================] - 21s 921us/step - loss: 0.3871 - acc: 0.8284 - val_loss: 0.4371 - val_acc: 0.8264\n",
      "Epoch 7/10\n",
      "22500/22500 [==============================] - 21s 924us/step - loss: 0.3851 - acc: 0.8288 - val_loss: 0.4080 - val_acc: 0.8260\n",
      "Epoch 8/10\n",
      "22500/22500 [==============================] - 21s 928us/step - loss: 0.3863 - acc: 0.8290 - val_loss: 0.4157 - val_acc: 0.8156\n",
      "Epoch 9/10\n",
      "22500/22500 [==============================] - 21s 922us/step - loss: 0.3805 - acc: 0.8311 - val_loss: 0.4010 - val_acc: 0.8284\n",
      "Epoch 10/10\n",
      "22500/22500 [==============================] - 21s 924us/step - loss: 0.3750 - acc: 0.8357 - val_loss: 0.4868 - val_acc: 0.8044\n"
     ]
    }
   ],
   "source": [
    "history = model.fit(x_train, y_train,\n",
    "                    batch_size=batch_size,\n",
    "                    epochs=epochs,\n",
    "                    verbose=1,\n",
    "                    validation_split=0.1,\n",
    "                    # validation_data=(x_test, y_test),\n",
    "                    callbacks=[early_stopping, time_callback])"
   ]
  },
  {
   "cell_type": "code",
   "execution_count": 28,
   "metadata": {},
   "outputs": [
    {
     "name": "stdout",
     "output_type": "stream",
     "text": [
      "All epochs took: 3.49 minutes\n"
     ]
    }
   ],
   "source": [
    "times = sum(time_callback.times)\n",
    "print(\"All epochs took:\", round(times/60, 2), \"minutes\")"
   ]
  },
  {
   "cell_type": "code",
   "execution_count": 29,
   "metadata": {},
   "outputs": [
    {
     "data": {
      "image/png": "[encoded data removed]",
      "text/plain": [
       "<matplotlib.figure.Figure at 0x21c1703be48>"
      ]
     },
     "metadata": {},
     "output_type": "display_data"
    },
    {
     "data": {
      "image/png": "[encoded data removed]",
      "text/plain": [
       "<matplotlib.figure.Figure at 0x21d97ed3ac8>"
      ]
     },
     "metadata": {},
     "output_type": "display_data"
    }
   ],
   "source": [
    "# inspect the model        \n",
    "plot_history(history)"
   ]
  },
  {
   "cell_type": "code",
   "execution_count": 30,
   "metadata": {},
   "outputs": [
    {
     "name": "stdout",
     "output_type": "stream",
     "text": [
      "25000/25000 [==============================] - 9s 379us/step\n",
      "Test score: 0.4553125735807419\n",
      "Test accuracy: 0.8136800014781952\n"
     ]
    }
   ],
   "source": [
    "score, acc = model.evaluate(x_test, y_test,\n",
    "                            batch_size=batch_size)\n",
    "print('Test score:', score)\n",
    "print('Test accuracy:', acc)"
   ]
  },
  {
   "cell_type": "code",
   "execution_count": null,
   "metadata": {},
   "outputs": [],
   "source": [
    "# CuDNNLSTM took 21s per epoch, while normal LSTM took around 5 minutes per epoch. Quite a speed up don't you think?"
   ]
  },
  {
   "cell_type": "code",
   "execution_count": null,
   "metadata": {},
   "outputs": [],
   "source": []
  },
  {
   "cell_type": "code",
   "execution_count": 31,
   "metadata": {},
   "outputs": [],
   "source": [
    "# Resources and References:\n",
    "# http://www.samyzaf.com/ML/imdb/imdb.html\n",
    "# https://medium.com/@thoszymkowiak/how-to-implement-sentiment-analysis-using-word-embedding-and-convolutional-neural-networks-on-keras-163197aef623"
   ]
  }
 ],
 "metadata": {
  "kernelspec": {
   "display_name": "Python 3",
   "language": "python",
   "name": "python3"
  },
  "language_info": {
   "codemirror_mode": {
    "name": "ipython",
    "version": 3
   },
   "file_extension": ".py",
   "mimetype": "text/x-python",
   "name": "python",
   "nbconvert_exporter": "python",
   "pygments_lexer": "ipython3",
   "version": "3.6.2"
  }
 },
 "nbformat": 4,
 "nbformat_minor": 2
}
