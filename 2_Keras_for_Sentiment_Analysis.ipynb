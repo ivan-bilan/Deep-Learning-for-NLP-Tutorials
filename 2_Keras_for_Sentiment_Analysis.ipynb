{
 "cells": [
  {
   "cell_type": "code",
   "execution_count": 1,
   "metadata": {
    "collapsed": true
   },
   "outputs": [],
   "source": [
    "# Let's classify IMBD movie reviews into positive and negative interviews using LSTMs in Keras"
   ]
  },
  {
   "cell_type": "code",
   "execution_count": 2,
   "metadata": {},
   "outputs": [
    {
     "name": "stderr",
     "output_type": "stream",
     "text": [
      "Using TensorFlow backend.\n"
     ]
    }
   ],
   "source": [
    "from keras.layers import LSTM, Embedding\n",
    "from keras.datasets import imdb\n",
    "from keras.preprocessing import sequence\n",
    "from keras.models import Sequential, Model\n",
    "from keras.layers import Dense, Dropout, Activation, Input, Bidirectional\n",
    "from keras.callbacks import EarlyStopping"
   ]
  },
  {
   "cell_type": "code",
   "execution_count": 3,
   "metadata": {},
   "outputs": [
    {
     "name": "stdout",
     "output_type": "stream",
     "text": [
      "Loading data...\n",
      "25000 train sequences\n",
      "25000 test sequences\n"
     ]
    }
   ],
   "source": [
    "print('Loading data...')\n",
    "max_words = 5000\n",
    "(x_train, y_train), (x_test, y_test) = imdb.load_data(num_words=max_words) # , skip_top=10)\n",
    "print(len(x_train), 'train sequences')\n",
    "print(len(x_test), 'test sequences')"
   ]
  },
  {
   "cell_type": "code",
   "execution_count": 4,
   "metadata": {
    "collapsed": true
   },
   "outputs": [],
   "source": [
    "# monitor the loss, if the loss climbs instead of going down we stop the training\n",
    "early_stopping=EarlyStopping(monitor='val_loss', patience=6)"
   ]
  },
  {
   "cell_type": "code",
   "execution_count": 5,
   "metadata": {},
   "outputs": [
    {
     "name": "stdout",
     "output_type": "stream",
     "text": [
      "Pad sequences (samples x time)\n",
      "x_train shape: (25000, 400)\n",
      "x_test shape: (25000, 400)\n"
     ]
    }
   ],
   "source": [
    "print('Pad sequences (samples x time)')\n",
    "maxlen = 400\n",
    "x_train = sequence.pad_sequences(x_train, maxlen=maxlen)\n",
    "x_test = sequence.pad_sequences(x_test, maxlen=maxlen)\n",
    "print('x_train shape:', x_train.shape)\n",
    "print('x_test shape:', x_test.shape)"
   ]
  },
  {
   "cell_type": "code",
   "execution_count": 6,
   "metadata": {},
   "outputs": [
    {
     "name": "stdout",
     "output_type": "stream",
     "text": [
      "Build model...\n"
     ]
    }
   ],
   "source": [
    "batch_size = 124\n",
    "epochs = 10\n",
    "\n",
    "print('Build model...')\n",
    "model = Sequential()\n",
    "model.add(Embedding(max_words, 50))  # 1000\n",
    "model.add(LSTM(100, dropout=0.2, recurrent_dropout=0.2, return_sequences=True))\n",
    "model.add(LSTM(100, dropout=0.2, recurrent_dropout=0.2, return_sequences=True))\n",
    "model.add(LSTM(100, dropout=0.2, recurrent_dropout=0.2))\n",
    "model.add(Dense(1, activation='sigmoid'))"
   ]
  },
  {
   "cell_type": "code",
   "execution_count": 7,
   "metadata": {
    "collapsed": true
   },
   "outputs": [],
   "source": [
    "model.compile(loss='binary_crossentropy',\n",
    "              optimizer='adam',\n",
    "              metrics=['accuracy'])"
   ]
  },
  {
   "cell_type": "code",
   "execution_count": 8,
   "metadata": {},
   "outputs": [
    {
     "name": "stdout",
     "output_type": "stream",
     "text": [
      "Train on 22500 samples, validate on 2500 samples\n",
      "Epoch 1/10\n",
      "22500/22500 [==============================] - 227s - loss: 0.5133 - acc: 0.7392 - val_loss: 0.4058 - val_acc: 0.8232\n",
      "Epoch 2/10\n",
      "22500/22500 [==============================] - 223s - loss: 0.3802 - acc: 0.8407 - val_loss: 0.4039 - val_acc: 0.8244\n",
      "Epoch 3/10\n",
      "22500/22500 [==============================] - 223s - loss: 0.3300 - acc: 0.8698 - val_loss: 0.3547 - val_acc: 0.8464\n",
      "Epoch 4/10\n",
      "22500/22500 [==============================] - 223s - loss: 0.4407 - acc: 0.8023 - val_loss: 0.3620 - val_acc: 0.8560\n",
      "Epoch 5/10\n",
      "22500/22500 [==============================] - 226s - loss: 0.3338 - acc: 0.8643 - val_loss: 0.3471 - val_acc: 0.8508\n",
      "Epoch 6/10\n",
      "22500/22500 [==============================] - 233s - loss: 0.2858 - acc: 0.8875 - val_loss: 0.3646 - val_acc: 0.8536\n",
      "Epoch 7/10\n",
      "22500/22500 [==============================] - 231s - loss: 0.2839 - acc: 0.8869 - val_loss: 0.3654 - val_acc: 0.8400\n",
      "Epoch 8/10\n",
      "22500/22500 [==============================] - 227s - loss: 0.2444 - acc: 0.9038 - val_loss: 0.3071 - val_acc: 0.8804\n",
      "Epoch 9/10\n",
      "22500/22500 [==============================] - 223s - loss: 0.2178 - acc: 0.9148 - val_loss: 0.3313 - val_acc: 0.8804\n",
      "Epoch 10/10\n",
      "22500/22500 [==============================] - 223s - loss: 0.2049 - acc: 0.9226 - val_loss: 0.3121 - val_acc: 0.8864\n"
     ]
    }
   ],
   "source": [
    "history = model.fit(x_train, y_train,\n",
    "                    batch_size=batch_size,\n",
    "                    epochs=epochs,\n",
    "                    verbose=1,\n",
    "                    validation_split=0.1,\n",
    "                    # validation_data=(x_test, y_test),\n",
    "                    callbacks=[early_stopping])"
   ]
  },
  {
   "cell_type": "code",
   "execution_count": 9,
   "metadata": {},
   "outputs": [
    {
     "data": {
      "image/png": "[encoded data removed]",
      "text/plain": [
       "<matplotlib.figure.Figure at 0x23f3db00710>"
      ]
     },
     "metadata": {},
     "output_type": "display_data"
    },
    {
     "data": {
      "image/png": "[encoded data removed]",
      "text/plain": [
       "<matplotlib.figure.Figure at 0x23f40e67400>"
      ]
     },
     "metadata": {},
     "output_type": "display_data"
    }
   ],
   "source": [
    "# inspect the model\n",
    "\n",
    "from IPython.display import display\n",
    "import matplotlib.pyplot as plt\n",
    "%matplotlib inline\n",
    "\n",
    "def plot_history(hist):\n",
    "    plt.figure()\n",
    "    plt.xlabel(\"Epochs\")\n",
    "    plt.ylabel(\"Loss\")\n",
    "    plt.plot(hist.history['loss'])\n",
    "    plt.plot(hist.history['val_loss'])\n",
    "    plt.legend(['Training', 'Validation'])\n",
    "    # plt.savefig('loss.png', dpi=400)\n",
    "    \n",
    "    plt.figure()\n",
    "    plt.xlabel(\"Epochs\")\n",
    "    plt.ylabel(\"Accuracy\")\n",
    "    plt.plot(hist.history['acc'])\n",
    "    plt.plot(hist.history['val_acc'])\n",
    "    plt.legend(['Training', 'Validation'])\n",
    "    # plt.savefig('accuracy.png', dpi=400)\n",
    "        \n",
    "plot_history(history)"
   ]
  },
  {
   "cell_type": "code",
   "execution_count": 10,
   "metadata": {},
   "outputs": [
    {
     "name": "stdout",
     "output_type": "stream",
     "text": [
      "25000/25000 [==============================] - 54s    \n",
      "Test score: 0.325244666557\n",
      "Test accuracy: 0.873919980755\n"
     ]
    }
   ],
   "source": [
    "score, acc = model.evaluate(x_test, y_test,\n",
    "                            batch_size=batch_size)\n",
    "print('Test score:', score)\n",
    "print('Test accuracy:', acc)"
   ]
  },
  {
   "cell_type": "code",
   "execution_count": null,
   "metadata": {
    "collapsed": true
   },
   "outputs": [],
   "source": []
  },
  {
   "cell_type": "code",
   "execution_count": null,
   "metadata": {
    "collapsed": true
   },
   "outputs": [],
   "source": []
  },
  {
   "cell_type": "code",
   "execution_count": 11,
   "metadata": {
    "collapsed": true
   },
   "outputs": [],
   "source": [
    "# now let's use CNNs for this task\n",
    "# the training time is much faster"
   ]
  },
  {
   "cell_type": "code",
   "execution_count": 12,
   "metadata": {},
   "outputs": [
    {
     "name": "stderr",
     "output_type": "stream",
     "text": [
      "J:\\Anaconda_Python3_6\\envs\\tensorflow\\lib\\site-packages\\ipykernel_launcher.py:18: UserWarning: The `dropout` argument is no longer support in `Embedding`. You can apply a `keras.layers.SpatialDropout1D` layer right after the `Embedding` layer to get the same behavior.\n",
      "J:\\Anaconda_Python3_6\\envs\\tensorflow\\lib\\site-packages\\ipykernel_launcher.py:27: UserWarning: Update your `Conv1D` call to the Keras 2 API: `Conv1D(activation=\"relu\", strides=1, padding=\"valid\", filters=250, kernel_size=3)`\n"
     ]
    }
   ],
   "source": [
    "from keras.preprocessing import sequence\n",
    "from keras.layers import Dense, Dropout, Activation\n",
    "from keras.layers import Convolution1D, GlobalMaxPooling1D\n",
    "\n",
    "batch_size = 124\n",
    "epochs = 10\n",
    "\n",
    "max_features = 5000\n",
    "maxlen = 400\n",
    "batch_size = 32\n",
    "embedding_dims = 50\n",
    "nb_filter = 250\n",
    "filter_length = 3\n",
    "hidden_dims = 250\n",
    "nb_epoch = 4\n",
    "\n",
    "model = Sequential()\n",
    "model.add(Embedding(max_features, embedding_dims, input_length=maxlen, dropout=0.2))\n",
    "\n",
    "\n",
    "model.add(\n",
    "    Convolution1D(\n",
    "        nb_filter=nb_filter,\n",
    "        filter_length=filter_length,\n",
    "        border_mode='valid',\n",
    "        activation='relu',\n",
    "        subsample_length=1,\n",
    "    )\n",
    ")\n",
    "\n",
    "model.add(GlobalMaxPooling1D())\n",
    "\n",
    "model.add(Dense(hidden_dims))\n",
    "model.add(Dropout(0.2))\n",
    "model.add(Activation('relu'))\n",
    "\n",
    "model.add(Dense(1))\n",
    "model.add(Activation('sigmoid'))\n",
    "\n"
   ]
  },
  {
   "cell_type": "code",
   "execution_count": 13,
   "metadata": {
    "collapsed": true
   },
   "outputs": [],
   "source": [
    "model.compile(loss='binary_crossentropy',\n",
    "              optimizer='adam',\n",
    "              metrics=['accuracy'])"
   ]
  },
  {
   "cell_type": "code",
   "execution_count": 14,
   "metadata": {},
   "outputs": [
    {
     "name": "stdout",
     "output_type": "stream",
     "text": [
      "Train on 22500 samples, validate on 2500 samples\n",
      "Epoch 1/10\n",
      "22500/22500 [==============================] - 5s - loss: 0.3975 - acc: 0.8033 - val_loss: 0.2815 - val_acc: 0.8860\n",
      "Epoch 2/10\n",
      "22500/22500 [==============================] - 5s - loss: 0.2043 - acc: 0.9208 - val_loss: 0.2535 - val_acc: 0.8980\n",
      "Epoch 3/10\n",
      "22500/22500 [==============================] - 5s - loss: 0.1127 - acc: 0.9584 - val_loss: 0.2965 - val_acc: 0.8964\n",
      "Epoch 4/10\n",
      "22500/22500 [==============================] - 5s - loss: 0.0483 - acc: 0.9850 - val_loss: 0.3842 - val_acc: 0.8900\n",
      "Epoch 5/10\n",
      "22500/22500 [==============================] - 5s - loss: 0.0198 - acc: 0.9939 - val_loss: 0.4129 - val_acc: 0.8904\n",
      "Epoch 6/10\n",
      "22500/22500 [==============================] - 5s - loss: 0.0179 - acc: 0.9939 - val_loss: 0.6395 - val_acc: 0.8740\n",
      "Epoch 7/10\n",
      "22500/22500 [==============================] - 5s - loss: 0.0179 - acc: 0.9936 - val_loss: 0.5320 - val_acc: 0.8876\n",
      "Epoch 8/10\n",
      "22500/22500 [==============================] - 5s - loss: 0.0170 - acc: 0.9948 - val_loss: 0.5478 - val_acc: 0.8924\n",
      "Epoch 9/10\n",
      "22500/22500 [==============================] - 5s - loss: 0.0176 - acc: 0.9931 - val_loss: 0.5900 - val_acc: 0.8984\n"
     ]
    }
   ],
   "source": [
    "history = model.fit(x_train, y_train,\n",
    "                    batch_size=batch_size,\n",
    "                    epochs=epochs,\n",
    "                    verbose=1,\n",
    "                    validation_split=0.1,\n",
    "                    # validation_data=(x_test, y_test),\n",
    "                    callbacks=[early_stopping])"
   ]
  },
  {
   "cell_type": "code",
   "execution_count": 15,
   "metadata": {},
   "outputs": [
    {
     "data": {
      "image/png": "[encoded data removed]",
      "text/plain": [
       "<matplotlib.figure.Figure at 0x23f4033e908>"
      ]
     },
     "metadata": {},
     "output_type": "display_data"
    },
    {
     "data": {
      "image/png": "[encoded data removed]",
      "text/plain": [
       "<matplotlib.figure.Figure at 0x23f40e7b860>"
      ]
     },
     "metadata": {},
     "output_type": "display_data"
    }
   ],
   "source": [
    "# inspect the model\n",
    "\n",
    "from IPython.display import display\n",
    "import matplotlib.pyplot as plt\n",
    "%matplotlib inline\n",
    "\n",
    "def plot_history(hist):\n",
    "    plt.figure()\n",
    "    plt.xlabel(\"Epochs\")\n",
    "    plt.ylabel(\"Loss\")\n",
    "    plt.plot(hist.history['loss'])\n",
    "    plt.plot(hist.history['val_loss'])\n",
    "    plt.legend(['Training', 'Validation'])\n",
    "    # plt.savefig('loss.png', dpi=400)\n",
    "    \n",
    "    plt.figure()\n",
    "    plt.xlabel(\"Epochs\")\n",
    "    plt.ylabel(\"Accuracy\")\n",
    "    plt.plot(hist.history['acc'])\n",
    "    plt.plot(hist.history['val_acc'])\n",
    "    plt.legend(['Training', 'Validation'])\n",
    "    # plt.savefig('accuracy.png', dpi=400)\n",
    "        \n",
    "plot_history(history)"
   ]
  },
  {
   "cell_type": "code",
   "execution_count": 16,
   "metadata": {},
   "outputs": [
    {
     "name": "stdout",
     "output_type": "stream",
     "text": [
      "24672/25000 [============================>.] - ETA: 0sTest score: 0.632174825037\n",
      "Test accuracy: 0.87932\n"
     ]
    }
   ],
   "source": [
    "score, acc = model.evaluate(x_test, y_test,\n",
    "                            batch_size=batch_size)\n",
    "print('Test score:', score)\n",
    "print('Test accuracy:', acc)"
   ]
  },
  {
   "cell_type": "code",
   "execution_count": null,
   "metadata": {
    "collapsed": true
   },
   "outputs": [],
   "source": []
  },
  {
   "cell_type": "code",
   "execution_count": null,
   "metadata": {
    "collapsed": true
   },
   "outputs": [],
   "source": [
    "# Resources:\n",
    "# http://www.samyzaf.com/ML/imdb/imdb.html\n",
    "# https://medium.com/@thoszymkowiak/how-to-implement-sentiment-analysis-using-word-embedding-and-convolutional-neural-networks-on-keras-163197aef623"
   ]
  }
 ],
 "metadata": {
  "kernelspec": {
   "display_name": "Python 3",
   "language": "python",
   "name": "python3"
  },
  "language_info": {
   "codemirror_mode": {
    "name": "ipython",
    "version": 3
   },
   "file_extension": ".py",
   "mimetype": "text/x-python",
   "name": "python",
   "nbconvert_exporter": "python",
   "pygments_lexer": "ipython3",
   "version": "3.5.4"
  }
 },
 "nbformat": 4,
 "nbformat_minor": 2
}
